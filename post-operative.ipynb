{
 "cells": [
  {
   "cell_type": "markdown",
   "metadata": {},
   "source": [
    "# Post-operative prediction using Bayesian Networks\n",
    "FAIKR module 3 project, done by Michele Calvanese, Samuele Marino  "
   ]
  },
  {
   "cell_type": "markdown",
   "metadata": {},
   "source": [
    "## Introduction\n",
    "\n",
    "Postoperative patient care has several components: - surveillance, − prevention of complications associated with surgical disease or other preexisting comorbidities, − specific postoperative treatment of the surgical disease and its complications. While these distinctions are purely didactic, the postoperative care merges into an active surveillance with a higher level of standardization than it would seem at first glance.\n",
    "\n",
    "The goal of this project is to determine where patients in a postoperative recovery area should be sent to next. Because hypothermia is a significant concern after surgery, the attributes correspond roughly to body temperature measurements.\n",
    "\n",
    "Number of Instances: 90\n",
    "\n",
    "Number of Attributes: 9 including the decision (class attribute)\n",
    "\n",
    "Attribute Information:\n",
    "1. L-CORE (patient's internal temperature in C):\n",
    "              high (> 37), mid (>= 36 and <= 37), low (< 36)\n",
    "2. L-SURF (patient's surface temperature in C):\n",
    "              high (> 36.5), mid (>= 36.5 and <= 35), low (< 35)\n",
    "3. L-O2 (oxygen saturation in %):\n",
    "              excellent (>= 98), good (>= 90 and < 98),\n",
    "              fair (>= 80 and < 90), poor (< 80)\n",
    "4. L-BP (last measurement of blood pressure):\n",
    "              high (> 130/90), mid (<= 130/90 and >= 90/70), low (< 90/70)\n",
    "5. SURF-STBL (stability of patient's surface temperature):\n",
    "              stable, mod-stable, unstable\n",
    "6. CORE-STBL (stability of patient's core temperature)\n",
    "              stable, mod-stable, unstable\n",
    "7. BP-STBL (stability of patient's blood pressure)\n",
    "              stable, mod-stable, unstable\n",
    "8. COMFORT (patient's perceived comfort at discharge, measured as\n",
    "              an integer between 0 and 20)\n",
    "9. decision ADM-DECS (discharge decision):\n",
    "              I (patient sent to Intensive Care Unit),\n",
    "              S (patient prepared to go home),\n",
    "              A (patient sent to general hospital floor)\n",
    "\n",
    "\n",
    "Dataset [link](https://archive.ics.uci.edu/ml/datasets/Post-Operative+Patient)."
   ]
  },
  {
   "cell_type": "code",
   "execution_count": 233,
   "metadata": {},
   "outputs": [],
   "source": [
    "import pandas as pd\n",
    "import numpy as np\n",
    "import pgmpy\n",
    "import networkx as nx\n",
    "import pylab as plt\n",
    "from pgmpy.models import BayesianNetwork, BayesianModel\n",
    "from pgmpy.inference import VariableElimination\n",
    "from pgmpy.estimators import HillClimbSearch, BDsScore, K2Score, BicScore, BDeuScore, MaximumLikelihoodEstimator, BayesianEstimator\n",
    "import matplotlib.pyplot as plt\n",
    "from networkx.drawing.nx_pydot import graphviz_layout\n"
   ]
  },
  {
   "cell_type": "markdown",
   "metadata": {},
   "source": [
    "## Data cleaning and preparation\n",
    "\n",
    "All attributes were used for making the Bayesian Network model. Before creating the model, all the attributes need to be discretized, as the pgmpy library only works with discrete variables."
   ]
  },
  {
   "cell_type": "code",
   "execution_count": 234,
   "metadata": {},
   "outputs": [
    {
     "data": {
      "text/html": [
       "<div>\n",
       "<style scoped>\n",
       "    .dataframe tbody tr th:only-of-type {\n",
       "        vertical-align: middle;\n",
       "    }\n",
       "\n",
       "    .dataframe tbody tr th {\n",
       "        vertical-align: top;\n",
       "    }\n",
       "\n",
       "    .dataframe thead th {\n",
       "        text-align: right;\n",
       "    }\n",
       "</style>\n",
       "<table border=\"1\" class=\"dataframe\">\n",
       "  <thead>\n",
       "    <tr style=\"text-align: right;\">\n",
       "      <th></th>\n",
       "      <th>L-CORE</th>\n",
       "      <th>L-SURF</th>\n",
       "      <th>L-O2</th>\n",
       "      <th>L-BP</th>\n",
       "      <th>SURF-STBL</th>\n",
       "      <th>CORE-STBL</th>\n",
       "      <th>BP-STBL</th>\n",
       "      <th>COMFORT</th>\n",
       "      <th>ADM-DECS</th>\n",
       "    </tr>\n",
       "  </thead>\n",
       "  <tbody>\n",
       "    <tr>\n",
       "      <th>0</th>\n",
       "      <td>mid</td>\n",
       "      <td>low</td>\n",
       "      <td>excellent</td>\n",
       "      <td>mid</td>\n",
       "      <td>stable</td>\n",
       "      <td>stable</td>\n",
       "      <td>stable</td>\n",
       "      <td>15</td>\n",
       "      <td>A</td>\n",
       "    </tr>\n",
       "    <tr>\n",
       "      <th>1</th>\n",
       "      <td>mid</td>\n",
       "      <td>high</td>\n",
       "      <td>excellent</td>\n",
       "      <td>high</td>\n",
       "      <td>stable</td>\n",
       "      <td>stable</td>\n",
       "      <td>stable</td>\n",
       "      <td>10</td>\n",
       "      <td>S</td>\n",
       "    </tr>\n",
       "    <tr>\n",
       "      <th>2</th>\n",
       "      <td>high</td>\n",
       "      <td>low</td>\n",
       "      <td>excellent</td>\n",
       "      <td>high</td>\n",
       "      <td>stable</td>\n",
       "      <td>stable</td>\n",
       "      <td>mod-stable</td>\n",
       "      <td>10</td>\n",
       "      <td>A</td>\n",
       "    </tr>\n",
       "    <tr>\n",
       "      <th>3</th>\n",
       "      <td>mid</td>\n",
       "      <td>low</td>\n",
       "      <td>good</td>\n",
       "      <td>high</td>\n",
       "      <td>stable</td>\n",
       "      <td>unstable</td>\n",
       "      <td>mod-stable</td>\n",
       "      <td>15</td>\n",
       "      <td>A</td>\n",
       "    </tr>\n",
       "    <tr>\n",
       "      <th>4</th>\n",
       "      <td>mid</td>\n",
       "      <td>mid</td>\n",
       "      <td>excellent</td>\n",
       "      <td>high</td>\n",
       "      <td>stable</td>\n",
       "      <td>stable</td>\n",
       "      <td>stable</td>\n",
       "      <td>10</td>\n",
       "      <td>A</td>\n",
       "    </tr>\n",
       "  </tbody>\n",
       "</table>\n",
       "</div>"
      ],
      "text/plain": [
       "  L-CORE L-SURF       L-O2  L-BP SURF-STBL CORE-STBL     BP-STBL COMFORT  \\\n",
       "0    mid    low  excellent   mid    stable    stable      stable      15   \n",
       "1    mid   high  excellent  high    stable    stable      stable      10   \n",
       "2   high    low  excellent  high    stable    stable  mod-stable      10   \n",
       "3    mid    low       good  high    stable  unstable  mod-stable      15   \n",
       "4    mid    mid  excellent  high    stable    stable      stable      10   \n",
       "\n",
       "  ADM-DECS  \n",
       "0        A  \n",
       "1        S  \n",
       "2        A  \n",
       "3       A   \n",
       "4        A  "
      ]
     },
     "execution_count": 234,
     "metadata": {},
     "output_type": "execute_result"
    }
   ],
   "source": [
    "path = \"./Dataset/post-operative.data\"\n",
    "attributes = ['L-CORE', 'L-SURF', 'L-O2', 'L-BP', 'SURF-STBL', 'CORE-STBL', 'BP-STBL', 'COMFORT', 'ADM-DECS']\n",
    "data = pd.read_csv(path, sep=',', header=None, names=attributes)\n",
    "data.head()"
   ]
  },
  {
   "cell_type": "markdown",
   "metadata": {},
   "source": [
    "Verify the value of all attributes"
   ]
  },
  {
   "cell_type": "code",
   "execution_count": 235,
   "metadata": {},
   "outputs": [
    {
     "name": "stdout",
     "output_type": "stream",
     "text": [
      "L-CORE : ['mid' 'high' 'low']\n",
      "L-SURF : ['low' 'high' 'mid']\n",
      "L-O2 : ['excellent' 'good']\n",
      "L-BP : ['mid' 'high' 'low']\n",
      "SURF-STBL : ['stable' 'unstable']\n",
      "CORE-STBL : ['stable' 'unstable' 'mod-stable']\n",
      "BP-STBL : ['stable' 'mod-stable' 'unstable']\n",
      "COMFORT : ['15' '10' '05' '07' '?']\n",
      "ADM-DECS : ['A' 'S' 'A ' 'I']\n"
     ]
    }
   ],
   "source": [
    "for attribute in data.columns:\n",
    "    print(attribute, ':', data[attribute].unique())"
   ]
  },
  {
   "cell_type": "markdown",
   "metadata": {},
   "source": [
    "In attribute ``ADM-DECS`` there are same incorrect values. So i replace the 'A ' values with 'A'"
   ]
  },
  {
   "cell_type": "code",
   "execution_count": 236,
   "metadata": {},
   "outputs": [
    {
     "data": {
      "text/plain": [
       "array(['A', 'S', 'I'], dtype=object)"
      ]
     },
     "execution_count": 236,
     "metadata": {},
     "output_type": "execute_result"
    }
   ],
   "source": [
    "data = data.replace({'A ': 'A'})\n",
    "data['ADM-DECS'].unique()"
   ]
  },
  {
   "cell_type": "markdown",
   "metadata": {},
   "source": [
    "Also in ``COMFORT`` there are inconsistent value, for thise reason I remove all the row where '?' is present"
   ]
  },
  {
   "cell_type": "code",
   "execution_count": 237,
   "metadata": {},
   "outputs": [
    {
     "data": {
      "text/plain": [
       "['medium_range', 'normal_range', 'low_range']\n",
       "Categories (4, object): ['low_range' < 'normal_range' < 'medium_range' < 'high_range']"
      ]
     },
     "execution_count": 237,
     "metadata": {},
     "output_type": "execute_result"
    }
   ],
   "source": [
    "data = data.drop(data[data.COMFORT == '?'].index)\n",
    "\n",
    "data['COMFORT'] = pd.cut(x=data['COMFORT'].astype(int),\n",
    "                         bins=[0, 5, 10, 15, 20],\n",
    "                         labels=[\"low_range\", \"normal_range\", \"medium_range\", \"high_range\"])\n",
    "\n",
    "data['COMFORT'].unique()"
   ]
  },
  {
   "cell_type": "markdown",
   "metadata": {},
   "source": [
    "Before modifying the variables, dataset is checked for the presence of N/A values."
   ]
  },
  {
   "cell_type": "code",
   "execution_count": 238,
   "metadata": {},
   "outputs": [
    {
     "data": {
      "text/plain": [
       "L-CORE       0\n",
       "L-SURF       0\n",
       "L-O2         0\n",
       "L-BP         0\n",
       "SURF-STBL    0\n",
       "CORE-STBL    0\n",
       "BP-STBL      0\n",
       "COMFORT      0\n",
       "ADM-DECS     0\n",
       "dtype: int64"
      ]
     },
     "execution_count": 238,
     "metadata": {},
     "output_type": "execute_result"
    }
   ],
   "source": [
    "data.isnull().sum()"
   ]
  },
  {
   "cell_type": "markdown",
   "metadata": {},
   "source": [
    "So there is no N/A values\n",
    "\n",
    "Show the number of samples after the cline up"
   ]
  },
  {
   "cell_type": "code",
   "execution_count": 239,
   "metadata": {},
   "outputs": [
    {
     "data": {
      "text/plain": [
       "(87, 9)"
      ]
     },
     "execution_count": 239,
     "metadata": {},
     "output_type": "execute_result"
    }
   ],
   "source": [
    "data.shape"
   ]
  },
  {
   "cell_type": "code",
   "execution_count": 240,
   "metadata": {},
   "outputs": [
    {
     "data": {
      "text/html": [
       "<div>\n",
       "<style scoped>\n",
       "    .dataframe tbody tr th:only-of-type {\n",
       "        vertical-align: middle;\n",
       "    }\n",
       "\n",
       "    .dataframe tbody tr th {\n",
       "        vertical-align: top;\n",
       "    }\n",
       "\n",
       "    .dataframe thead th {\n",
       "        text-align: right;\n",
       "    }\n",
       "</style>\n",
       "<table border=\"1\" class=\"dataframe\">\n",
       "  <thead>\n",
       "    <tr style=\"text-align: right;\">\n",
       "      <th></th>\n",
       "      <th>L-CORE</th>\n",
       "      <th>L-SURF</th>\n",
       "      <th>L-O2</th>\n",
       "      <th>L-BP</th>\n",
       "      <th>SURF-STBL</th>\n",
       "      <th>CORE-STBL</th>\n",
       "      <th>BP-STBL</th>\n",
       "      <th>COMFORT</th>\n",
       "      <th>ADM-DECS</th>\n",
       "    </tr>\n",
       "  </thead>\n",
       "  <tbody>\n",
       "    <tr>\n",
       "      <th>0</th>\n",
       "      <td>mid</td>\n",
       "      <td>low</td>\n",
       "      <td>excellent</td>\n",
       "      <td>mid</td>\n",
       "      <td>stable</td>\n",
       "      <td>stable</td>\n",
       "      <td>stable</td>\n",
       "      <td>medium_range</td>\n",
       "      <td>A</td>\n",
       "    </tr>\n",
       "    <tr>\n",
       "      <th>1</th>\n",
       "      <td>mid</td>\n",
       "      <td>high</td>\n",
       "      <td>excellent</td>\n",
       "      <td>high</td>\n",
       "      <td>stable</td>\n",
       "      <td>stable</td>\n",
       "      <td>stable</td>\n",
       "      <td>normal_range</td>\n",
       "      <td>S</td>\n",
       "    </tr>\n",
       "    <tr>\n",
       "      <th>2</th>\n",
       "      <td>high</td>\n",
       "      <td>low</td>\n",
       "      <td>excellent</td>\n",
       "      <td>high</td>\n",
       "      <td>stable</td>\n",
       "      <td>stable</td>\n",
       "      <td>mod-stable</td>\n",
       "      <td>normal_range</td>\n",
       "      <td>A</td>\n",
       "    </tr>\n",
       "    <tr>\n",
       "      <th>3</th>\n",
       "      <td>mid</td>\n",
       "      <td>low</td>\n",
       "      <td>good</td>\n",
       "      <td>high</td>\n",
       "      <td>stable</td>\n",
       "      <td>unstable</td>\n",
       "      <td>mod-stable</td>\n",
       "      <td>medium_range</td>\n",
       "      <td>A</td>\n",
       "    </tr>\n",
       "    <tr>\n",
       "      <th>4</th>\n",
       "      <td>mid</td>\n",
       "      <td>mid</td>\n",
       "      <td>excellent</td>\n",
       "      <td>high</td>\n",
       "      <td>stable</td>\n",
       "      <td>stable</td>\n",
       "      <td>stable</td>\n",
       "      <td>normal_range</td>\n",
       "      <td>A</td>\n",
       "    </tr>\n",
       "  </tbody>\n",
       "</table>\n",
       "</div>"
      ],
      "text/plain": [
       "  L-CORE L-SURF       L-O2  L-BP SURF-STBL CORE-STBL     BP-STBL  \\\n",
       "0    mid    low  excellent   mid    stable    stable      stable   \n",
       "1    mid   high  excellent  high    stable    stable      stable   \n",
       "2   high    low  excellent  high    stable    stable  mod-stable   \n",
       "3    mid    low       good  high    stable  unstable  mod-stable   \n",
       "4    mid    mid  excellent  high    stable    stable      stable   \n",
       "\n",
       "        COMFORT ADM-DECS  \n",
       "0  medium_range        A  \n",
       "1  normal_range        S  \n",
       "2  normal_range        A  \n",
       "3  medium_range        A  \n",
       "4  normal_range        A  "
      ]
     },
     "execution_count": 240,
     "metadata": {},
     "output_type": "execute_result"
    }
   ],
   "source": [
    "data.head()"
   ]
  },
  {
   "cell_type": "markdown",
   "metadata": {},
   "source": [
    "##  Bayesian Network"
   ]
  },
  {
   "cell_type": "markdown",
   "metadata": {},
   "source": [
    "### Learning the structure of the network and analyzing it \n",
    "\n",
    "One option for defining the structure of the network would be to manually add the nodes and connections between them. Knowing the connections between nodes requires having a sufficient knowledge about the field of application in order to be able to define conditional independence assertions. \n",
    "\n",
    "Luckily, pgmpy library offers many ways for learning a structure for discrete, fully observed networks. Given a set of data samples, the algorithm estimates a directed acyclic graph that captures dependencies between the variables. We will use Score-based structure estimation that learns the model as an optimization task, and which lets the programmer choose a search strategy and a scoring function which will be used.\n",
    "\n",
    "Some of the available search strategies are:\n",
    "\n",
    "- Exhaustive search\n",
    "- Hill Climb search\n",
    "\n",
    "The search space is super-exponential in the number of variables, which is the reason why Exhaustive search wasn't chosen for this particular project. However, for a very small number of nodes, it is guaranteed to find the best-scoring graph. When networks are bigger it is better to use Hill Climb search, which implements a greedy local search starting usually from a disconnected graph. In every iteration it makes one change on edges of the graph that maximally increases the score.\n",
    "\n",
    "However, this approach often leads to inconsistent results: the node ADM-DECS may have exiting edges (which we do not want, because this is the attribute we want to predict), or multiple disconnected graphs may be found. We therefore remove all the edges that have ADM-DECS as parent and the ones that have Age as child. In addition, according to scientific medical sources [[link1](https://www.intechopen.com/chapters/76686), [link2](https://www.ncbi.nlm.nih.gov/pmc/articles/PMC2582826/), [link3](https://bmcnurs.biomedcentral.com/articles/10.1186/1472-6955-11-24)], we force the learning algorithm to include the following edges in the network: ('BP-STBL', 'ADM-DECS'), ('L-O2', 'ADM-DECS'), ('SURF-STBL', 'ADM-DECS').\n"
   ]
  },
  {
   "cell_type": "code",
   "execution_count": 241,
   "metadata": {},
   "outputs": [
    {
     "name": "stderr",
     "output_type": "stream",
     "text": [
      "  0%|          | 6/1000000 [00:01<77:33:27,  3.58it/s] \n"
     ]
    }
   ],
   "source": [
    "black_list = [('ADM-DECS', attribute) for attribute in data.columns[:-1]]\n",
    "fixed_attributes = ['BP-STBL', 'L-O2', 'SURF-STBL']\n",
    "fixed_edges = [(attribute, 'ADM-DECS') for attribute in fixed_attributes]\n",
    "\n",
    "\n",
    "#learning the stucutre of the network\n",
    "est = HillClimbSearch(data, use_cache=False)\n",
    "best_model = est.estimate(scoring_method=K2Score(data),\n",
    "                          black_list=black_list,\n",
    "                          fixed_edges=fixed_edges\n",
    "                          )\n"
   ]
  },
  {
   "cell_type": "code",
   "execution_count": 242,
   "metadata": {},
   "outputs": [
    {
     "data": {
      "text/plain": [
       "NodeView(('L-CORE', 'BP-STBL', 'L-SURF', 'SURF-STBL', 'L-O2', 'ADM-DECS', 'L-BP', 'CORE-STBL', 'COMFORT'))"
      ]
     },
     "execution_count": 242,
     "metadata": {},
     "output_type": "execute_result"
    }
   ],
   "source": [
    "#the estimated model returns a DAG at a (local) score maximum\n",
    "edges = list(best_model.edges())\n",
    "model = BayesianNetwork(edges)\n",
    "\n",
    "#nodes of the model\n",
    "model.nodes"
   ]
  },
  {
   "cell_type": "code",
   "execution_count": 243,
   "metadata": {},
   "outputs": [
    {
     "data": {
      "text/plain": [
       "OutEdgeView([('L-CORE', 'BP-STBL'), ('BP-STBL', 'ADM-DECS'), ('L-SURF', 'SURF-STBL'), ('SURF-STBL', 'ADM-DECS'), ('L-O2', 'ADM-DECS'), ('L-BP', 'BP-STBL'), ('CORE-STBL', 'SURF-STBL'), ('CORE-STBL', 'L-O2'), ('COMFORT', 'L-O2')])"
      ]
     },
     "execution_count": 243,
     "metadata": {},
     "output_type": "execute_result"
    }
   ],
   "source": [
    "#edges of the model\n",
    "model.edges"
   ]
  },
  {
   "cell_type": "code",
   "execution_count": 244,
   "metadata": {},
   "outputs": [
    {
     "data": {
      "image/png": "[encoded data removed]",
      "text/plain": [
       "<Figure size 1152x576 with 1 Axes>"
      ]
     },
     "metadata": {},
     "output_type": "display_data"
    }
   ],
   "source": [
    "pos = graphviz_layout(model, prog=\"dot\")\n",
    "plt.figure(figsize=(16, 8))\n",
    "nx.draw(model, with_labels=True, pos=pos, node_size=3000, node_color=\"green\")\n",
    "plt.savefig('model.png')\n",
    "plt.show()"
   ]
  },
  {
   "cell_type": "markdown",
   "metadata": {},
   "source": [
    "### Learning the parameters of the network\n",
    "\n",
    "As mentioned before, pgmpy currently supports parameter learning only for networks with discrete nodes. There are 2 available methods for determining the values of the conditional probability distributions:\n",
    "- Maximum Likelihood estimation.\n",
    "\n",
    "       This method uses relative frequencies for estimating conditional probabilities. However, in case of small datasets it is prone to overfitting.\n",
    "- Bayesian estimation.\n",
    "\n",
    "       On the other hand, Bayesian estimator assumes prior CPDs on variables and then updates them using state counts from observed data.\n",
    "Because our dataset has only 116 samples we use __Bayesian estimation__"
   ]
  },
  {
   "cell_type": "code",
   "execution_count": 245,
   "metadata": {},
   "outputs": [
    {
     "name": "stdout",
     "output_type": "stream",
     "text": [
      "CPT of L-CORE:\n",
      "+--------------+----------+\n",
      "| L-CORE(high) | 0.148551 |\n",
      "+--------------+----------+\n",
      "| L-CORE(low)  | 0.213768 |\n",
      "+--------------+----------+\n",
      "| L-CORE(mid)  | 0.637681 |\n",
      "+--------------+----------+ \n",
      "\n",
      " ================================================================================ \n",
      "\n",
      "CPT of BP-STBL:\n",
      "+---------------------+-----+---------------------+\n",
      "| L-BP                | ... | L-BP(mid)           |\n",
      "+---------------------+-----+---------------------+\n",
      "| L-CORE              | ... | L-CORE(mid)         |\n",
      "+---------------------+-----+---------------------+\n",
      "| BP-STBL(mod-stable) | ... | 0.19132149901380668 |\n",
      "+---------------------+-----+---------------------+\n",
      "| BP-STBL(stable)     | ... | 0.5374753451676528  |\n",
      "+---------------------+-----+---------------------+\n",
      "| BP-STBL(unstable)   | ... | 0.27120315581854043 |\n",
      "+---------------------+-----+---------------------+ \n",
      "\n",
      " ================================================================================ \n",
      "\n",
      "CPT of L-SURF:\n",
      "+--------------+----------+\n",
      "| L-SURF(high) | 0.192029 |\n",
      "+--------------+----------+\n",
      "| L-SURF(low)  | 0.278986 |\n",
      "+--------------+----------+\n",
      "| L-SURF(mid)  | 0.528986 |\n",
      "+--------------+----------+ \n",
      "\n",
      " ================================================================================ \n",
      "\n",
      "CPT of SURF-STBL:\n",
      "+---------------------+-----+---------------------+\n",
      "| CORE-STBL           | ... | CORE-STBL(unstable) |\n",
      "+---------------------+-----+---------------------+\n",
      "| L-SURF              | ... | L-SURF(mid)         |\n",
      "+---------------------+-----+---------------------+\n",
      "| SURF-STBL(stable)   | ... | 0.07812500000000001 |\n",
      "+---------------------+-----+---------------------+\n",
      "| SURF-STBL(unstable) | ... | 0.921875            |\n",
      "+---------------------+-----+---------------------+ \n",
      "\n",
      " ================================================================================ \n",
      "\n",
      "CPT of L-O2:\n",
      "+-----------------+-----+-----------------------+\n",
      "| COMFORT         | ... | COMFORT(normal_range) |\n",
      "+-----------------+-----+-----------------------+\n",
      "| CORE-STBL       | ... | CORE-STBL(unstable)   |\n",
      "+-----------------+-----+-----------------------+\n",
      "| L-O2(excellent) | ... | 0.921875              |\n",
      "+-----------------+-----+-----------------------+\n",
      "| L-O2(good)      | ... | 0.07812500000000001   |\n",
      "+-----------------+-----+-----------------------+ \n",
      "\n",
      " ================================================================================ \n",
      "\n",
      "CPT of ADM-DECS:\n",
      "+-------------+-----+---------------------+\n",
      "| BP-STBL     | ... | BP-STBL(unstable)   |\n",
      "+-------------+-----+---------------------+\n",
      "| L-O2        | ... | L-O2(good)          |\n",
      "+-------------+-----+---------------------+\n",
      "| SURF-STBL   | ... | SURF-STBL(unstable) |\n",
      "+-------------+-----+---------------------+\n",
      "| ADM-DECS(A) | ... | 0.6450216450216449  |\n",
      "+-------------+-----+---------------------+\n",
      "| ADM-DECS(I) | ... | 0.02164502164502164 |\n",
      "+-------------+-----+---------------------+\n",
      "| ADM-DECS(S) | ... | 0.33333333333333326 |\n",
      "+-------------+-----+---------------------+ \n",
      "\n",
      " ================================================================================ \n",
      "\n",
      "CPT of L-BP:\n",
      "+------------+-----------+\n",
      "| L-BP(high) | 0.322464  |\n",
      "+------------+-----------+\n",
      "| L-BP(low)  | 0.0507246 |\n",
      "+------------+-----------+\n",
      "| L-BP(mid)  | 0.626812  |\n",
      "+------------+-----------+ \n",
      "\n",
      " ================================================================================ \n",
      "\n",
      "CPT of CORE-STBL:\n",
      "+-----------------------+-----------+\n",
      "| CORE-STBL(mod-stable) | 0.0289855 |\n",
      "+-----------------------+-----------+\n",
      "| CORE-STBL(stable)     | 0.898551  |\n",
      "+-----------------------+-----------+\n",
      "| CORE-STBL(unstable)   | 0.0724638 |\n",
      "+-----------------------+-----------+ \n",
      "\n",
      " ================================================================================ \n",
      "\n",
      "CPT of COMFORT:\n",
      "+-----------------------+-----------+\n",
      "| COMFORT(low_range)    | 0.0398551 |\n",
      "+-----------------------+-----------+\n",
      "| COMFORT(medium_range) | 0.224638  |\n",
      "+-----------------------+-----------+\n",
      "| COMFORT(normal_range) | 0.735507  |\n",
      "+-----------------------+-----------+ \n",
      "\n",
      " ================================================================================ \n",
      "\n"
     ]
    }
   ],
   "source": [
    "model.fit(data=data, estimator=BayesianEstimator, prior_type=\"BDeu\")\n",
    "\n",
    "for cpd in model.get_cpds():\n",
    "    print(f'CPT of {cpd.variable}:')\n",
    "    print(cpd, 2*'\\n', 80*\"=\", '\\n')\n"
   ]
  },
  {
   "cell_type": "markdown",
   "metadata": {},
   "source": [
    "Checking if it has errors"
   ]
  },
  {
   "cell_type": "code",
   "execution_count": 246,
   "metadata": {},
   "outputs": [
    {
     "data": {
      "text/plain": [
       "True"
      ]
     },
     "execution_count": 246,
     "metadata": {},
     "output_type": "execute_result"
    }
   ],
   "source": [
    "model.check_model()"
   ]
  },
  {
   "cell_type": "markdown",
   "metadata": {},
   "source": [
    "Cardinality of all model nodes"
   ]
  },
  {
   "cell_type": "code",
   "execution_count": 247,
   "metadata": {},
   "outputs": [
    {
     "data": {
      "text/plain": [
       "defaultdict(int,\n",
       "            {'L-CORE': 3,\n",
       "             'BP-STBL': 3,\n",
       "             'L-SURF': 3,\n",
       "             'SURF-STBL': 2,\n",
       "             'L-O2': 2,\n",
       "             'ADM-DECS': 3,\n",
       "             'L-BP': 3,\n",
       "             'CORE-STBL': 3,\n",
       "             'COMFORT': 3})"
      ]
     },
     "execution_count": 247,
     "metadata": {},
     "output_type": "execute_result"
    }
   ],
   "source": [
    "model.get_cardinality()"
   ]
  },
  {
   "cell_type": "markdown",
   "metadata": {},
   "source": [
    "Checking the markov blanket for Classification  and Glucose"
   ]
  },
  {
   "cell_type": "code",
   "execution_count": 248,
   "metadata": {},
   "outputs": [
    {
     "name": "stdout",
     "output_type": "stream",
     "text": [
      "Markov blanket for variable:\n",
      "ADM-DECS:  ['L-O2', 'SURF-STBL', 'BP-STBL']\n",
      "L-O2:  ['BP-STBL', 'SURF-STBL', 'CORE-STBL', 'COMFORT', 'ADM-DECS']\n"
     ]
    }
   ],
   "source": [
    "print(\"Markov blanket for variable:\")\n",
    "print(\"ADM-DECS: \", model.get_markov_blanket(\"ADM-DECS\"))\n",
    "print(\"L-O2: \", model.get_markov_blanket(\"L-O2\"))"
   ]
  }
 ],
 "metadata": {
  "kernelspec": {
   "display_name": "Python 3.9.12 ('FAIKR3')",
   "language": "python",
   "name": "python3"
  },
  "language_info": {
   "codemirror_mode": {
    "name": "ipython",
    "version": 3
   },
   "file_extension": ".py",
   "mimetype": "text/x-python",
   "name": "python",
   "nbconvert_exporter": "python",
   "pygments_lexer": "ipython3",
   "version": "3.9.12"
  },
  "orig_nbformat": 4,
  "vscode": {
   "interpreter": {
    "hash": "b1271c15daf27ce1261d6a1134f79b209dab52771e7f933454657a66d1b3a73a"
   }
  }
 },
 "nbformat": 4,
 "nbformat_minor": 2
}
