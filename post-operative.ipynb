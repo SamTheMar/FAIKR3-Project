{
 "cells": [
  {
   "cell_type": "markdown",
   "metadata": {},
   "source": [
    "# Post-operative prediction using Bayesian Networks\n",
    "FAIKR module 3 project.\n",
    "\n",
    "Authors:\n",
    " - Michele Calvanese\n",
    " - Samuele Marino"
   ]
  },
  {
   "cell_type": "markdown",
   "metadata": {},
   "source": [
    "## Introduction\n",
    "\n",
    "Postoperative patient care has several components: - surveillance, − prevention of complications associated with surgical disease or other preexisting comorbidities, − specific postoperative treatment of the surgical disease and its complications. While these distinctions are purely didactic, the postoperative care merges into an active surveillance with a higher level of standardization than it would seem at first glance.\n",
    "\n",
    "The goal of this project is to determine where patients in a postoperative recovery area should be sent to next. Because hypothermia is a significant concern after surgery, the attributes correspond roughly to body temperature measurements.\n",
    "\n",
    "Number of Instances: 90\n",
    "\n",
    "Number of Attributes: 9 including the decision (class attribute)\n",
    "\n",
    "Attribute Information:\n",
    "\n",
    "1. ``L-CORE`` (patient's internal temperature in C):\n",
    "            \n",
    "            high (> 37), mid (>= 36 and <= 37), low (< 36)\n",
    "2. ``L-SURF`` (patient's surface temperature in C):\n",
    "              \n",
    "              high (> 36.5), mid (>= 36.5 and <= 35), low (< 35)\n",
    "3. ``L-O2`` (oxygen saturation in %):\n",
    "              \n",
    "              excellent (>= 98), good (>= 90 and < 98),\n",
    "              fair (>= 80 and < 90), poor (< 80)\n",
    "4. ``L-BP`` (last measurement of blood pressure):\n",
    "              \n",
    "              high (> 130/90), mid (<= 130/90 and >= 90/70), low (< 90/70)\n",
    "5. ``SURF-STBL`` (stability of patient's surface temperature):\n",
    "              \n",
    "              stable, mod-stable, unstable\n",
    "6. ``CORE-STBL`` (stability of patient's core temperature)\n",
    "              \n",
    "              stable, mod-stable, unstable\n",
    "7. ``BP-STBL`` (stability of patient's blood pressure)\n",
    "              \n",
    "              stable, mod-stable, unstable\n",
    "8. ``COMFORT`` (patient's perceived comfort at discharge, measured as\n",
    "              \n",
    "              an integer between 0 and 20)\n",
    "9. ``ADM-DECS`` (discharge decision):\n",
    "              \n",
    "              I (patient sent to Intensive Care Unit),\n",
    "              S (patient prepared to go home),\n",
    "              A (patient sent to general hospital floor)\n",
    "\n",
    "Class Distribution:\n",
    "     \n",
    "     I (2)\n",
    "     S (24)\n",
    "     A (64)\n",
    "\n",
    "\n",
    "Dataset [link](https://archive.ics.uci.edu/ml/datasets/Post-Operative+Patient)."
   ]
  },
  {
   "cell_type": "code",
   "execution_count": 1,
   "metadata": {},
   "outputs": [],
   "source": [
    "import pandas as pd\n",
    "import networkx as nx\n",
    "import pylab as plt\n",
    "from pgmpy.models import BayesianNetwork\n",
    "from pgmpy.inference import VariableElimination, ApproxInference\n",
    "from pgmpy.sampling import BayesianModelSampling\n",
    "from pgmpy.estimators import HillClimbSearch, K2Score, BayesianEstimator\n",
    "import matplotlib.pyplot as plt\n",
    "from networkx.drawing.nx_pydot import graphviz_layout\n",
    "from time import time"
   ]
  },
  {
   "cell_type": "markdown",
   "metadata": {},
   "source": [
    "## Data cleaning and preparation\n",
    "\n",
    "All attributes were used for making the Bayesian Network model. Before creating the model, all the attributes need to be discretized, as the ``pgmpy`` library only works with discrete variables."
   ]
  },
  {
   "cell_type": "code",
   "execution_count": 2,
   "metadata": {},
   "outputs": [
    {
     "data": {
      "text/html": [
       "<div>\n",
       "<style scoped>\n",
       "    .dataframe tbody tr th:only-of-type {\n",
       "        vertical-align: middle;\n",
       "    }\n",
       "\n",
       "    .dataframe tbody tr th {\n",
       "        vertical-align: top;\n",
       "    }\n",
       "\n",
       "    .dataframe thead th {\n",
       "        text-align: right;\n",
       "    }\n",
       "</style>\n",
       "<table border=\"1\" class=\"dataframe\">\n",
       "  <thead>\n",
       "    <tr style=\"text-align: right;\">\n",
       "      <th></th>\n",
       "      <th>L-CORE</th>\n",
       "      <th>L-SURF</th>\n",
       "      <th>L-O2</th>\n",
       "      <th>L-BP</th>\n",
       "      <th>SURF-STBL</th>\n",
       "      <th>CORE-STBL</th>\n",
       "      <th>BP-STBL</th>\n",
       "      <th>COMFORT</th>\n",
       "      <th>ADM-DECS</th>\n",
       "    </tr>\n",
       "  </thead>\n",
       "  <tbody>\n",
       "    <tr>\n",
       "      <th>0</th>\n",
       "      <td>mid</td>\n",
       "      <td>low</td>\n",
       "      <td>excellent</td>\n",
       "      <td>mid</td>\n",
       "      <td>stable</td>\n",
       "      <td>stable</td>\n",
       "      <td>stable</td>\n",
       "      <td>15</td>\n",
       "      <td>A</td>\n",
       "    </tr>\n",
       "    <tr>\n",
       "      <th>1</th>\n",
       "      <td>mid</td>\n",
       "      <td>high</td>\n",
       "      <td>excellent</td>\n",
       "      <td>high</td>\n",
       "      <td>stable</td>\n",
       "      <td>stable</td>\n",
       "      <td>stable</td>\n",
       "      <td>10</td>\n",
       "      <td>S</td>\n",
       "    </tr>\n",
       "    <tr>\n",
       "      <th>2</th>\n",
       "      <td>high</td>\n",
       "      <td>low</td>\n",
       "      <td>excellent</td>\n",
       "      <td>high</td>\n",
       "      <td>stable</td>\n",
       "      <td>stable</td>\n",
       "      <td>mod-stable</td>\n",
       "      <td>10</td>\n",
       "      <td>A</td>\n",
       "    </tr>\n",
       "    <tr>\n",
       "      <th>3</th>\n",
       "      <td>mid</td>\n",
       "      <td>low</td>\n",
       "      <td>good</td>\n",
       "      <td>high</td>\n",
       "      <td>stable</td>\n",
       "      <td>unstable</td>\n",
       "      <td>mod-stable</td>\n",
       "      <td>15</td>\n",
       "      <td>A</td>\n",
       "    </tr>\n",
       "    <tr>\n",
       "      <th>4</th>\n",
       "      <td>mid</td>\n",
       "      <td>mid</td>\n",
       "      <td>excellent</td>\n",
       "      <td>high</td>\n",
       "      <td>stable</td>\n",
       "      <td>stable</td>\n",
       "      <td>stable</td>\n",
       "      <td>10</td>\n",
       "      <td>A</td>\n",
       "    </tr>\n",
       "  </tbody>\n",
       "</table>\n",
       "</div>"
      ],
      "text/plain": [
       "  L-CORE L-SURF       L-O2  L-BP SURF-STBL CORE-STBL     BP-STBL COMFORT  \\\n",
       "0    mid    low  excellent   mid    stable    stable      stable      15   \n",
       "1    mid   high  excellent  high    stable    stable      stable      10   \n",
       "2   high    low  excellent  high    stable    stable  mod-stable      10   \n",
       "3    mid    low       good  high    stable  unstable  mod-stable      15   \n",
       "4    mid    mid  excellent  high    stable    stable      stable      10   \n",
       "\n",
       "  ADM-DECS  \n",
       "0        A  \n",
       "1        S  \n",
       "2        A  \n",
       "3       A   \n",
       "4        A  "
      ]
     },
     "execution_count": 2,
     "metadata": {},
     "output_type": "execute_result"
    }
   ],
   "source": [
    "path = \"./Dataset/post-operative.data\"\n",
    "attributes = ['L-CORE', 'L-SURF', 'L-O2', 'L-BP', 'SURF-STBL', 'CORE-STBL', 'BP-STBL', 'COMFORT', 'ADM-DECS']\n",
    "data = pd.read_csv(path, sep=',', header=None, names=attributes)\n",
    "data.head()"
   ]
  },
  {
   "cell_type": "markdown",
   "metadata": {},
   "source": [
    "Verify the value of all attributes:"
   ]
  },
  {
   "cell_type": "code",
   "execution_count": 3,
   "metadata": {},
   "outputs": [
    {
     "name": "stdout",
     "output_type": "stream",
     "text": [
      "L-CORE : ['mid' 'high' 'low']\n",
      "L-SURF : ['low' 'high' 'mid']\n",
      "L-O2 : ['excellent' 'good']\n",
      "L-BP : ['mid' 'high' 'low']\n",
      "SURF-STBL : ['stable' 'unstable']\n",
      "CORE-STBL : ['stable' 'unstable' 'mod-stable']\n",
      "BP-STBL : ['stable' 'mod-stable' 'unstable']\n",
      "COMFORT : ['15' '10' '05' '07' '?']\n",
      "ADM-DECS : ['A' 'S' 'A ' 'I']\n"
     ]
    }
   ],
   "source": [
    "for attribute in data.columns:\n",
    "    print(attribute, ':', data[attribute].unique())"
   ]
  },
  {
   "cell_type": "markdown",
   "metadata": {},
   "source": [
    "In attribute ``ADM-DECS`` there are some occurrences of the value ``'A'`` that are written incorrectly with a trailing space. We therefore replace the incorrect occurrences of ``'A '`` with ``'A'``."
   ]
  },
  {
   "cell_type": "code",
   "execution_count": 4,
   "metadata": {},
   "outputs": [
    {
     "data": {
      "text/plain": [
       "array(['A', 'S', 'I'], dtype=object)"
      ]
     },
     "execution_count": 4,
     "metadata": {},
     "output_type": "execute_result"
    }
   ],
   "source": [
    "data = data.replace({'A ': 'A'})\n",
    "data['ADM-DECS'].unique()"
   ]
  },
  {
   "cell_type": "markdown",
   "metadata": {},
   "source": [
    "Also in ``COMFORT`` there are inconsistent values. For this reason, we remove all the rows where ``'?'`` is present. In addition, we discretize the values of ``COMFORT`` into bins."
   ]
  },
  {
   "cell_type": "code",
   "execution_count": 5,
   "metadata": {},
   "outputs": [
    {
     "data": {
      "text/plain": [
       "['high', 'mid', 'low']\n",
       "Categories (4, object): ['low' < 'mid' < 'high' < 'excellent']"
      ]
     },
     "execution_count": 5,
     "metadata": {},
     "output_type": "execute_result"
    }
   ],
   "source": [
    "data = data.drop(data[data.COMFORT == '?'].index)\n",
    "\n",
    "data['COMFORT'] = pd.cut(x=data['COMFORT'].astype(int),\n",
    "                         bins=[0, 5, 10, 15, 20],\n",
    "                         labels=[\"low\", \"mid\", \"high\", \"excellent\"])\n",
    "data['COMFORT'].unique()"
   ]
  },
  {
   "cell_type": "markdown",
   "metadata": {},
   "source": [
    "Before modifying the variables, the dataset is checked for the presence of ``N/A`` values."
   ]
  },
  {
   "cell_type": "code",
   "execution_count": 6,
   "metadata": {},
   "outputs": [
    {
     "data": {
      "text/plain": [
       "L-CORE       0\n",
       "L-SURF       0\n",
       "L-O2         0\n",
       "L-BP         0\n",
       "SURF-STBL    0\n",
       "CORE-STBL    0\n",
       "BP-STBL      0\n",
       "COMFORT      0\n",
       "ADM-DECS     0\n",
       "dtype: int64"
      ]
     },
     "execution_count": 6,
     "metadata": {},
     "output_type": "execute_result"
    }
   ],
   "source": [
    "data.isnull().sum()"
   ]
  },
  {
   "cell_type": "markdown",
   "metadata": {},
   "source": [
    "So there are no ``N/A`` values.\n",
    "\n",
    "After the cleanup, we show the number of samples and the new unique attributes:"
   ]
  },
  {
   "cell_type": "code",
   "execution_count": 7,
   "metadata": {},
   "outputs": [
    {
     "name": "stdout",
     "output_type": "stream",
     "text": [
      "Number of samples: 87\n",
      "Number of attributes: 9\n",
      "\n",
      "Attribute values:\n",
      "L-CORE : ['mid' 'high' 'low']\n",
      "L-SURF : ['low' 'high' 'mid']\n",
      "L-O2 : ['excellent' 'good']\n",
      "L-BP : ['mid' 'high' 'low']\n",
      "SURF-STBL : ['stable' 'unstable']\n",
      "CORE-STBL : ['stable' 'unstable' 'mod-stable']\n",
      "BP-STBL : ['stable' 'mod-stable' 'unstable']\n",
      "COMFORT : ['high', 'mid', 'low']\n",
      "Categories (4, object): ['low' < 'mid' < 'high' < 'excellent']\n",
      "ADM-DECS : ['A' 'S' 'I']\n"
     ]
    }
   ],
   "source": [
    "print(f\"Number of samples: {data.shape[0]}\")\n",
    "print(f\"Number of attributes: {data.shape[1]}\")\n",
    "\n",
    "print(\"\\nAttribute values:\")\n",
    "for attribute in data.columns:\n",
    "    print(attribute, ':', data[attribute].unique())"
   ]
  },
  {
   "cell_type": "code",
   "execution_count": 8,
   "metadata": {},
   "outputs": [
    {
     "data": {
      "text/html": [
       "<div>\n",
       "<style scoped>\n",
       "    .dataframe tbody tr th:only-of-type {\n",
       "        vertical-align: middle;\n",
       "    }\n",
       "\n",
       "    .dataframe tbody tr th {\n",
       "        vertical-align: top;\n",
       "    }\n",
       "\n",
       "    .dataframe thead th {\n",
       "        text-align: right;\n",
       "    }\n",
       "</style>\n",
       "<table border=\"1\" class=\"dataframe\">\n",
       "  <thead>\n",
       "    <tr style=\"text-align: right;\">\n",
       "      <th></th>\n",
       "      <th>L-CORE</th>\n",
       "      <th>L-SURF</th>\n",
       "      <th>L-O2</th>\n",
       "      <th>L-BP</th>\n",
       "      <th>SURF-STBL</th>\n",
       "      <th>CORE-STBL</th>\n",
       "      <th>BP-STBL</th>\n",
       "      <th>COMFORT</th>\n",
       "      <th>ADM-DECS</th>\n",
       "    </tr>\n",
       "  </thead>\n",
       "  <tbody>\n",
       "    <tr>\n",
       "      <th>0</th>\n",
       "      <td>mid</td>\n",
       "      <td>low</td>\n",
       "      <td>excellent</td>\n",
       "      <td>mid</td>\n",
       "      <td>stable</td>\n",
       "      <td>stable</td>\n",
       "      <td>stable</td>\n",
       "      <td>high</td>\n",
       "      <td>A</td>\n",
       "    </tr>\n",
       "    <tr>\n",
       "      <th>1</th>\n",
       "      <td>mid</td>\n",
       "      <td>high</td>\n",
       "      <td>excellent</td>\n",
       "      <td>high</td>\n",
       "      <td>stable</td>\n",
       "      <td>stable</td>\n",
       "      <td>stable</td>\n",
       "      <td>mid</td>\n",
       "      <td>S</td>\n",
       "    </tr>\n",
       "    <tr>\n",
       "      <th>2</th>\n",
       "      <td>high</td>\n",
       "      <td>low</td>\n",
       "      <td>excellent</td>\n",
       "      <td>high</td>\n",
       "      <td>stable</td>\n",
       "      <td>stable</td>\n",
       "      <td>mod-stable</td>\n",
       "      <td>mid</td>\n",
       "      <td>A</td>\n",
       "    </tr>\n",
       "    <tr>\n",
       "      <th>3</th>\n",
       "      <td>mid</td>\n",
       "      <td>low</td>\n",
       "      <td>good</td>\n",
       "      <td>high</td>\n",
       "      <td>stable</td>\n",
       "      <td>unstable</td>\n",
       "      <td>mod-stable</td>\n",
       "      <td>high</td>\n",
       "      <td>A</td>\n",
       "    </tr>\n",
       "    <tr>\n",
       "      <th>4</th>\n",
       "      <td>mid</td>\n",
       "      <td>mid</td>\n",
       "      <td>excellent</td>\n",
       "      <td>high</td>\n",
       "      <td>stable</td>\n",
       "      <td>stable</td>\n",
       "      <td>stable</td>\n",
       "      <td>mid</td>\n",
       "      <td>A</td>\n",
       "    </tr>\n",
       "  </tbody>\n",
       "</table>\n",
       "</div>"
      ],
      "text/plain": [
       "  L-CORE L-SURF       L-O2  L-BP SURF-STBL CORE-STBL     BP-STBL COMFORT  \\\n",
       "0    mid    low  excellent   mid    stable    stable      stable    high   \n",
       "1    mid   high  excellent  high    stable    stable      stable     mid   \n",
       "2   high    low  excellent  high    stable    stable  mod-stable     mid   \n",
       "3    mid    low       good  high    stable  unstable  mod-stable    high   \n",
       "4    mid    mid  excellent  high    stable    stable      stable     mid   \n",
       "\n",
       "  ADM-DECS  \n",
       "0        A  \n",
       "1        S  \n",
       "2        A  \n",
       "3        A  \n",
       "4        A  "
      ]
     },
     "execution_count": 8,
     "metadata": {},
     "output_type": "execute_result"
    }
   ],
   "source": [
    "data.head()"
   ]
  },
  {
   "cell_type": "markdown",
   "metadata": {},
   "source": [
    "##  Bayesian Network"
   ]
  },
  {
   "cell_type": "markdown",
   "metadata": {},
   "source": [
    "### Learning the structure of the network\n",
    "\n",
    "One option for defining the structure of the network would be to manually add the nodes and connections between them. Knowing the connections between nodes requires having a sufficient knowledge about the field of application in order to be able to define conditional independence assertions. \n",
    "\n",
    "Luckily, the ``pgmpy`` library offers many ways to learn a structure for discrete, fully observed networks. Given a set of data samples, the algorithm estimates a directed acyclic graph that captures dependencies between the variables. We will use Score-based structure estimation, that learns the model as an optimization task, and lets the programmer choose a search strategy and a scoring function which will be used.\n",
    "\n",
    "Some of the available search strategies are:\n",
    "\n",
    "- Exhaustive search\n",
    "- Hill Climb search\n",
    "\n",
    "The search space is super-exponential in the number of variables, which is the reason why Exhaustive search wasn't chosen for this particular project. However, for a very small number of nodes, it is guaranteed to find the best-scoring graph. When networks are bigger it is better to use Hill Climb search, which implements a greedy local search starting usually from a disconnected graph. In every iteration it makes one change on edges of the graph that maximally increases the score.\n",
    "\n",
    "However, this approach often leads to inconsistent results: the node ``ADM-DECS`` may have exiting edges (which we do not want, because this is the attribute we want to predict), or multiple disconnected graphs may be found. We therefore remove all the edges that have ``ADM-DECS`` as parent. In addition, according to scientific medical sources [[link1](https://www.intechopen.com/chapters/76686), [link2](https://www.ncbi.nlm.nih.gov/pmc/articles/PMC2582826/), [link3](https://bmcnurs.biomedcentral.com/articles/10.1186/1472-6955-11-24)], we force the learning algorithm to include the following edges in the network: ``('BP-STBL', 'ADM-DECS')``, ``('L-O2', 'ADM-DECS')``, ``('SURF-STBL', 'ADM-DECS')``.\n"
   ]
  },
  {
   "cell_type": "code",
   "execution_count": 9,
   "metadata": {},
   "outputs": [
    {
     "name": "stderr",
     "output_type": "stream",
     "text": [
      "  0%|          | 6/1000000 [00:00<23:44:16, 11.70it/s]\n"
     ]
    }
   ],
   "source": [
    "black_list = [('ADM-DECS', attribute) for attribute in data.columns[:-1]]\n",
    "fixed_attributes = ['BP-STBL', 'L-O2', 'SURF-STBL']\n",
    "fixed_edges = [(attribute, 'ADM-DECS') for attribute in fixed_attributes]\n",
    "\n",
    "#learning the stucutre of the network\n",
    "est = HillClimbSearch(data, use_cache=False)\n",
    "best_model = est.estimate(scoring_method=K2Score(data),\n",
    "                          black_list=black_list,\n",
    "                          fixed_edges=fixed_edges)"
   ]
  },
  {
   "cell_type": "code",
   "execution_count": 10,
   "metadata": {},
   "outputs": [
    {
     "data": {
      "text/plain": [
       "NodeView(('L-CORE', 'BP-STBL', 'L-SURF', 'SURF-STBL', 'L-O2', 'ADM-DECS', 'L-BP', 'CORE-STBL', 'COMFORT'))"
      ]
     },
     "execution_count": 10,
     "metadata": {},
     "output_type": "execute_result"
    }
   ],
   "source": [
    "#the estimated model returns a DAG at a (local) score maximum\n",
    "edges = list(best_model.edges())\n",
    "model = BayesianNetwork(edges)\n",
    "\n",
    "#nodes of the model\n",
    "model.nodes"
   ]
  },
  {
   "cell_type": "code",
   "execution_count": 11,
   "metadata": {},
   "outputs": [
    {
     "data": {
      "text/plain": [
       "OutEdgeView([('L-CORE', 'BP-STBL'), ('BP-STBL', 'ADM-DECS'), ('L-SURF', 'SURF-STBL'), ('SURF-STBL', 'ADM-DECS'), ('L-O2', 'ADM-DECS'), ('L-BP', 'BP-STBL'), ('CORE-STBL', 'SURF-STBL'), ('CORE-STBL', 'L-O2'), ('COMFORT', 'L-O2')])"
      ]
     },
     "execution_count": 11,
     "metadata": {},
     "output_type": "execute_result"
    }
   ],
   "source": [
    "#edges of the model\n",
    "model.edges"
   ]
  },
  {
   "cell_type": "code",
   "execution_count": 12,
   "metadata": {},
   "outputs": [
    {
     "data": {
      "image/png": "[encoded data removed]",
      "image/svg+xml": "<?xml version=\"1.0\" encoding=\"utf-8\" standalone=\"no\"?>\n<!DOCTYPE svg PUBLIC \"-//W3C//DTD SVG 1.1//EN\"\n  \"http://www.w3.org/Graphics/SVG/1.1/DTD/svg11.dtd\">\n<svg xmlns:xlink=\"http://www.w3.org/1999/xlink\" width=\"1166.4pt\" height=\"590.4pt\" viewBox=\"0 0 1166.4 590.4\" xmlns=\"http://www.w3.org/2000/svg\" version=\"1.1\">\n <metadata>\n  <rdf:RDF xmlns:dc=\"http://purl.org/dc/elements/1.1/\" xmlns:cc=\"http://creativecommons.org/ns#\" xmlns:rdf=\"http://www.w3.org/1999/02/22-rdf-syntax-ns#\">\n   <cc:Work>\n    <dc:type rdf:resource=\"http://purl.org/dc/dcmitype/StillImage\"/>\n    <dc:date>2022-07-14T00:27:02.120364</dc:date>\n    <dc:format>image/svg+xml</dc:format>\n    <dc:creator>\n     <cc:Agent>\n      <dc:title>Matplotlib v3.5.1, https://matplotlib.org/</dc:title>\n     </cc:Agent>\n    </dc:creator>\n   </cc:Work>\n  </rdf:RDF>\n </metadata>\n <defs>\n  <style type=\"text/css\">*{stroke-linejoin: round; stroke-linecap: butt}</style>\n </defs>\n <g id=\"figure_1\">\n  <g id=\"patch_1\">\n   <path d=\"M 0 590.4 \nL 1166.4 590.4 \nL 1166.4 0 \nL 0 0 \nz\n\" style=\"fill: #ffffff\"/>\n  </g>\n  <g id=\"axes_1\">\n   <g id=\"patch_2\">\n    <path d=\"M 124.035417 78.752993 \nQ 200.237311 176.191467 275.750457 272.749245 \n\" clip-path=\"url(#pa3897df8c2)\" style=\"fill: none; stroke: #222222; stroke-linecap: round\"/>\n    <path d=\"M 274.861749 268.366301 \nL 275.750457 272.749245 \nL 271.710877 270.830445 \nL 274.861749 268.366301 \nz\n\" clip-path=\"url(#pa3897df8c2)\" style=\"fill: #222222; stroke: #222222; stroke-linecap: round\"/>\n   </g>\n   <g id=\"patch_3\">\n    <path d=\"M 313.766625 313.40825 \nQ 427.024621 414.208773 539.447453 514.265992 \n\" clip-path=\"url(#pa3897df8c2)\" style=\"fill: none; stroke: #222222; stroke-linecap: round\"/>\n    <path d=\"M 537.789138 510.112681 \nL 539.447453 514.265992 \nL 535.129815 513.100658 \nL 537.789138 510.112681 \nz\n\" clip-path=\"url(#pa3897df8c2)\" style=\"fill: #222222; stroke: #222222; stroke-linecap: round\"/>\n   </g>\n   <g id=\"patch_4\">\n    <path d=\"M 517.077531 84.004639 \nQ 536.136222 176.19153 554.968559 267.283541 \n\" clip-path=\"url(#pa3897df8c2)\" style=\"fill: none; stroke: #222222; stroke-linecap: round\"/>\n    <path d=\"M 556.117307 262.961461 \nL 554.968559 267.283541 \nL 552.200144 263.771294 \nL 556.117307 262.961461 \nz\n\" clip-path=\"url(#pa3897df8c2)\" style=\"fill: #222222; stroke: #222222; stroke-linecap: round\"/>\n   </g>\n   <g id=\"patch_5\">\n    <path d=\"M 560.739999 322.587736 \nQ 560.739999 414.20914 560.739999 504.712509 \n\" clip-path=\"url(#pa3897df8c2)\" style=\"fill: none; stroke: #222222; stroke-linecap: round\"/>\n    <path d=\"M 562.739999 500.712509 \nL 560.739999 504.712509 \nL 558.739999 500.712509 \nL 562.739999 500.712509 \nz\n\" clip-path=\"url(#pa3897df8c2)\" style=\"fill: #222222; stroke: #222222; stroke-linecap: round\"/>\n   </g>\n   <g id=\"patch_6\">\n    <path d=\"M 772.725287 314.850092 \nQ 676.269976 414.208887 580.593426 512.765478 \n\" clip-path=\"url(#pa3897df8c2)\" style=\"fill: none; stroke: #222222; stroke-linecap: round\"/>\n    <path d=\"M 584.814633 511.288518 \nL 580.593426 512.765478 \nL 581.944582 508.502336 \nL 584.814633 511.288518 \nz\n\" clip-path=\"url(#pa3897df8c2)\" style=\"fill: #222222; stroke: #222222; stroke-linecap: round\"/>\n   </g>\n   <g id=\"patch_7\">\n    <path d=\"M 304.670105 84.527625 \nQ 299.726534 176.190489 294.843174 266.736941 \n\" clip-path=\"url(#pa3897df8c2)\" style=\"fill: none; stroke: #222222; stroke-linecap: round\"/>\n    <path d=\"M 297.055687 262.850453 \nL 294.843174 266.736941 \nL 293.061491 262.635038 \nL 297.055687 262.850453 \nz\n\" clip-path=\"url(#pa3897df8c2)\" style=\"fill: #222222; stroke: #222222; stroke-linecap: round\"/>\n   </g>\n   <g id=\"patch_8\">\n    <path d=\"M 752.302004 77.736076 \nQ 665.572084 176.19312 579.58119 273.811211 \n\" clip-path=\"url(#pa3897df8c2)\" style=\"fill: none; stroke: #222222; stroke-linecap: round\"/>\n    <path d=\"M 583.725972 272.131693 \nL 579.58119 273.811211 \nL 580.724445 269.487675 \nL 583.725972 272.131693 \nz\n\" clip-path=\"url(#pa3897df8c2)\" style=\"fill: #222222; stroke: #222222; stroke-linecap: round\"/>\n   </g>\n   <g id=\"patch_9\">\n    <path d=\"M 772.858611 84.462251 \nQ 781.103921 176.192146 789.249137 266.808496 \n\" clip-path=\"url(#pa3897df8c2)\" style=\"fill: none; stroke: #222222; stroke-linecap: round\"/>\n    <path d=\"M 790.883003 262.645507 \nL 789.249137 266.808496 \nL 786.899065 263.00361 \nL 790.883003 262.645507 \nz\n\" clip-path=\"url(#pa3897df8c2)\" style=\"fill: #222222; stroke: #222222; stroke-linecap: round\"/>\n   </g>\n   <g id=\"patch_10\">\n    <path d=\"M 1038.774534 75.391721 \nQ 925.516538 176.192244 813.093706 276.249463 \n\" clip-path=\"url(#pa3897df8c2)\" style=\"fill: none; stroke: #222222; stroke-linecap: round\"/>\n    <path d=\"M 817.411344 275.084129 \nL 813.093706 276.249463 \nL 814.752021 272.096152 \nL 817.411344 275.084129 \nz\n\" clip-path=\"url(#pa3897df8c2)\" style=\"fill: #222222; stroke: #222222; stroke-linecap: round\"/>\n   </g>\n   <g id=\"PathCollection_1\">\n    <defs>\n     <path id=\"m2774860270\" d=\"M 0 27.386128 \nC 7.262886 27.386128 14.229281 24.500553 19.364917 19.364917 \nC 24.500553 14.229281 27.386128 7.262886 27.386128 0 \nC 27.386128 -7.262886 24.500553 -14.229281 19.364917 -19.364917 \nC 14.229281 -24.500553 7.262886 -27.386128 0 -27.386128 \nC -7.262886 -27.386128 -14.229281 -24.500553 -19.364917 -19.364917 \nC -24.500553 -14.229281 -27.386128 -7.262886 -27.386128 0 \nC -27.386128 7.262886 -24.500553 14.229281 -19.364917 19.364917 \nC -14.229281 24.500553 -7.262886 27.386128 0 27.386128 \nz\n\" style=\"stroke: #008000; stroke-width: 0.16\"/>\n    </defs>\n    <g clip-path=\"url(#pa3897df8c2)\">\n     <use xlink:href=\"#m2774860270\" x=\"107.166942\" y=\"57.183471\" style=\"fill: #008000; stroke: #008000; stroke-width: 0.16\"/>\n     <use xlink:href=\"#m2774860270\" x=\"293.308101\" y=\"295.2\" style=\"fill: #008000; stroke: #008000; stroke-width: 0.16\"/>\n     <use xlink:href=\"#m2774860270\" x=\"511.53253\" y=\"57.183471\" style=\"fill: #008000; stroke: #008000; stroke-width: 0.16\"/>\n     <use xlink:href=\"#m2774860270\" x=\"560.739999\" y=\"295.2\" style=\"fill: #008000; stroke: #008000; stroke-width: 0.16\"/>\n     <use xlink:href=\"#m2774860270\" x=\"791.80116\" y=\"295.2\" style=\"fill: #008000; stroke: #008000; stroke-width: 0.16\"/>\n     <use xlink:href=\"#m2774860270\" x=\"560.739999\" y=\"533.216529\" style=\"fill: #008000; stroke: #008000; stroke-width: 0.16\"/>\n     <use xlink:href=\"#m2774860270\" x=\"306.144832\" y=\"57.183471\" style=\"fill: #008000; stroke: #008000; stroke-width: 0.16\"/>\n     <use xlink:href=\"#m2774860270\" x=\"770.406608\" y=\"57.183471\" style=\"fill: #008000; stroke: #008000; stroke-width: 0.16\"/>\n     <use xlink:href=\"#m2774860270\" x=\"1059.233058\" y=\"57.183471\" style=\"fill: #008000; stroke: #008000; stroke-width: 0.16\"/>\n    </g>\n   </g>\n   <g id=\"text_1\">\n    <g clip-path=\"url(#pa3897df8c2)\">\n     <!-- L-CORE -->\n     <g style=\"fill: #222222\" transform=\"translate(84.497255 60.285659)scale(0.12 -0.12)\">\n      <defs>\n       <path id=\"ArialMT-4c\" d=\"M 469 0 \nL 469 4581 \nL 1075 4581 \nL 1075 541 \nL 3331 541 \nL 3331 0 \nL 469 0 \nz\n\" transform=\"scale(0.015625)\"/>\n       <path id=\"ArialMT-2d\" d=\"M 203 1375 \nL 203 1941 \nL 1931 1941 \nL 1931 1375 \nL 203 1375 \nz\n\" transform=\"scale(0.015625)\"/>\n       <path id=\"ArialMT-43\" d=\"M 3763 1606 \nL 4369 1453 \nQ 4178 706 3683 314 \nQ 3188 -78 2472 -78 \nQ 1731 -78 1267 223 \nQ 803 525 561 1097 \nQ 319 1669 319 2325 \nQ 319 3041 592 3573 \nQ 866 4106 1370 4382 \nQ 1875 4659 2481 4659 \nQ 3169 4659 3637 4309 \nQ 4106 3959 4291 3325 \nL 3694 3184 \nQ 3534 3684 3231 3912 \nQ 2928 4141 2469 4141 \nQ 1941 4141 1586 3887 \nQ 1231 3634 1087 3207 \nQ 944 2781 944 2328 \nQ 944 1744 1114 1308 \nQ 1284 872 1643 656 \nQ 2003 441 2422 441 \nQ 2931 441 3284 734 \nQ 3638 1028 3763 1606 \nz\n\" transform=\"scale(0.015625)\"/>\n       <path id=\"ArialMT-4f\" d=\"M 309 2231 \nQ 309 3372 921 4017 \nQ 1534 4663 2503 4663 \nQ 3138 4663 3647 4359 \nQ 4156 4056 4423 3514 \nQ 4691 2972 4691 2284 \nQ 4691 1588 4409 1038 \nQ 4128 488 3612 205 \nQ 3097 -78 2500 -78 \nQ 1853 -78 1343 234 \nQ 834 547 571 1087 \nQ 309 1628 309 2231 \nz\nM 934 2222 \nQ 934 1394 1379 917 \nQ 1825 441 2497 441 \nQ 3181 441 3623 922 \nQ 4066 1403 4066 2288 \nQ 4066 2847 3877 3264 \nQ 3688 3681 3323 3911 \nQ 2959 4141 2506 4141 \nQ 1863 4141 1398 3698 \nQ 934 3256 934 2222 \nz\n\" transform=\"scale(0.015625)\"/>\n       <path id=\"ArialMT-52\" d=\"M 503 0 \nL 503 4581 \nL 2534 4581 \nQ 3147 4581 3465 4457 \nQ 3784 4334 3975 4021 \nQ 4166 3709 4166 3331 \nQ 4166 2844 3850 2509 \nQ 3534 2175 2875 2084 \nQ 3116 1969 3241 1856 \nQ 3506 1613 3744 1247 \nL 4541 0 \nL 3778 0 \nL 3172 953 \nQ 2906 1366 2734 1584 \nQ 2563 1803 2427 1890 \nQ 2291 1978 2150 2013 \nQ 2047 2034 1813 2034 \nL 1109 2034 \nL 1109 0 \nL 503 0 \nz\nM 1109 2559 \nL 2413 2559 \nQ 2828 2559 3062 2645 \nQ 3297 2731 3419 2920 \nQ 3541 3109 3541 3331 \nQ 3541 3656 3305 3865 \nQ 3069 4075 2559 4075 \nL 1109 4075 \nL 1109 2559 \nz\n\" transform=\"scale(0.015625)\"/>\n       <path id=\"ArialMT-45\" d=\"M 506 0 \nL 506 4581 \nL 3819 4581 \nL 3819 4041 \nL 1113 4041 \nL 1113 2638 \nL 3647 2638 \nL 3647 2100 \nL 1113 2100 \nL 1113 541 \nL 3925 541 \nL 3925 0 \nL 506 0 \nz\n\" transform=\"scale(0.015625)\"/>\n      </defs>\n      <use xlink:href=\"#ArialMT-4c\"/>\n      <use xlink:href=\"#ArialMT-2d\" x=\"55.615234\"/>\n      <use xlink:href=\"#ArialMT-43\" x=\"88.916016\"/>\n      <use xlink:href=\"#ArialMT-4f\" x=\"161.132812\"/>\n      <use xlink:href=\"#ArialMT-52\" x=\"238.916016\"/>\n      <use xlink:href=\"#ArialMT-45\" x=\"311.132812\"/>\n     </g>\n    </g>\n   </g>\n   <g id=\"text_2\">\n    <g clip-path=\"url(#pa3897df8c2)\">\n     <!-- BP-STBL -->\n     <g style=\"fill: #222222\" transform=\"translate(268.300289 298.302188)scale(0.12 -0.12)\">\n      <defs>\n       <path id=\"ArialMT-42\" d=\"M 469 0 \nL 469 4581 \nL 2188 4581 \nQ 2713 4581 3030 4442 \nQ 3347 4303 3526 4014 \nQ 3706 3725 3706 3409 \nQ 3706 3116 3547 2856 \nQ 3388 2597 3066 2438 \nQ 3481 2316 3704 2022 \nQ 3928 1728 3928 1328 \nQ 3928 1006 3792 729 \nQ 3656 453 3456 303 \nQ 3256 153 2954 76 \nQ 2653 0 2216 0 \nL 469 0 \nz\nM 1075 2656 \nL 2066 2656 \nQ 2469 2656 2644 2709 \nQ 2875 2778 2992 2937 \nQ 3109 3097 3109 3338 \nQ 3109 3566 3000 3739 \nQ 2891 3913 2687 3977 \nQ 2484 4041 1991 4041 \nL 1075 4041 \nL 1075 2656 \nz\nM 1075 541 \nL 2216 541 \nQ 2509 541 2628 563 \nQ 2838 600 2978 687 \nQ 3119 775 3209 942 \nQ 3300 1109 3300 1328 \nQ 3300 1584 3169 1773 \nQ 3038 1963 2805 2039 \nQ 2572 2116 2134 2116 \nL 1075 2116 \nL 1075 541 \nz\n\" transform=\"scale(0.015625)\"/>\n       <path id=\"ArialMT-50\" d=\"M 494 0 \nL 494 4581 \nL 2222 4581 \nQ 2678 4581 2919 4538 \nQ 3256 4481 3484 4323 \nQ 3713 4166 3852 3881 \nQ 3991 3597 3991 3256 \nQ 3991 2672 3619 2267 \nQ 3247 1863 2275 1863 \nL 1100 1863 \nL 1100 0 \nL 494 0 \nz\nM 1100 2403 \nL 2284 2403 \nQ 2872 2403 3119 2622 \nQ 3366 2841 3366 3238 \nQ 3366 3525 3220 3729 \nQ 3075 3934 2838 4000 \nQ 2684 4041 2272 4041 \nL 1100 4041 \nL 1100 2403 \nz\n\" transform=\"scale(0.015625)\"/>\n       <path id=\"ArialMT-53\" d=\"M 288 1472 \nL 859 1522 \nQ 900 1178 1048 958 \nQ 1197 738 1509 602 \nQ 1822 466 2213 466 \nQ 2559 466 2825 569 \nQ 3091 672 3220 851 \nQ 3350 1031 3350 1244 \nQ 3350 1459 3225 1620 \nQ 3100 1781 2813 1891 \nQ 2628 1963 1997 2114 \nQ 1366 2266 1113 2400 \nQ 784 2572 623 2826 \nQ 463 3081 463 3397 \nQ 463 3744 659 4045 \nQ 856 4347 1234 4503 \nQ 1613 4659 2075 4659 \nQ 2584 4659 2973 4495 \nQ 3363 4331 3572 4012 \nQ 3781 3694 3797 3291 \nL 3216 3247 \nQ 3169 3681 2898 3903 \nQ 2628 4125 2100 4125 \nQ 1550 4125 1298 3923 \nQ 1047 3722 1047 3438 \nQ 1047 3191 1225 3031 \nQ 1400 2872 2139 2705 \nQ 2878 2538 3153 2413 \nQ 3553 2228 3743 1945 \nQ 3934 1663 3934 1294 \nQ 3934 928 3725 604 \nQ 3516 281 3123 101 \nQ 2731 -78 2241 -78 \nQ 1619 -78 1198 103 \nQ 778 284 539 648 \nQ 300 1013 288 1472 \nz\n\" transform=\"scale(0.015625)\"/>\n       <path id=\"ArialMT-54\" d=\"M 1659 0 \nL 1659 4041 \nL 150 4041 \nL 150 4581 \nL 3781 4581 \nL 3781 4041 \nL 2266 4041 \nL 2266 0 \nL 1659 0 \nz\n\" transform=\"scale(0.015625)\"/>\n      </defs>\n      <use xlink:href=\"#ArialMT-42\"/>\n      <use xlink:href=\"#ArialMT-50\" x=\"66.699219\"/>\n      <use xlink:href=\"#ArialMT-2d\" x=\"133.398438\"/>\n      <use xlink:href=\"#ArialMT-53\" x=\"166.699219\"/>\n      <use xlink:href=\"#ArialMT-54\" x=\"233.398438\"/>\n      <use xlink:href=\"#ArialMT-42\" x=\"294.482422\"/>\n      <use xlink:href=\"#ArialMT-4c\" x=\"361.181641\"/>\n     </g>\n    </g>\n   </g>\n   <g id=\"text_3\">\n    <g clip-path=\"url(#pa3897df8c2)\">\n     <!-- L-SURF -->\n     <g style=\"fill: #222222\" transform=\"translate(489.86503 60.285659)scale(0.12 -0.12)\">\n      <defs>\n       <path id=\"ArialMT-55\" d=\"M 3500 4581 \nL 4106 4581 \nL 4106 1934 \nQ 4106 1244 3950 837 \nQ 3794 431 3386 176 \nQ 2978 -78 2316 -78 \nQ 1672 -78 1262 144 \nQ 853 366 678 786 \nQ 503 1206 503 1934 \nL 503 4581 \nL 1109 4581 \nL 1109 1938 \nQ 1109 1341 1220 1058 \nQ 1331 775 1601 622 \nQ 1872 469 2263 469 \nQ 2931 469 3215 772 \nQ 3500 1075 3500 1938 \nL 3500 4581 \nz\n\" transform=\"scale(0.015625)\"/>\n       <path id=\"ArialMT-46\" d=\"M 525 0 \nL 525 4581 \nL 3616 4581 \nL 3616 4041 \nL 1131 4041 \nL 1131 2622 \nL 3281 2622 \nL 3281 2081 \nL 1131 2081 \nL 1131 0 \nL 525 0 \nz\n\" transform=\"scale(0.015625)\"/>\n      </defs>\n      <use xlink:href=\"#ArialMT-4c\"/>\n      <use xlink:href=\"#ArialMT-2d\" x=\"55.615234\"/>\n      <use xlink:href=\"#ArialMT-53\" x=\"88.916016\"/>\n      <use xlink:href=\"#ArialMT-55\" x=\"155.615234\"/>\n      <use xlink:href=\"#ArialMT-52\" x=\"227.832031\"/>\n      <use xlink:href=\"#ArialMT-46\" x=\"300.048828\"/>\n     </g>\n    </g>\n   </g>\n   <g id=\"text_4\">\n    <g clip-path=\"url(#pa3897df8c2)\">\n     <!-- SURF-STBL -->\n     <g style=\"fill: #222222\" transform=\"translate(527.403437 298.302188)scale(0.12 -0.12)\">\n      <use xlink:href=\"#ArialMT-53\"/>\n      <use xlink:href=\"#ArialMT-55\" x=\"66.699219\"/>\n      <use xlink:href=\"#ArialMT-52\" x=\"138.916016\"/>\n      <use xlink:href=\"#ArialMT-46\" x=\"211.132812\"/>\n      <use xlink:href=\"#ArialMT-2d\" x=\"272.216797\"/>\n      <use xlink:href=\"#ArialMT-53\" x=\"305.517578\"/>\n      <use xlink:href=\"#ArialMT-54\" x=\"372.216797\"/>\n      <use xlink:href=\"#ArialMT-42\" x=\"433.300781\"/>\n      <use xlink:href=\"#ArialMT-4c\" x=\"500\"/>\n     </g>\n    </g>\n   </g>\n   <g id=\"text_5\">\n    <g clip-path=\"url(#pa3897df8c2)\">\n     <!-- L-O2 -->\n     <g style=\"fill: #222222\" transform=\"translate(778.463347 298.302188)scale(0.12 -0.12)\">\n      <defs>\n       <path id=\"ArialMT-32\" d=\"M 3222 541 \nL 3222 0 \nL 194 0 \nQ 188 203 259 391 \nQ 375 700 629 1000 \nQ 884 1300 1366 1694 \nQ 2113 2306 2375 2664 \nQ 2638 3022 2638 3341 \nQ 2638 3675 2398 3904 \nQ 2159 4134 1775 4134 \nQ 1369 4134 1125 3890 \nQ 881 3647 878 3216 \nL 300 3275 \nQ 359 3922 746 4261 \nQ 1134 4600 1788 4600 \nQ 2447 4600 2831 4234 \nQ 3216 3869 3216 3328 \nQ 3216 3053 3103 2787 \nQ 2991 2522 2730 2228 \nQ 2469 1934 1863 1422 \nQ 1356 997 1212 845 \nQ 1069 694 975 541 \nL 3222 541 \nz\n\" transform=\"scale(0.015625)\"/>\n      </defs>\n      <use xlink:href=\"#ArialMT-4c\"/>\n      <use xlink:href=\"#ArialMT-2d\" x=\"55.615234\"/>\n      <use xlink:href=\"#ArialMT-4f\" x=\"88.916016\"/>\n      <use xlink:href=\"#ArialMT-32\" x=\"166.699219\"/>\n     </g>\n    </g>\n   </g>\n   <g id=\"text_6\">\n    <g clip-path=\"url(#pa3897df8c2)\">\n     <!-- ADM-DECS -->\n     <g style=\"fill: #222222\" transform=\"translate(528.738437 536.318716)scale(0.12 -0.12)\">\n      <defs>\n       <path id=\"ArialMT-41\" d=\"M -9 0 \nL 1750 4581 \nL 2403 4581 \nL 4278 0 \nL 3588 0 \nL 3053 1388 \nL 1138 1388 \nL 634 0 \nL -9 0 \nz\nM 1313 1881 \nL 2866 1881 \nL 2388 3150 \nQ 2169 3728 2063 4100 \nQ 1975 3659 1816 3225 \nL 1313 1881 \nz\n\" transform=\"scale(0.015625)\"/>\n       <path id=\"ArialMT-44\" d=\"M 494 0 \nL 494 4581 \nL 2072 4581 \nQ 2606 4581 2888 4516 \nQ 3281 4425 3559 4188 \nQ 3922 3881 4101 3404 \nQ 4281 2928 4281 2316 \nQ 4281 1794 4159 1391 \nQ 4038 988 3847 723 \nQ 3656 459 3429 307 \nQ 3203 156 2883 78 \nQ 2563 0 2147 0 \nL 494 0 \nz\nM 1100 541 \nL 2078 541 \nQ 2531 541 2789 625 \nQ 3047 709 3200 863 \nQ 3416 1078 3536 1442 \nQ 3656 1806 3656 2325 \nQ 3656 3044 3420 3430 \nQ 3184 3816 2847 3947 \nQ 2603 4041 2063 4041 \nL 1100 4041 \nL 1100 541 \nz\n\" transform=\"scale(0.015625)\"/>\n       <path id=\"ArialMT-4d\" d=\"M 475 0 \nL 475 4581 \nL 1388 4581 \nL 2472 1338 \nQ 2622 884 2691 659 \nQ 2769 909 2934 1394 \nL 4031 4581 \nL 4847 4581 \nL 4847 0 \nL 4263 0 \nL 4263 3834 \nL 2931 0 \nL 2384 0 \nL 1059 3900 \nL 1059 0 \nL 475 0 \nz\n\" transform=\"scale(0.015625)\"/>\n      </defs>\n      <use xlink:href=\"#ArialMT-41\"/>\n      <use xlink:href=\"#ArialMT-44\" x=\"66.699219\"/>\n      <use xlink:href=\"#ArialMT-4d\" x=\"138.916016\"/>\n      <use xlink:href=\"#ArialMT-2d\" x=\"222.216797\"/>\n      <use xlink:href=\"#ArialMT-44\" x=\"255.517578\"/>\n      <use xlink:href=\"#ArialMT-45\" x=\"327.734375\"/>\n      <use xlink:href=\"#ArialMT-43\" x=\"394.433594\"/>\n      <use xlink:href=\"#ArialMT-53\" x=\"466.650391\"/>\n     </g>\n    </g>\n   </g>\n   <g id=\"text_7\">\n    <g clip-path=\"url(#pa3897df8c2)\">\n     <!-- L-BP -->\n     <g style=\"fill: #222222\" transform=\"translate(292.806082 60.285659)scale(0.12 -0.12)\">\n      <use xlink:href=\"#ArialMT-4c\"/>\n      <use xlink:href=\"#ArialMT-2d\" x=\"55.615234\"/>\n      <use xlink:href=\"#ArialMT-42\" x=\"88.916016\"/>\n      <use xlink:href=\"#ArialMT-50\" x=\"155.615234\"/>\n     </g>\n    </g>\n   </g>\n   <g id=\"text_8\">\n    <g clip-path=\"url(#pa3897df8c2)\">\n     <!-- CORE-STBL -->\n     <g style=\"fill: #222222\" transform=\"translate(736.067858 60.285659)scale(0.12 -0.12)\">\n      <use xlink:href=\"#ArialMT-43\"/>\n      <use xlink:href=\"#ArialMT-4f\" x=\"72.216797\"/>\n      <use xlink:href=\"#ArialMT-52\" x=\"150\"/>\n      <use xlink:href=\"#ArialMT-45\" x=\"222.216797\"/>\n      <use xlink:href=\"#ArialMT-2d\" x=\"288.916016\"/>\n      <use xlink:href=\"#ArialMT-53\" x=\"322.216797\"/>\n      <use xlink:href=\"#ArialMT-54\" x=\"388.916016\"/>\n      <use xlink:href=\"#ArialMT-42\" x=\"450\"/>\n      <use xlink:href=\"#ArialMT-4c\" x=\"516.699219\"/>\n     </g>\n    </g>\n   </g>\n   <g id=\"text_9\">\n    <g clip-path=\"url(#pa3897df8c2)\">\n     <!-- COMFORT -->\n     <g style=\"fill: #222222\" transform=\"translate(1029.01087 60.285659)scale(0.12 -0.12)\">\n      <use xlink:href=\"#ArialMT-43\"/>\n      <use xlink:href=\"#ArialMT-4f\" x=\"72.216797\"/>\n      <use xlink:href=\"#ArialMT-4d\" x=\"150\"/>\n      <use xlink:href=\"#ArialMT-46\" x=\"233.300781\"/>\n      <use xlink:href=\"#ArialMT-4f\" x=\"294.384766\"/>\n      <use xlink:href=\"#ArialMT-52\" x=\"372.167969\"/>\n      <use xlink:href=\"#ArialMT-54\" x=\"442.634766\"/>\n     </g>\n    </g>\n   </g>\n  </g>\n </g>\n <defs>\n  <clipPath id=\"pa3897df8c2\">\n   <rect x=\"7.2\" y=\"7.2\" width=\"1152\" height=\"576\"/>\n  </clipPath>\n </defs>\n</svg>\n",
      "text/plain": [
       "<Figure size 1600x800 with 1 Axes>"
      ]
     },
     "metadata": {},
     "output_type": "display_data"
    }
   ],
   "source": [
    "pos = graphviz_layout(model, prog=\"dot\")\n",
    "plt.figure(figsize=(16, 8))\n",
    "nx.draw(model, with_labels=True, pos=pos, node_size=3000, node_color=\"green\")\n",
    "plt.savefig('model.png')\n",
    "plt.show()"
   ]
  },
  {
   "cell_type": "markdown",
   "metadata": {},
   "source": [
    "### Learning the parameters and analyzing of the network\n",
    "\n",
    "As mentioned before, ``pgmpy`` currently supports parameter learning only for networks with discrete nodes. There are 2 available methods for determining the values of the conditional probability distributions:\n",
    "\n",
    "- Maximum Likelihood estimation.\n",
    "\n",
    "       This method uses relative frequencies for estimating conditional probabilities. \n",
    "       However, in case of small datasets, it is prone to overfitting.\n",
    "- Bayesian estimation.\n",
    "\n",
    "       On the other hand, the Bayesian estimator assumes prior CPDs on variables and \n",
    "       then updates them using state counts from observed data.\n",
    "\n",
    "Because our dataset has only 87 samples after cleaning, we use __Bayesian estimation__."
   ]
  },
  {
   "cell_type": "code",
   "execution_count": 13,
   "metadata": {},
   "outputs": [
    {
     "name": "stdout",
     "output_type": "stream",
     "text": [
      "CPT of L-CORE:\n",
      "+--------------+----------+\n",
      "| L-CORE(high) | 0.148551 |\n",
      "+--------------+----------+\n",
      "| L-CORE(low)  | 0.213768 |\n",
      "+--------------+----------+\n",
      "| L-CORE(mid)  | 0.637681 |\n",
      "+--------------+----------+ \n",
      "\n",
      " ================================================================================ \n",
      "\n",
      "CPT of BP-STBL:\n",
      "+---------------------+-----+---------------------+\n",
      "| L-BP                | ... | L-BP(mid)           |\n",
      "+---------------------+-----+---------------------+\n",
      "| L-CORE              | ... | L-CORE(mid)         |\n",
      "+---------------------+-----+---------------------+\n",
      "| BP-STBL(mod-stable) | ... | 0.19132149901380668 |\n",
      "+---------------------+-----+---------------------+\n",
      "| BP-STBL(stable)     | ... | 0.5374753451676528  |\n",
      "+---------------------+-----+---------------------+\n",
      "| BP-STBL(unstable)   | ... | 0.27120315581854043 |\n",
      "+---------------------+-----+---------------------+ \n",
      "\n",
      " ================================================================================ \n",
      "\n",
      "CPT of L-SURF:\n",
      "+--------------+----------+\n",
      "| L-SURF(high) | 0.192029 |\n",
      "+--------------+----------+\n",
      "| L-SURF(low)  | 0.278986 |\n",
      "+--------------+----------+\n",
      "| L-SURF(mid)  | 0.528986 |\n",
      "+--------------+----------+ \n",
      "\n",
      " ================================================================================ \n",
      "\n",
      "CPT of SURF-STBL:\n",
      "+---------------------+-----+---------------------+\n",
      "| CORE-STBL           | ... | CORE-STBL(unstable) |\n",
      "+---------------------+-----+---------------------+\n",
      "| L-SURF              | ... | L-SURF(mid)         |\n",
      "+---------------------+-----+---------------------+\n",
      "| SURF-STBL(stable)   | ... | 0.07812500000000001 |\n",
      "+---------------------+-----+---------------------+\n",
      "| SURF-STBL(unstable) | ... | 0.921875            |\n",
      "+---------------------+-----+---------------------+ \n",
      "\n",
      " ================================================================================ \n",
      "\n",
      "CPT of L-O2:\n",
      "+-----------------+-----+---------------------+\n",
      "| COMFORT         | ... | COMFORT(mid)        |\n",
      "+-----------------+-----+---------------------+\n",
      "| CORE-STBL       | ... | CORE-STBL(unstable) |\n",
      "+-----------------+-----+---------------------+\n",
      "| L-O2(excellent) | ... | 0.921875            |\n",
      "+-----------------+-----+---------------------+\n",
      "| L-O2(good)      | ... | 0.07812500000000001 |\n",
      "+-----------------+-----+---------------------+ \n",
      "\n",
      " ================================================================================ \n",
      "\n",
      "CPT of ADM-DECS:\n",
      "+-------------+-----+---------------------+\n",
      "| BP-STBL     | ... | BP-STBL(unstable)   |\n",
      "+-------------+-----+---------------------+\n",
      "| L-O2        | ... | L-O2(good)          |\n",
      "+-------------+-----+---------------------+\n",
      "| SURF-STBL   | ... | SURF-STBL(unstable) |\n",
      "+-------------+-----+---------------------+\n",
      "| ADM-DECS(A) | ... | 0.6450216450216449  |\n",
      "+-------------+-----+---------------------+\n",
      "| ADM-DECS(I) | ... | 0.02164502164502164 |\n",
      "+-------------+-----+---------------------+\n",
      "| ADM-DECS(S) | ... | 0.33333333333333326 |\n",
      "+-------------+-----+---------------------+ \n",
      "\n",
      " ================================================================================ \n",
      "\n",
      "CPT of L-BP:\n",
      "+------------+-----------+\n",
      "| L-BP(high) | 0.322464  |\n",
      "+------------+-----------+\n",
      "| L-BP(low)  | 0.0507246 |\n",
      "+------------+-----------+\n",
      "| L-BP(mid)  | 0.626812  |\n",
      "+------------+-----------+ \n",
      "\n",
      " ================================================================================ \n",
      "\n",
      "CPT of CORE-STBL:\n",
      "+-----------------------+-----------+\n",
      "| CORE-STBL(mod-stable) | 0.0289855 |\n",
      "+-----------------------+-----------+\n",
      "| CORE-STBL(stable)     | 0.898551  |\n",
      "+-----------------------+-----------+\n",
      "| CORE-STBL(unstable)   | 0.0724638 |\n",
      "+-----------------------+-----------+ \n",
      "\n",
      " ================================================================================ \n",
      "\n",
      "CPT of COMFORT:\n",
      "+---------------+-----------+\n",
      "| COMFORT(high) | 0.224638  |\n",
      "+---------------+-----------+\n",
      "| COMFORT(low)  | 0.0398551 |\n",
      "+---------------+-----------+\n",
      "| COMFORT(mid)  | 0.735507  |\n",
      "+---------------+-----------+ \n",
      "\n",
      " ================================================================================ \n",
      "\n"
     ]
    }
   ],
   "source": [
    "model.fit(data=data, estimator=BayesianEstimator, prior_type=\"BDeu\")\n",
    "\n",
    "for cpd in model.get_cpds():\n",
    "    print(f'CPT of {cpd.variable}:')\n",
    "    print(cpd, 2*'\\n', 80*\"=\", '\\n')"
   ]
  },
  {
   "cell_type": "markdown",
   "metadata": {},
   "source": [
    "Checking if there are no errors."
   ]
  },
  {
   "cell_type": "code",
   "execution_count": 14,
   "metadata": {},
   "outputs": [
    {
     "data": {
      "text/plain": [
       "True"
      ]
     },
     "execution_count": 14,
     "metadata": {},
     "output_type": "execute_result"
    }
   ],
   "source": [
    "model.check_model()"
   ]
  },
  {
   "cell_type": "markdown",
   "metadata": {},
   "source": [
    "Cardinality of all model nodes."
   ]
  },
  {
   "cell_type": "code",
   "execution_count": 15,
   "metadata": {},
   "outputs": [
    {
     "data": {
      "text/plain": [
       "defaultdict(int,\n",
       "            {'L-CORE': 3,\n",
       "             'BP-STBL': 3,\n",
       "             'L-SURF': 3,\n",
       "             'SURF-STBL': 2,\n",
       "             'L-O2': 2,\n",
       "             'ADM-DECS': 3,\n",
       "             'L-BP': 3,\n",
       "             'CORE-STBL': 3,\n",
       "             'COMFORT': 3})"
      ]
     },
     "execution_count": 15,
     "metadata": {},
     "output_type": "execute_result"
    }
   ],
   "source": [
    "model.get_cardinality()"
   ]
  },
  {
   "cell_type": "markdown",
   "metadata": {},
   "source": [
    "Local independecies of a signle node, namely ``SURF-STBL`` (stability of the patient's surface temperature).\n",
    "\n",
    "In this simplification of a real scenario, the structure stability of the patient's blood pressure (``BP-STBL``), the last measure of blood pressure (``L-BP``), oxygen saturation (``L-O2``), perceived comfort (``COMFORT``) and the patient's internal temperature (``L-CORE``) do not directly influence the stability of the patient's surface temperature (``SURF-STBL``), given their influence on the stability core temperature (``CORE-STBL``) and the patient's surface temperature (``L-SURF``).\n"
   ]
  },
  {
   "cell_type": "code",
   "execution_count": 16,
   "metadata": {},
   "outputs": [
    {
     "data": {
      "text/plain": [
       "(SURF-STBL ⟂ L-CORE, L-O2, BP-STBL, COMFORT, L-BP | L-SURF, CORE-STBL)"
      ]
     },
     "execution_count": 16,
     "metadata": {},
     "output_type": "execute_result"
    }
   ],
   "source": [
    "model.local_independencies(\"SURF-STBL\")"
   ]
  },
  {
   "cell_type": "markdown",
   "metadata": {},
   "source": [
    "Checking d-separation between variables with and without evidence.\n",
    "\n",
    "Two sets of nodes $\\mathbf{X}$, $\\mathbf{Y}$ are d-separated given $\\mathbf{Z}$ if there is no active trail between any $X \\in \\mathbf{X}$ and $Y \\in \\mathbf{Y}$ given $\\mathbf{Z}$.\n"
   ]
  },
  {
   "cell_type": "code",
   "execution_count": 17,
   "metadata": {},
   "outputs": [
    {
     "name": "stdout",
     "output_type": "stream",
     "text": [
      "True\n",
      "True\n",
      "False\n",
      "False\n",
      "True\n"
     ]
    }
   ],
   "source": [
    "# direct path\n",
    "print(model.is_dconnected(\"COMFORT\", \"L-O2\"))\n",
    "# common cause not in evidence\n",
    "print(model.is_dconnected(\"L-O2\", \"SURF-STBL\"))\n",
    "# common cause in evidence\n",
    "print(model.is_dconnected(\"L-O2\", \"SURF-STBL\", observed = [\"CORE-STBL\"]))\n",
    "# common effect not in evidence (non-activated V-structure)\n",
    "print(model.is_dconnected(\"COMFORT\", \"CORE-STBL\"))\n",
    "# common effect in evidence (activated V-structure)\n",
    "print(model.is_dconnected(\"COMFORT\", \"CORE-STBL\", observed = [\"L-O2\"]))"
   ]
  },
  {
   "cell_type": "markdown",
   "metadata": {},
   "source": [
    "Checking the Markov blanket for ``ADM-DECS`` and ``L-O2``."
   ]
  },
  {
   "cell_type": "code",
   "execution_count": 18,
   "metadata": {},
   "outputs": [
    {
     "name": "stdout",
     "output_type": "stream",
     "text": [
      "Markov blankets for variable:\n",
      "ADM-DECS:  ['L-O2', 'BP-STBL', 'SURF-STBL']\n",
      "L-O2:  ['BP-STBL', 'CORE-STBL', 'COMFORT', 'ADM-DECS', 'SURF-STBL']\n"
     ]
    }
   ],
   "source": [
    "print(\"Markov blankets for variable:\")\n",
    "print(\"ADM-DECS: \", model.get_markov_blanket(\"ADM-DECS\"))\n",
    "print(\"L-O2: \", model.get_markov_blanket(\"L-O2\"))"
   ]
  },
  {
   "cell_type": "markdown",
   "metadata": {},
   "source": [
    "## Inference"
   ]
  },
  {
   "cell_type": "markdown",
   "metadata": {},
   "source": [
    "### Exact inference\n",
    "\n",
    "Pgmpy library offers two ways of doing exact inference, *Variable Elimination method*, presented bellow, and *Belief Propagation method*. The basic concept of Variable Elimination is in a way similar to doing marginalization over Joint Distribution, except that it doesn't compute the complete Joint Distribution but marginalizes just over factors that involve the variable that is being eliminated. "
   ]
  },
  {
   "cell_type": "code",
   "execution_count": 19,
   "metadata": {},
   "outputs": [],
   "source": [
    "infer_exact = VariableElimination(model)"
   ]
  },
  {
   "cell_type": "code",
   "execution_count": 20,
   "metadata": {},
   "outputs": [
    {
     "name": "stdout",
     "output_type": "stream",
     "text": [
      "Probability of discharge decision:\n",
      "\n"
     ]
    },
    {
     "name": "stderr",
     "output_type": "stream",
     "text": [
      "Finding Elimination Order: : 100%|██████████| 8/8 [00:00<00:00, 2674.09it/s]\n",
      "Eliminating: CORE-STBL: 100%|██████████| 8/8 [00:00<00:00, 891.22it/s]"
     ]
    },
    {
     "name": "stdout",
     "output_type": "stream",
     "text": [
      "+-------------+-----------------+\n",
      "| ADM-DECS    |   phi(ADM-DECS) |\n",
      "+=============+=================+\n",
      "| ADM-DECS(A) |          0.6878 |\n",
      "+-------------+-----------------+\n",
      "| ADM-DECS(I) |          0.0311 |\n",
      "+-------------+-----------------+\n",
      "| ADM-DECS(S) |          0.2811 |\n",
      "+-------------+-----------------+\n"
     ]
    },
    {
     "name": "stderr",
     "output_type": "stream",
     "text": [
      "\n"
     ]
    }
   ],
   "source": [
    "print(\"Probability of discharge decision:\\n\")\n",
    "print(infer_exact.query([\"ADM-DECS\"]))"
   ]
  },
  {
   "cell_type": "markdown",
   "metadata": {},
   "source": [
    "#### Causal inference (prediction):\n",
    "\n",
    "What is the discharge decision given patient's internal temperature high and oxygen saturation excellent?"
   ]
  },
  {
   "cell_type": "code",
   "execution_count": 21,
   "metadata": {},
   "outputs": [
    {
     "name": "stderr",
     "output_type": "stream",
     "text": [
      "Finding Elimination Order: : 100%|██████████| 6/6 [00:00<00:00, 3005.59it/s]\n",
      "Eliminating: CORE-STBL: 100%|██████████| 6/6 [00:00<00:00, 1002.82it/s]"
     ]
    },
    {
     "name": "stdout",
     "output_type": "stream",
     "text": [
      "+-------------+-----------------+\n",
      "| ADM-DECS    |   phi(ADM-DECS) |\n",
      "+=============+=================+\n",
      "| ADM-DECS(A) |          0.7137 |\n",
      "+-------------+-----------------+\n",
      "| ADM-DECS(I) |          0.0250 |\n",
      "+-------------+-----------------+\n",
      "| ADM-DECS(S) |          0.2613 |\n",
      "+-------------+-----------------+\n"
     ]
    },
    {
     "name": "stderr",
     "output_type": "stream",
     "text": [
      "\n"
     ]
    }
   ],
   "source": [
    "print(infer_exact.query([\"ADM-DECS\"], {'L-CORE': 'high', 'L-O2': 'excellent'}))"
   ]
  },
  {
   "cell_type": "markdown",
   "metadata": {},
   "source": [
    "#### Evidential inference (explaination):\n",
    "\n",
    "Explaining the prob of stability of patient's blood pressure given that the patient was sent to Intensive Care Unit."
   ]
  },
  {
   "cell_type": "code",
   "execution_count": 22,
   "metadata": {},
   "outputs": [
    {
     "name": "stderr",
     "output_type": "stream",
     "text": [
      "Finding Elimination Order: : 100%|██████████| 7/7 [00:00<00:00, 7018.92it/s]\n",
      "Eliminating: SURF-STBL: 100%|██████████| 7/7 [00:00<00:00, 1170.29it/s]"
     ]
    },
    {
     "name": "stdout",
     "output_type": "stream",
     "text": [
      "+---------------------+----------------+\n",
      "| BP-STBL             |   phi(BP-STBL) |\n",
      "+=====================+================+\n",
      "| BP-STBL(mod-stable) |         0.2140 |\n",
      "+---------------------+----------------+\n",
      "| BP-STBL(stable)     |         0.1953 |\n",
      "+---------------------+----------------+\n",
      "| BP-STBL(unstable)   |         0.5907 |\n",
      "+---------------------+----------------+\n"
     ]
    },
    {
     "name": "stderr",
     "output_type": "stream",
     "text": [
      "\n"
     ]
    }
   ],
   "source": [
    "print(infer_exact.query([\"BP-STBL\"], evidence={\"ADM-DECS\": 'I'}))"
   ]
  },
  {
   "cell_type": "markdown",
   "metadata": {},
   "source": [
    "#### Intercausal inference (explaining away):\n",
    "\n",
    "Why was the patient sent to the general hospital floor given the fact that he had surface temperature unstable and blood pressure on average stable?"
   ]
  },
  {
   "cell_type": "code",
   "execution_count": 23,
   "metadata": {},
   "outputs": [
    {
     "name": "stderr",
     "output_type": "stream",
     "text": [
      "Finding Elimination Order: : 100%|██████████| 3/3 [00:00<00:00, 1504.41it/s]\n",
      "Eliminating: CORE-STBL: 100%|██████████| 3/3 [00:00<00:00, 1503.33it/s]"
     ]
    },
    {
     "name": "stdout",
     "output_type": "stream",
     "text": [
      "+-----------------+-------------+\n",
      "| L-O2            |   phi(L-O2) |\n",
      "+=================+=============+\n",
      "| L-O2(excellent) |      0.4297 |\n",
      "+-----------------+-------------+\n",
      "| L-O2(good)      |      0.5703 |\n",
      "+-----------------+-------------+\n"
     ]
    },
    {
     "name": "stderr",
     "output_type": "stream",
     "text": [
      "\n"
     ]
    }
   ],
   "source": [
    "print(infer_exact.query([\"L-O2\"], evidence={\"ADM-DECS\": 'A', \"SURF-STBL\": 'unstable', \"BP-STBL\": 'mod-stable'}))"
   ]
  },
  {
   "cell_type": "markdown",
   "metadata": {},
   "source": [
    "#### Inferences using hard evidence"
   ]
  },
  {
   "cell_type": "code",
   "execution_count": 24,
   "metadata": {},
   "outputs": [
    {
     "name": "stderr",
     "output_type": "stream",
     "text": [
      "Finding Elimination Order: : : 0it [00:00, ?it/s]\n",
      "0it [00:00, ?it/s]"
     ]
    },
    {
     "name": "stdout",
     "output_type": "stream",
     "text": [
      "+-------------+-----------------+\n",
      "| ADM-DECS    |   phi(ADM-DECS) |\n",
      "+=============+=================+\n",
      "| ADM-DECS(A) |          0.7360 |\n",
      "+-------------+-----------------+\n",
      "| ADM-DECS(I) |          0.0112 |\n",
      "+-------------+-----------------+\n",
      "| ADM-DECS(S) |          0.2528 |\n",
      "+-------------+-----------------+\n"
     ]
    },
    {
     "name": "stderr",
     "output_type": "stream",
     "text": [
      "\n"
     ]
    }
   ],
   "source": [
    "print(infer_exact.query([\"ADM-DECS\"], evidence={\"L-O2\": 'excellent', \"SURF-STBL\": 'stable', \"BP-STBL\": 'stable'}))"
   ]
  },
  {
   "cell_type": "markdown",
   "metadata": {},
   "source": [
    "#### The joint probability:\n",
    "\n",
    "What is the probability of patient's oxygen saturation and surface temperature given that his core temperature is unstable?\n"
   ]
  },
  {
   "cell_type": "code",
   "execution_count": 25,
   "metadata": {},
   "outputs": [
    {
     "name": "stderr",
     "output_type": "stream",
     "text": [
      "Finding Elimination Order: : 100%|██████████| 2/2 [00:00<00:00, 2005.88it/s]\n",
      "Eliminating: COMFORT: 100%|██████████| 2/2 [00:00<00:00, 2004.45it/s]"
     ]
    },
    {
     "name": "stdout",
     "output_type": "stream",
     "text": [
      "+---------------------+-----------------+-----------------------+\n",
      "| SURF-STBL           | L-O2            |   phi(SURF-STBL,L-O2) |\n",
      "+=====================+=================+=======================+\n",
      "| SURF-STBL(stable)   | L-O2(excellent) |                0.2000 |\n",
      "+---------------------+-----------------+-----------------------+\n",
      "| SURF-STBL(stable)   | L-O2(good)      |                0.0769 |\n",
      "+---------------------+-----------------+-----------------------+\n",
      "| SURF-STBL(unstable) | L-O2(excellent) |                0.5224 |\n",
      "+---------------------+-----------------+-----------------------+\n",
      "| SURF-STBL(unstable) | L-O2(good)      |                0.2008 |\n",
      "+---------------------+-----------------+-----------------------+\n"
     ]
    },
    {
     "name": "stderr",
     "output_type": "stream",
     "text": [
      "\n"
     ]
    }
   ],
   "source": [
    "print(infer_exact.query(['L-O2', 'SURF-STBL'], evidence = {'CORE-STBL': 'unstable'}))"
   ]
  },
  {
   "cell_type": "markdown",
   "metadata": {},
   "source": [
    "### Approximate Inference\n",
    "\n",
    "In ``pgmpy``, approximate Inference is implemented with a number of different sampling methods. In particular, in this section the main focus is on the ones seen during the course.\n",
    "We will apply approximate inference to show convergence to the exact probability distribution as we increase the number of samples."
   ]
  },
  {
   "cell_type": "code",
   "execution_count": 26,
   "metadata": {},
   "outputs": [],
   "source": [
    "infer_approx = ApproxInference(model)\n",
    "sampling_bayesian = BayesianModelSampling(model)\n",
    "\n",
    "samples_low = 10\n",
    "samples_high = 10000"
   ]
  },
  {
   "cell_type": "markdown",
   "metadata": {},
   "source": [
    "#### Sampling comparison\n",
    "\n",
    "Here we compare the efficiency of likelihood-weighted sampling and rejection sampling."
   ]
  },
  {
   "cell_type": "code",
   "execution_count": 27,
   "metadata": {},
   "outputs": [
    {
     "name": "stderr",
     "output_type": "stream",
     "text": [
      "Generating for node: CORE-STBL:   0%|          | 0/9 [00:00<?, ?it/s]c:\\Users\\calva\\miniconda3\\envs\\faikr3\\lib\\site-packages\\pgmpy\\utils\\mathext.py:83: UserWarning: Probability values don't exactly sum to 1. Differ by: 1.1102230246251565e-16. Adjusting values.\n",
      "  warn(\n",
      "Generating for node: ADM-DECS: 100%|██████████| 9/9 [00:00<00:00, 198.43it/s]\n",
      "Generating for node: CORE-STBL:   0%|          | 0/9 [00:00<?, ?it/s]c:\\Users\\calva\\miniconda3\\envs\\faikr3\\lib\\site-packages\\pgmpy\\utils\\mathext.py:83: UserWarning: Probability values don't exactly sum to 1. Differ by: 1.1102230246251565e-16. Adjusting values.\n",
      "  warn(\n",
      "Generating for node: ADM-DECS: 100%|██████████| 9/9 [00:00<00:00, 218.55it/s]\n",
      "  0%|          | 0/10000 [00:00<?, ?it/s]c:\\Users\\calva\\miniconda3\\envs\\faikr3\\lib\\site-packages\\pgmpy\\utils\\mathext.py:83: UserWarning: Probability values don't exactly sum to 1. Differ by: 1.1102230246251565e-16. Adjusting values.\n",
      "  warn(\n",
      "c:\\Users\\calva\\miniconda3\\envs\\faikr3\\lib\\site-packages\\pgmpy\\utils\\mathext.py:83: UserWarning: Probability values don't exactly sum to 1. Differ by: 1.1102230246251565e-16. Adjusting values.\n",
      "  warn(\n",
      "100%|██████████| 10000/10000 [00:02<00:00, 3412.82it/s]\n",
      "Generating for node: CORE-STBL:   0%|          | 0/9 [00:00<?, ?it/s]c:\\Users\\calva\\miniconda3\\envs\\faikr3\\lib\\site-packages\\pgmpy\\utils\\mathext.py:83: UserWarning: Probability values don't exactly sum to 1. Differ by: 1.1102230246251565e-16. Adjusting values.\n",
      "  warn(\n",
      "Generating for node: ADM-DECS: 100%|██████████| 9/9 [00:00<00:00, 187.99it/s]"
     ]
    },
    {
     "name": "stdout",
     "output_type": "stream",
     "text": [
      "Execution time for rejection sampling without evidence: 0.061 s\n",
      "Execution time for likelihood sampling without evidence: 0.057 s\n",
      "Execution time for rejection sampling with evidence: 2.935 s\n",
      "Execution time for likelihood sampling with evidence: 0.064 s\n"
     ]
    },
    {
     "name": "stderr",
     "output_type": "stream",
     "text": [
      "\n"
     ]
    }
   ],
   "source": [
    "#query = [\"ADM-DECS\"]\n",
    "evidence = {\"L-SURF\": \"low\", \"L-BP\": \"high\", \"COMFORT\": \"high\"}\n",
    "\n",
    "#just because pgmpy wants it like this\n",
    "evidence_nt = [(key, value) for key, value in evidence.items()]\n",
    "\n",
    "start = time()\n",
    "sampling_bayesian.rejection_sample(size=samples_high)\n",
    "time_rejection_no_evidence = time() - start\n",
    "\n",
    "start = time()\n",
    "sampling_bayesian.likelihood_weighted_sample(size=samples_high)\n",
    "time_likelihood_no_evidence = time() - start\n",
    "\n",
    "start = time()\n",
    "sampling_bayesian.rejection_sample(evidence_nt, size=samples_high)\n",
    "time_rejection = time() - start\n",
    "\n",
    "start = time()\n",
    "sampling_bayesian.likelihood_weighted_sample(evidence_nt, size=samples_high)\n",
    "time_likelihood = time() - start\n",
    "\n",
    "print(f\"Execution time for rejection sampling without evidence: {time_rejection_no_evidence:.3f} s\")\n",
    "print(f\"Execution time for likelihood sampling without evidence: {time_likelihood_no_evidence:.3f} s\")\n",
    "print(f\"Execution time for rejection sampling with evidence: {time_rejection:.3f} s\")\n",
    "print(f\"Execution time for likelihood sampling with evidence: {time_likelihood:.3f} s\")"
   ]
  },
  {
   "cell_type": "markdown",
   "metadata": {},
   "source": [
    "Likelihood weighted sampling is not affected by the evidence, whereas rejection sampling is. Therefore, likelihood weighted sampling should be preferred in general. With no attribute in the evidence, there is no difference between the two approaches."
   ]
  },
  {
   "cell_type": "markdown",
   "metadata": {},
   "source": [
    "#### Showing the convergence with an increasing number of samples\n",
    "\n",
    "\n",
    "Approximate probability with a low number of samples."
   ]
  },
  {
   "cell_type": "code",
   "execution_count": 28,
   "metadata": {},
   "outputs": [
    {
     "name": "stderr",
     "output_type": "stream",
     "text": [
      "Generating for node: CORE-STBL:   0%|          | 0/9 [00:00<?, ?it/s]c:\\Users\\calva\\miniconda3\\envs\\faikr3\\lib\\site-packages\\pgmpy\\utils\\mathext.py:83: UserWarning: Probability values don't exactly sum to 1. Differ by: 1.1102230246251565e-16. Adjusting values.\n",
      "  warn(\n",
      "Generating for node: ADM-DECS: 100%|██████████| 9/9 [00:00<00:00, 567.78it/s]"
     ]
    },
    {
     "name": "stdout",
     "output_type": "stream",
     "text": [
      "+-------------+-----------------+\n",
      "| ADM-DECS    |   phi(ADM-DECS) |\n",
      "+=============+=================+\n",
      "| ADM-DECS(A) |          0.4000 |\n",
      "+-------------+-----------------+\n",
      "| ADM-DECS(I) |          0.1000 |\n",
      "+-------------+-----------------+\n",
      "| ADM-DECS(S) |          0.5000 |\n",
      "+-------------+-----------------+\n"
     ]
    },
    {
     "name": "stderr",
     "output_type": "stream",
     "text": [
      "\n"
     ]
    }
   ],
   "source": [
    "print(infer_approx.query(variables=[\"ADM-DECS\"], n_samples=samples_low))"
   ]
  },
  {
   "cell_type": "markdown",
   "metadata": {},
   "source": [
    "Approximate probability with a high number of samples."
   ]
  },
  {
   "cell_type": "code",
   "execution_count": 29,
   "metadata": {},
   "outputs": [
    {
     "name": "stderr",
     "output_type": "stream",
     "text": [
      "Generating for node: CORE-STBL:   0%|          | 0/9 [00:00<?, ?it/s]c:\\Users\\calva\\miniconda3\\envs\\faikr3\\lib\\site-packages\\pgmpy\\utils\\mathext.py:83: UserWarning: Probability values don't exactly sum to 1. Differ by: 1.1102230246251565e-16. Adjusting values.\n",
      "  warn(\n",
      "Generating for node: ADM-DECS: 100%|██████████| 9/9 [00:00<00:00, 196.26it/s]"
     ]
    },
    {
     "name": "stdout",
     "output_type": "stream",
     "text": [
      "+-------------+-----------------+\n",
      "| ADM-DECS    |   phi(ADM-DECS) |\n",
      "+=============+=================+\n",
      "| ADM-DECS(A) |          0.6872 |\n",
      "+-------------+-----------------+\n",
      "| ADM-DECS(I) |          0.0298 |\n",
      "+-------------+-----------------+\n",
      "| ADM-DECS(S) |          0.2830 |\n",
      "+-------------+-----------------+\n"
     ]
    },
    {
     "name": "stderr",
     "output_type": "stream",
     "text": [
      "\n"
     ]
    }
   ],
   "source": [
    "print(infer_approx.query(variables=[\"ADM-DECS\"], n_samples=samples_high))"
   ]
  },
  {
   "cell_type": "markdown",
   "metadata": {},
   "source": [
    "As can be seen, using a high number of samples results in a more accurate estimation of the true probability distribution.\n",
    "\n",
    "As a reference, here is the true probability distribution."
   ]
  },
  {
   "cell_type": "code",
   "execution_count": 30,
   "metadata": {},
   "outputs": [
    {
     "name": "stderr",
     "output_type": "stream",
     "text": [
      "Finding Elimination Order: : 100%|██████████| 8/8 [00:00<00:00, 8025.46it/s]\n",
      "Eliminating: CORE-STBL: 100%|██████████| 8/8 [00:00<00:00, 1002.73it/s]"
     ]
    },
    {
     "name": "stdout",
     "output_type": "stream",
     "text": [
      "+-------------+-----------------+\n",
      "| ADM-DECS    |   phi(ADM-DECS) |\n",
      "+=============+=================+\n",
      "| ADM-DECS(A) |          0.6878 |\n",
      "+-------------+-----------------+\n",
      "| ADM-DECS(I) |          0.0311 |\n",
      "+-------------+-----------------+\n",
      "| ADM-DECS(S) |          0.2811 |\n",
      "+-------------+-----------------+\n"
     ]
    },
    {
     "name": "stderr",
     "output_type": "stream",
     "text": [
      "\n"
     ]
    }
   ],
   "source": [
    "print(infer_exact.query([\"ADM-DECS\"]))"
   ]
  },
  {
   "cell_type": "markdown",
   "metadata": {},
   "source": [
    "The convergence of discharge decision given patient's perceived comfort ``'high'`` and internal temperature ``'low'``.\n",
    "\n",
    "\n",
    "Approximate probability with a low number of samples."
   ]
  },
  {
   "cell_type": "code",
   "execution_count": 31,
   "metadata": {},
   "outputs": [
    {
     "name": "stderr",
     "output_type": "stream",
     "text": [
      "Generating for node: CORE-STBL:   0%|          | 0/9 [00:00<?, ?it/s]c:\\Users\\calva\\miniconda3\\envs\\faikr3\\lib\\site-packages\\pgmpy\\utils\\mathext.py:83: UserWarning: Probability values don't exactly sum to 1. Differ by: 1.1102230246251565e-16. Adjusting values.\n",
      "  warn(\n",
      "Generating for node: ADM-DECS: 100%|██████████| 9/9 [00:00<00:00, 564.01it/s]"
     ]
    },
    {
     "name": "stdout",
     "output_type": "stream",
     "text": [
      "+-------------+-----------------+\n",
      "| ADM-DECS    |   phi(ADM-DECS) |\n",
      "+=============+=================+\n",
      "| ADM-DECS(A) |          0.5000 |\n",
      "+-------------+-----------------+\n",
      "| ADM-DECS(S) |          0.5000 |\n",
      "+-------------+-----------------+\n"
     ]
    },
    {
     "name": "stderr",
     "output_type": "stream",
     "text": [
      "\n"
     ]
    }
   ],
   "source": [
    "samples = sampling_bayesian.likelihood_weighted_sample(evidence=[('COMFORT', 'high'), ('L-CORE', 'low')], size=samples_low)\n",
    "print(infer_approx.get_distribution(samples, variables=[\"ADM-DECS\"]))"
   ]
  },
  {
   "cell_type": "code",
   "execution_count": 32,
   "metadata": {},
   "outputs": [
    {
     "name": "stderr",
     "output_type": "stream",
     "text": [
      "Generating for node: CORE-STBL:   0%|          | 0/9 [00:00<?, ?it/s]c:\\Users\\calva\\miniconda3\\envs\\faikr3\\lib\\site-packages\\pgmpy\\utils\\mathext.py:83: UserWarning: Probability values don't exactly sum to 1. Differ by: 1.1102230246251565e-16. Adjusting values.\n",
      "  warn(\n",
      "Generating for node: ADM-DECS: 100%|██████████| 9/9 [00:00<00:00, 188.00it/s]"
     ]
    },
    {
     "name": "stdout",
     "output_type": "stream",
     "text": [
      "+-------------+-----------------+\n",
      "| ADM-DECS    |   phi(ADM-DECS) |\n",
      "+=============+=================+\n",
      "| ADM-DECS(A) |          0.6755 |\n",
      "+-------------+-----------------+\n",
      "| ADM-DECS(I) |          0.0331 |\n",
      "+-------------+-----------------+\n",
      "| ADM-DECS(S) |          0.2914 |\n",
      "+-------------+-----------------+\n"
     ]
    },
    {
     "name": "stderr",
     "output_type": "stream",
     "text": [
      "\n"
     ]
    }
   ],
   "source": [
    "samples = sampling_bayesian.likelihood_weighted_sample(evidence=[('COMFORT', 'high'), ('L-CORE', 'low')], size=samples_high)\n",
    "print(infer_approx.get_distribution(samples, variables=[\"ADM-DECS\"]))"
   ]
  },
  {
   "cell_type": "markdown",
   "metadata": {},
   "source": [
    "## Conclusion analysis\n",
    "\n",
    "We now want to make a statistical analysis on what are the parameters that lead the doctors to send a patient home, let him remain in hospital, or let him go the ICU. To do this, we make some queries on the bayesian network we created on our dataset."
   ]
  },
  {
   "cell_type": "markdown",
   "metadata": {},
   "source": [
    "#### A healthy patient\n",
    "\n",
    "We use this as a baseline to compare the other two patients with."
   ]
  },
  {
   "cell_type": "code",
   "execution_count": 33,
   "metadata": {},
   "outputs": [
    {
     "name": "stderr",
     "output_type": "stream",
     "text": [
      "Finding Elimination Order: : 100%|██████████| 1/1 [00:00<00:00, 1004.62it/s]\n",
      "Eliminating: SURF-STBL: 100%|██████████| 1/1 [00:00<?, ?it/s]"
     ]
    },
    {
     "name": "stdout",
     "output_type": "stream",
     "text": [
      "+-------------+-----------------+\n",
      "| ADM-DECS    |   phi(ADM-DECS) |\n",
      "+=============+=================+\n",
      "| ADM-DECS(A) |          0.6996 |\n",
      "+-------------+-----------------+\n",
      "| ADM-DECS(I) |          0.0127 |\n",
      "+-------------+-----------------+\n",
      "| ADM-DECS(S) |          0.2876 |\n",
      "+-------------+-----------------+\n"
     ]
    },
    {
     "name": "stderr",
     "output_type": "stream",
     "text": [
      "\n"
     ]
    }
   ],
   "source": [
    "evidence = {'BP-STBL': 'stable',\n",
    "            'L-SURF': 'mid',\n",
    "            'CORE-STBL': 'stable',\n",
    "            'L-O2': 'excellent',\n",
    "            'L-BP': 'mid'}\n",
    "print(infer_exact.query([\"ADM-DECS\"], evidence=evidence))"
   ]
  },
  {
   "cell_type": "markdown",
   "metadata": {},
   "source": [
    "#### An unhealthy patient\n",
    "\n",
    "The probability of being sent to the ICU goes from 1% to 12%, and the probability of being sent home does not change much (it goes from 29% to 27%)."
   ]
  },
  {
   "cell_type": "code",
   "execution_count": 34,
   "metadata": {},
   "outputs": [
    {
     "name": "stderr",
     "output_type": "stream",
     "text": [
      "Finding Elimination Order: : 100%|██████████| 1/1 [00:00<00:00, 1004.86it/s]\n",
      "Eliminating: SURF-STBL: 100%|██████████| 1/1 [00:00<00:00, 1006.07it/s]"
     ]
    },
    {
     "name": "stdout",
     "output_type": "stream",
     "text": [
      "+-------------+-----------------+\n",
      "| ADM-DECS    |   phi(ADM-DECS) |\n",
      "+=============+=================+\n",
      "| ADM-DECS(A) |          0.6123 |\n",
      "+-------------+-----------------+\n",
      "| ADM-DECS(I) |          0.1160 |\n",
      "+-------------+-----------------+\n",
      "| ADM-DECS(S) |          0.2718 |\n",
      "+-------------+-----------------+\n"
     ]
    },
    {
     "name": "stderr",
     "output_type": "stream",
     "text": [
      "\n"
     ]
    }
   ],
   "source": [
    "evidence = {'BP-STBL': 'unstable',\n",
    "            'L-SURF': 'high',\n",
    "            'CORE-STBL': 'unstable',\n",
    "            'L-O2': 'good',\n",
    "            'L-BP': 'low'}\n",
    "print(infer_exact.query([\"ADM-DECS\"], evidence=evidence))"
   ]
  },
  {
   "cell_type": "markdown",
   "metadata": {},
   "source": [
    "#### An in-between patient\n",
    "\n",
    "The probability of being sent to the ICU increases from 1% to 3%, but the probability to go home drops from 29% to 24%."
   ]
  },
  {
   "cell_type": "code",
   "execution_count": 35,
   "metadata": {},
   "outputs": [
    {
     "name": "stderr",
     "output_type": "stream",
     "text": [
      "Finding Elimination Order: : 100%|██████████| 3/3 [00:00<00:00, 3009.55it/s]\n",
      "Eliminating: SURF-STBL: 100%|██████████| 3/3 [00:00<00:00, 1003.50it/s]\n"
     ]
    },
    {
     "name": "stdout",
     "output_type": "stream",
     "text": [
      "+-------------+-----------------+\n",
      "| ADM-DECS    |   phi(ADM-DECS) |\n",
      "+=============+=================+\n",
      "| ADM-DECS(A) |          0.7487 |\n",
      "+-------------+-----------------+\n",
      "| ADM-DECS(I) |          0.0283 |\n",
      "+-------------+-----------------+\n",
      "| ADM-DECS(S) |          0.2229 |\n",
      "+-------------+-----------------+\n"
     ]
    }
   ],
   "source": [
    "evidence = {'BP-STBL': 'mod-stable',\n",
    "            'L-SURF': 'high',\n",
    "            'CORE-STBL': 'stable',\n",
    "            'L-BP': 'low'}\n",
    "print(infer_exact.query([\"ADM-DECS\"], evidence=evidence))"
   ]
  },
  {
   "cell_type": "markdown",
   "metadata": {},
   "source": [
    "As can be seen, the probability of being sent to the ICU depends on how healthy the patient is."
   ]
  }
 ],
 "metadata": {
  "kernelspec": {
   "display_name": "Python 3.9.7 ('faikr3')",
   "language": "python",
   "name": "python3"
  },
  "language_info": {
   "codemirror_mode": {
    "name": "ipython",
    "version": 3
   },
   "file_extension": ".py",
   "mimetype": "text/x-python",
   "name": "python",
   "nbconvert_exporter": "python",
   "pygments_lexer": "ipython3",
   "version": "3.9.7"
  },
  "orig_nbformat": 4,
  "vscode": {
   "interpreter": {
    "hash": "c39e673726100ae537dff5ceba069a1180d6a792f2667f341a26c89f65300db0"
   }
  }
 },
 "nbformat": 4,
 "nbformat_minor": 2
}
