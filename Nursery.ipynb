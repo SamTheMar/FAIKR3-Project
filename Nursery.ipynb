{
 "cells": [
  {
   "cell_type": "markdown",
   "metadata": {},
   "source": [
    "# Raisin prediction using Bayesian Networks\n",
    "FAIKR module 3 project, done by Michele Calvanese, Samuele Marino  "
   ]
  },
  {
   "cell_type": "markdown",
   "metadata": {},
   "source": [
    "## Introduction\n",
    "\n",
    "The goal of this exploratory study was to develop and assess a prediction model which can potentially be used as a biomarker of breast cancer, based on anthropometric data and parameters which can be gathered in routine blood analysis.\n",
    "\n",
    "For each of the 116 participants several clinical features were observed or measured, including age, BMI, Glucose, Insulin, HOMA, Leptin, Adiponectin, Resistin and MCP-1\n",
    "\n",
    "\n",
    "Attribute Information:\n",
    "\n",
    "\n",
    "1. Age(years): The age of the participant\n",
    "2. BMI(kg/m2): is a measure of body size. It combines a person’s weight with their height.\n",
    "3. Glucose(mg/dL): is a simple sugar which is an important energy source in living organisms\n",
    "4. Insulin(µU/mL): is a hormone made in your pancreas, a gland located behind your stomach.\n",
    "5. HOMA: is a method for assessing β-cell function and insulin resistance (IR) from basal (fasting) glucose and insulin or C-peptide concentrations.\n",
    "6. Leptin(ng/mL): is a hormone your body releases that helps it maintain your normal weight on a long-term basis.\n",
    "7. Adiponectin(µg/mL): is a protein hormone that is produced by fat cells.\n",
    "8. Resistin(ng/mL): is a cysteine-rich hormone secreted from white adipocytes.\n",
    "9. MCP-1(pg/dL): is one of the key chemokines that regulate migration and infiltration of monocytes/macrophages.\n",
    "\n",
    "Dataset [link](https://archive.ics.uci.edu/ml/datasets/Breast+Cancer+Coimbra)."
   ]
  },
  {
   "cell_type": "code",
   "execution_count": 1,
   "metadata": {},
   "outputs": [
    {
     "name": "stderr",
     "output_type": "stream",
     "text": [
      "/home/sam/anaconda3/envs/FAIKR3/lib/python3.9/site-packages/tqdm/auto.py:22: TqdmWarning: IProgress not found. Please update jupyter and ipywidgets. See https://ipywidgets.readthedocs.io/en/stable/user_install.html\n",
      "  from .autonotebook import tqdm as notebook_tqdm\n"
     ]
    }
   ],
   "source": [
    "import pandas as pd\n",
    "import numpy as np\n",
    "import pgmpy\n",
    "import networkx as nx\n",
    "import pylab as plt\n",
    "from pgmpy.models import BayesianNetwork, BayesianModel\n",
    "from pgmpy.inference import VariableElimination\n",
    "from pgmpy.estimators import HillClimbSearch, BDsScore, K2Score, BicScore, BDeuScore, MaximumLikelihoodEstimator, BayesianEstimator\n",
    "import matplotlib.pyplot as plt\n",
    "from networkx.drawing.nx_pydot import graphviz_layout\n"
   ]
  },
  {
   "cell_type": "markdown",
   "metadata": {},
   "source": [
    "## Data cleaning and preparation\n",
    "\n",
    "All attributes were used for making the Bayesian Network model. Before creating the model, all the attributes need to be discretized, as the pgmpy library only works with discrete variables."
   ]
  },
  {
   "cell_type": "code",
   "execution_count": 6,
   "metadata": {},
   "outputs": [
    {
     "data": {
      "text/html": [
       "<div>\n",
       "<style scoped>\n",
       "    .dataframe tbody tr th:only-of-type {\n",
       "        vertical-align: middle;\n",
       "    }\n",
       "\n",
       "    .dataframe tbody tr th {\n",
       "        vertical-align: top;\n",
       "    }\n",
       "\n",
       "    .dataframe thead th {\n",
       "        text-align: right;\n",
       "    }\n",
       "</style>\n",
       "<table border=\"1\" class=\"dataframe\">\n",
       "  <thead>\n",
       "    <tr style=\"text-align: right;\">\n",
       "      <th></th>\n",
       "      <th>parents</th>\n",
       "      <th>has_nurs</th>\n",
       "      <th>form</th>\n",
       "      <th>children</th>\n",
       "      <th>housing</th>\n",
       "      <th>finance</th>\n",
       "      <th>social</th>\n",
       "      <th>health</th>\n",
       "      <th>CLASS</th>\n",
       "    </tr>\n",
       "  </thead>\n",
       "  <tbody>\n",
       "    <tr>\n",
       "      <th>0</th>\n",
       "      <td>usual</td>\n",
       "      <td>proper</td>\n",
       "      <td>complete</td>\n",
       "      <td>1</td>\n",
       "      <td>convenient</td>\n",
       "      <td>convenient</td>\n",
       "      <td>nonprob</td>\n",
       "      <td>recommended</td>\n",
       "      <td>recommend</td>\n",
       "    </tr>\n",
       "    <tr>\n",
       "      <th>1</th>\n",
       "      <td>usual</td>\n",
       "      <td>proper</td>\n",
       "      <td>complete</td>\n",
       "      <td>1</td>\n",
       "      <td>convenient</td>\n",
       "      <td>convenient</td>\n",
       "      <td>nonprob</td>\n",
       "      <td>priority</td>\n",
       "      <td>priority</td>\n",
       "    </tr>\n",
       "    <tr>\n",
       "      <th>2</th>\n",
       "      <td>usual</td>\n",
       "      <td>proper</td>\n",
       "      <td>complete</td>\n",
       "      <td>1</td>\n",
       "      <td>convenient</td>\n",
       "      <td>convenient</td>\n",
       "      <td>nonprob</td>\n",
       "      <td>not_recom</td>\n",
       "      <td>not_recom</td>\n",
       "    </tr>\n",
       "    <tr>\n",
       "      <th>3</th>\n",
       "      <td>usual</td>\n",
       "      <td>proper</td>\n",
       "      <td>complete</td>\n",
       "      <td>1</td>\n",
       "      <td>convenient</td>\n",
       "      <td>convenient</td>\n",
       "      <td>slightly_prob</td>\n",
       "      <td>recommended</td>\n",
       "      <td>recommend</td>\n",
       "    </tr>\n",
       "    <tr>\n",
       "      <th>4</th>\n",
       "      <td>usual</td>\n",
       "      <td>proper</td>\n",
       "      <td>complete</td>\n",
       "      <td>1</td>\n",
       "      <td>convenient</td>\n",
       "      <td>convenient</td>\n",
       "      <td>slightly_prob</td>\n",
       "      <td>priority</td>\n",
       "      <td>priority</td>\n",
       "    </tr>\n",
       "  </tbody>\n",
       "</table>\n",
       "</div>"
      ],
      "text/plain": [
       "  parents has_nurs      form children     housing     finance         social  \\\n",
       "0   usual   proper  complete        1  convenient  convenient        nonprob   \n",
       "1   usual   proper  complete        1  convenient  convenient        nonprob   \n",
       "2   usual   proper  complete        1  convenient  convenient        nonprob   \n",
       "3   usual   proper  complete        1  convenient  convenient  slightly_prob   \n",
       "4   usual   proper  complete        1  convenient  convenient  slightly_prob   \n",
       "\n",
       "        health      CLASS  \n",
       "0  recommended  recommend  \n",
       "1     priority   priority  \n",
       "2    not_recom  not_recom  \n",
       "3  recommended  recommend  \n",
       "4     priority   priority  "
      ]
     },
     "execution_count": 6,
     "metadata": {},
     "output_type": "execute_result"
    }
   ],
   "source": [
    "path = \"./Dataset/nursery.data\"\n",
    "attributes = ['parents', 'has_nurs', 'form', 'children','housing', 'finance', 'social', 'health', 'CLASS']\n",
    "data = pd.read_csv(path, sep=',', header=None, names=attributes)\n",
    "data.head()"
   ]
  },
  {
   "cell_type": "code",
   "execution_count": 92,
   "metadata": {},
   "outputs": [
    {
     "data": {
      "text/html": [
       "<div>\n",
       "<style scoped>\n",
       "    .dataframe tbody tr th:only-of-type {\n",
       "        vertical-align: middle;\n",
       "    }\n",
       "\n",
       "    .dataframe tbody tr th {\n",
       "        vertical-align: top;\n",
       "    }\n",
       "\n",
       "    .dataframe thead th {\n",
       "        text-align: right;\n",
       "    }\n",
       "</style>\n",
       "<table border=\"1\" class=\"dataframe\">\n",
       "  <thead>\n",
       "    <tr style=\"text-align: right;\">\n",
       "      <th></th>\n",
       "      <th>parents</th>\n",
       "      <th>has_nurs</th>\n",
       "      <th>form</th>\n",
       "      <th>children</th>\n",
       "      <th>housing</th>\n",
       "      <th>finance</th>\n",
       "      <th>social</th>\n",
       "      <th>health</th>\n",
       "      <th>CLASS</th>\n",
       "    </tr>\n",
       "  </thead>\n",
       "  <tbody>\n",
       "    <tr>\n",
       "      <th>count</th>\n",
       "      <td>12960</td>\n",
       "      <td>12960</td>\n",
       "      <td>12960</td>\n",
       "      <td>12960</td>\n",
       "      <td>12960</td>\n",
       "      <td>12960</td>\n",
       "      <td>12960</td>\n",
       "      <td>12960</td>\n",
       "      <td>12960</td>\n",
       "    </tr>\n",
       "    <tr>\n",
       "      <th>unique</th>\n",
       "      <td>3</td>\n",
       "      <td>5</td>\n",
       "      <td>4</td>\n",
       "      <td>4</td>\n",
       "      <td>3</td>\n",
       "      <td>2</td>\n",
       "      <td>3</td>\n",
       "      <td>3</td>\n",
       "      <td>5</td>\n",
       "    </tr>\n",
       "    <tr>\n",
       "      <th>top</th>\n",
       "      <td>usual</td>\n",
       "      <td>proper</td>\n",
       "      <td>complete</td>\n",
       "      <td>1</td>\n",
       "      <td>convenient</td>\n",
       "      <td>convenient</td>\n",
       "      <td>nonprob</td>\n",
       "      <td>recommended</td>\n",
       "      <td>not_recom</td>\n",
       "    </tr>\n",
       "    <tr>\n",
       "      <th>freq</th>\n",
       "      <td>4320</td>\n",
       "      <td>2592</td>\n",
       "      <td>3240</td>\n",
       "      <td>3240</td>\n",
       "      <td>4320</td>\n",
       "      <td>6480</td>\n",
       "      <td>4320</td>\n",
       "      <td>4320</td>\n",
       "      <td>4320</td>\n",
       "    </tr>\n",
       "  </tbody>\n",
       "</table>\n",
       "</div>"
      ],
      "text/plain": [
       "       parents has_nurs      form children     housing     finance   social  \\\n",
       "count    12960    12960     12960    12960       12960       12960    12960   \n",
       "unique       3        5         4        4           3           2        3   \n",
       "top      usual   proper  complete        1  convenient  convenient  nonprob   \n",
       "freq      4320     2592      3240     3240        4320        6480     4320   \n",
       "\n",
       "             health      CLASS  \n",
       "count         12960      12960  \n",
       "unique            3          5  \n",
       "top     recommended  not_recom  \n",
       "freq           4320       4320  "
      ]
     },
     "execution_count": 92,
     "metadata": {},
     "output_type": "execute_result"
    }
   ],
   "source": [
    "data.describe()"
   ]
  },
  {
   "cell_type": "code",
   "execution_count": 8,
   "metadata": {},
   "outputs": [
    {
     "data": {
      "text/plain": [
       "(12960, 9)"
      ]
     },
     "execution_count": 8,
     "metadata": {},
     "output_type": "execute_result"
    }
   ],
   "source": [
    "data.shape"
   ]
  },
  {
   "cell_type": "markdown",
   "metadata": {},
   "source": [
    "Before modifying the variables, dataset is checked for the presence of N/A values."
   ]
  },
  {
   "cell_type": "code",
   "execution_count": 9,
   "metadata": {},
   "outputs": [
    {
     "data": {
      "text/plain": [
       "parents     0\n",
       "has_nurs    0\n",
       "form        0\n",
       "children    0\n",
       "housing     0\n",
       "finance     0\n",
       "social      0\n",
       "health      0\n",
       "CLASS       0\n",
       "dtype: int64"
      ]
     },
     "execution_count": 9,
     "metadata": {},
     "output_type": "execute_result"
    }
   ],
   "source": [
    "data.isnull().sum()"
   ]
  },
  {
   "cell_type": "markdown",
   "metadata": {},
   "source": [
    "So there is no N/A values"
   ]
  },
  {
   "cell_type": "markdown",
   "metadata": {},
   "source": [
    "##  Bayesian Network"
   ]
  },
  {
   "cell_type": "markdown",
   "metadata": {},
   "source": [
    "### Learning the structure of the network and analyzing it \n",
    "\n",
    "One option for defining the structure of the network would be to manually add the nodes and connections between them. Knowing the connections between nodes requires having a sufficient knowledge about the field of application in order to be able to define conditional independence assertions. \n",
    "\n",
    "Luckily, pgmpy library offers many ways for learning a structure for discrete, fully observed networks. Given a set of data samples, the algorithm estimates a directed acyclic graph that captures dependencies between the variables. We will use Score-based structure estimation that learns the model as an optimization task, and which lets the programmer choose a search strategy and a scoring function which will be used.\n",
    "\n",
    "Some of the available search strategies are:\n",
    "\n",
    "- Exhaustive search\n",
    "- Hill Climb search\n",
    "\n",
    "The search space is super-exponential in the number of variables, which is the reason why Exhaustive search wasn't chosen for this particular project. However, for a very small number of nodes, it is guaranteed to find the best-scoring graph. When networks are bigger it is better to use Hill Climb search, which implements a greedy local search starting usually from a disconnected graph. In every iteration it makes one change on edges of the graph that maximally increases the score.\n",
    "\n",
    "However, this approach often leads to inconsistent results: the node Classification may have exiting edges (which we do not want, because this is the attribute we want to predict), or multiple disconnected graphs may be found. We therefore remove all the edges that have Classification as parent and the ones that have Age as child. In addition, according to [scientific medical sources](https://bmccancer.biomedcentral.com/track/pdf/10.1186/s12885-017-3877-1.pdf), we force the learning algorithm to include the following edges in the network: ('Age', 'Classification'), ('Glucose', 'Classification'), ('Leptin', 'Classification'), ('MCP.1', 'Classification), ('Resistin', 'Classification').\n"
   ]
  },
  {
   "cell_type": "code",
   "execution_count": 189,
   "metadata": {},
   "outputs": [
    {
     "name": "stderr",
     "output_type": "stream",
     "text": [
      "  0%|          | 0/1000000 [00:01<?, ?it/s]\n"
     ]
    }
   ],
   "source": [
    "black_list = [('CLASS', attribute) for attribute in data.columns[:-1]]\n",
    "\n",
    "fixed_edges = [(attribute, 'CLASS') for attribute in data.columns[:-1]]\n",
    "\n",
    "#learning the stucutre of the network\n",
    "est = HillClimbSearch(data)\n",
    "best_model = est.estimate(scoring_method=BDsScore(data),\n",
    "                          # black_list=black_list,\n",
    "                          fixed_edges=fixed_edges\n",
    "                          )\n"
   ]
  },
  {
   "cell_type": "code",
   "execution_count": 190,
   "metadata": {},
   "outputs": [
    {
     "data": {
      "text/plain": [
       "NodeView(('parents', 'CLASS', 'has_nurs', 'form', 'children', 'housing', 'finance', 'social', 'health'))"
      ]
     },
     "execution_count": 190,
     "metadata": {},
     "output_type": "execute_result"
    }
   ],
   "source": [
    "#the estimated model returns a DAG at a (local) score maximum\n",
    "edges = list(best_model.edges())\n",
    "model = BayesianNetwork(edges)\n",
    "\n",
    "#nodes of the model\n",
    "model.nodes"
   ]
  },
  {
   "cell_type": "code",
   "execution_count": 191,
   "metadata": {},
   "outputs": [
    {
     "data": {
      "text/plain": [
       "OutEdgeView([('parents', 'CLASS'), ('has_nurs', 'CLASS'), ('form', 'CLASS'), ('children', 'CLASS'), ('housing', 'CLASS'), ('finance', 'CLASS'), ('social', 'CLASS'), ('health', 'CLASS')])"
      ]
     },
     "execution_count": 191,
     "metadata": {},
     "output_type": "execute_result"
    }
   ],
   "source": [
    "#edges of the model\n",
    "model.edges"
   ]
  },
  {
   "cell_type": "code",
   "execution_count": 192,
   "metadata": {},
   "outputs": [
    {
     "data": {
      "text/plain": [
       "networkx.classes.reportviews.OutEdgeView"
      ]
     },
     "execution_count": 192,
     "metadata": {},
     "output_type": "execute_result"
    }
   ],
   "source": [
    "type(model.edges)\n"
   ]
  },
  {
   "cell_type": "code",
   "execution_count": 193,
   "metadata": {},
   "outputs": [
    {
     "data": {
      "image/png": "[encoded data removed]",
      "text/plain": [
       "<Figure size 1152x576 with 1 Axes>"
      ]
     },
     "metadata": {},
     "output_type": "display_data"
    }
   ],
   "source": [
    "pos = graphviz_layout(model, prog=\"dot\")\n",
    "plt.figure(figsize=(16, 8))\n",
    "nx.draw(model, with_labels=True, pos=pos, node_size=3000, node_color=\"green\")\n",
    "# plt.savefig('model.png')\n",
    "plt.show()"
   ]
  },
  {
   "cell_type": "markdown",
   "metadata": {},
   "source": [
    "### Learning the parameters of the network\n",
    "\n",
    "As mentioned before, pgmpy currently supports parameter learning only for networks with discrete nodes. There are 2 available methods for determining the values of the conditional probability distributions:\n",
    "- Maximum Likelihood estimation.\n",
    "\n",
    "       This method uses relative frequencies for estimating conditional probabilities. However, in case of small datasets it is prone to overfitting.\n",
    "- Bayesian estimation.\n",
    "\n",
    "       On the other hand, Bayesian estimator assumes prior CPDs on variables and then updates them using state counts from observed data.\n",
    "Because our dataset has only 116 samples we use __Bayesian estimation__"
   ]
  },
  {
   "cell_type": "code",
   "execution_count": 194,
   "metadata": {},
   "outputs": [
    {
     "name": "stdout",
     "output_type": "stream",
     "text": [
      "CPT of parents:\n",
      "+----------------------+----------+\n",
      "| parents(great_pret)  | 0.333333 |\n",
      "+----------------------+----------+\n",
      "| parents(pretentious) | 0.333333 |\n",
      "+----------------------+----------+\n",
      "| parents(usual)       | 0.333333 |\n",
      "+----------------------+----------+ \n",
      "\n",
      " ================================================================================ \n",
      "\n",
      "CPT of CLASS:\n",
      "+-------------------+-----+-----------------------+\n",
      "| children          | ... | children(more)        |\n",
      "+-------------------+-----+-----------------------+\n",
      "| finance           | ... | finance(inconv)       |\n",
      "+-------------------+-----+-----------------------+\n",
      "| form              | ... | form(incomplete)      |\n",
      "+-------------------+-----+-----------------------+\n",
      "| has_nurs          | ... | has_nurs(very_crit)   |\n",
      "+-------------------+-----+-----------------------+\n",
      "| health            | ... | health(recommended)   |\n",
      "+-------------------+-----+-----------------------+\n",
      "| housing           | ... | housing(less_conv)    |\n",
      "+-------------------+-----+-----------------------+\n",
      "| parents           | ... | parents(usual)        |\n",
      "+-------------------+-----+-----------------------+\n",
      "| social            | ... | social(slightly_prob) |\n",
      "+-------------------+-----+-----------------------+\n",
      "| CLASS(not_recom)  | ... | 7.71307365985345e-05  |\n",
      "+-------------------+-----+-----------------------+\n",
      "| CLASS(priority)   | ... | 7.71307365985345e-05  |\n",
      "+-------------------+-----+-----------------------+\n",
      "| CLASS(recommend)  | ... | 7.71307365985345e-05  |\n",
      "+-------------------+-----+-----------------------+\n",
      "| CLASS(spec_prior) | ... | 0.9996914770536058    |\n",
      "+-------------------+-----+-----------------------+\n",
      "| CLASS(very_recom) | ... | 7.71307365985345e-05  |\n",
      "+-------------------+-----+-----------------------+ \n",
      "\n",
      " ================================================================================ \n",
      "\n",
      "CPT of has_nurs:\n",
      "+-----------------------+-----+\n",
      "| has_nurs(critical)    | 0.2 |\n",
      "+-----------------------+-----+\n",
      "| has_nurs(improper)    | 0.2 |\n",
      "+-----------------------+-----+\n",
      "| has_nurs(less_proper) | 0.2 |\n",
      "+-----------------------+-----+\n",
      "| has_nurs(proper)      | 0.2 |\n",
      "+-----------------------+-----+\n",
      "| has_nurs(very_crit)   | 0.2 |\n",
      "+-----------------------+-----+ \n",
      "\n",
      " ================================================================================ \n",
      "\n",
      "CPT of form:\n",
      "+------------------+------+\n",
      "| form(complete)   | 0.25 |\n",
      "+------------------+------+\n",
      "| form(completed)  | 0.25 |\n",
      "+------------------+------+\n",
      "| form(foster)     | 0.25 |\n",
      "+------------------+------+\n",
      "| form(incomplete) | 0.25 |\n",
      "+------------------+------+ \n",
      "\n",
      " ================================================================================ \n",
      "\n",
      "CPT of children:\n",
      "+----------------+------+\n",
      "| children(1)    | 0.25 |\n",
      "+----------------+------+\n",
      "| children(2)    | 0.25 |\n",
      "+----------------+------+\n",
      "| children(3)    | 0.25 |\n",
      "+----------------+------+\n",
      "| children(more) | 0.25 |\n",
      "+----------------+------+ \n",
      "\n",
      " ================================================================================ \n",
      "\n",
      "CPT of housing:\n",
      "+---------------------+----------+\n",
      "| housing(convenient) | 0.333333 |\n",
      "+---------------------+----------+\n",
      "| housing(critical)   | 0.333333 |\n",
      "+---------------------+----------+\n",
      "| housing(less_conv)  | 0.333333 |\n",
      "+---------------------+----------+ \n",
      "\n",
      " ================================================================================ \n",
      "\n",
      "CPT of finance:\n",
      "+---------------------+-----+\n",
      "| finance(convenient) | 0.5 |\n",
      "+---------------------+-----+\n",
      "| finance(inconv)     | 0.5 |\n",
      "+---------------------+-----+ \n",
      "\n",
      " ================================================================================ \n",
      "\n",
      "CPT of social:\n",
      "+-----------------------+----------+\n",
      "| social(nonprob)       | 0.333333 |\n",
      "+-----------------------+----------+\n",
      "| social(problematic)   | 0.333333 |\n",
      "+-----------------------+----------+\n",
      "| social(slightly_prob) | 0.333333 |\n",
      "+-----------------------+----------+ \n",
      "\n",
      " ================================================================================ \n",
      "\n",
      "CPT of health:\n",
      "+---------------------+----------+\n",
      "| health(not_recom)   | 0.333333 |\n",
      "+---------------------+----------+\n",
      "| health(priority)    | 0.333333 |\n",
      "+---------------------+----------+\n",
      "| health(recommended) | 0.333333 |\n",
      "+---------------------+----------+ \n",
      "\n",
      " ================================================================================ \n",
      "\n"
     ]
    }
   ],
   "source": [
    "model.fit(data=data, estimator=BayesianEstimator, prior_type=\"BDeu\")\n",
    "\n",
    "for cpd in model.get_cpds():\n",
    "    print(f'CPT of {cpd.variable}:')\n",
    "    print(cpd, 2*'\\n', 80*\"=\", '\\n')\n"
   ]
  },
  {
   "cell_type": "markdown",
   "metadata": {},
   "source": [
    "Checking if it has errors"
   ]
  },
  {
   "cell_type": "code",
   "execution_count": 195,
   "metadata": {},
   "outputs": [
    {
     "data": {
      "text/plain": [
       "True"
      ]
     },
     "execution_count": 195,
     "metadata": {},
     "output_type": "execute_result"
    }
   ],
   "source": [
    "model.check_model()"
   ]
  },
  {
   "cell_type": "markdown",
   "metadata": {},
   "source": [
    "Cardinality of all model nodes"
   ]
  },
  {
   "cell_type": "code",
   "execution_count": 196,
   "metadata": {},
   "outputs": [
    {
     "data": {
      "text/plain": [
       "defaultdict(int,\n",
       "            {'parents': 3,\n",
       "             'CLASS': 5,\n",
       "             'has_nurs': 5,\n",
       "             'form': 4,\n",
       "             'children': 4,\n",
       "             'housing': 3,\n",
       "             'finance': 2,\n",
       "             'social': 3,\n",
       "             'health': 3})"
      ]
     },
     "execution_count": 196,
     "metadata": {},
     "output_type": "execute_result"
    }
   ],
   "source": [
    "model.get_cardinality()"
   ]
  },
  {
   "cell_type": "markdown",
   "metadata": {},
   "source": [
    "Checking the markov blanket for Classification  and Glucose"
   ]
  },
  {
   "cell_type": "code",
   "execution_count": 197,
   "metadata": {},
   "outputs": [
    {
     "name": "stdout",
     "output_type": "stream",
     "text": [
      "Markov blanket for variable:\n"
     ]
    },
    {
     "ename": "NetworkXError",
     "evalue": "The node Classification is not in the digraph.",
     "output_type": "error",
     "traceback": [
      "\u001b[0;31m---------------------------------------------------------------------------\u001b[0m",
      "\u001b[0;31mKeyError\u001b[0m                                  Traceback (most recent call last)",
      "File \u001b[0;32m~/anaconda3/envs/FAIKR3/lib/python3.9/site-packages/networkx/classes/digraph.py:807\u001b[0m, in \u001b[0;36mDiGraph.successors\u001b[0;34m(self, n)\u001b[0m\n\u001b[1;32m    806\u001b[0m \u001b[39mtry\u001b[39;00m:\n\u001b[0;32m--> 807\u001b[0m     \u001b[39mreturn\u001b[39;00m \u001b[39miter\u001b[39m(\u001b[39mself\u001b[39;49m\u001b[39m.\u001b[39;49m_succ[n])\n\u001b[1;32m    808\u001b[0m \u001b[39mexcept\u001b[39;00m \u001b[39mKeyError\u001b[39;00m \u001b[39mas\u001b[39;00m err:\n",
      "\u001b[0;31mKeyError\u001b[0m: 'Classification'",
      "\nThe above exception was the direct cause of the following exception:\n",
      "\u001b[0;31mNetworkXError\u001b[0m                             Traceback (most recent call last)",
      "\u001b[1;32m/media/sam/COMMON/UNIVERSITA/FAI/Module_3/FAIKR3-Project/Nursery.ipynb Cell 25'\u001b[0m in \u001b[0;36m<cell line: 2>\u001b[0;34m()\u001b[0m\n\u001b[1;32m      <a href='vscode-notebook-cell:/media/sam/COMMON/UNIVERSITA/FAI/Module_3/FAIKR3-Project/Nursery.ipynb#ch0000044?line=0'>1</a>\u001b[0m \u001b[39mprint\u001b[39m(\u001b[39m\"\u001b[39m\u001b[39mMarkov blanket for variable:\u001b[39m\u001b[39m\"\u001b[39m)\n\u001b[0;32m----> <a href='vscode-notebook-cell:/media/sam/COMMON/UNIVERSITA/FAI/Module_3/FAIKR3-Project/Nursery.ipynb#ch0000044?line=1'>2</a>\u001b[0m \u001b[39mprint\u001b[39m(\u001b[39m\"\u001b[39m\u001b[39mClassification: \u001b[39m\u001b[39m\"\u001b[39m, model\u001b[39m.\u001b[39;49mget_markov_blanket(\u001b[39m\"\u001b[39;49m\u001b[39mClassification\u001b[39;49m\u001b[39m\"\u001b[39;49m))\n\u001b[1;32m      <a href='vscode-notebook-cell:/media/sam/COMMON/UNIVERSITA/FAI/Module_3/FAIKR3-Project/Nursery.ipynb#ch0000044?line=2'>3</a>\u001b[0m \u001b[39mprint\u001b[39m(\u001b[39m\"\u001b[39m\u001b[39mGlucose: \u001b[39m\u001b[39m\"\u001b[39m, model\u001b[39m.\u001b[39mget_markov_blanket(\u001b[39m\"\u001b[39m\u001b[39mGlucose\u001b[39m\u001b[39m\"\u001b[39m))\n",
      "File \u001b[0;32m~/anaconda3/envs/FAIKR3/lib/python3.9/site-packages/pgmpy/models/BayesianNetwork.py:937\u001b[0m, in \u001b[0;36mBayesianNetwork.get_markov_blanket\u001b[0;34m(self, node)\u001b[0m\n\u001b[1;32m    912\u001b[0m \u001b[39mdef\u001b[39;00m \u001b[39mget_markov_blanket\u001b[39m(\u001b[39mself\u001b[39m, node):\n\u001b[1;32m    913\u001b[0m     \u001b[39m\"\"\"\u001b[39;00m\n\u001b[1;32m    914\u001b[0m \u001b[39m    Returns a markov blanket for a random variable. In the case\u001b[39;00m\n\u001b[1;32m    915\u001b[0m \u001b[39m    of Bayesian Networks, the markov blanket is the set of\u001b[39;00m\n\u001b[0;32m   (...)\u001b[0m\n\u001b[1;32m    935\u001b[0m \u001b[39m    ['s', 'u', 'w', 'v', 'z', 'x']\u001b[39;00m\n\u001b[1;32m    936\u001b[0m \u001b[39m    \"\"\"\u001b[39;00m\n\u001b[0;32m--> 937\u001b[0m     children \u001b[39m=\u001b[39m \u001b[39mself\u001b[39;49m\u001b[39m.\u001b[39;49mget_children(node)\n\u001b[1;32m    938\u001b[0m     parents \u001b[39m=\u001b[39m \u001b[39mself\u001b[39m\u001b[39m.\u001b[39mget_parents(node)\n\u001b[1;32m    939\u001b[0m     blanket_nodes \u001b[39m=\u001b[39m children \u001b[39m+\u001b[39m parents\n",
      "File \u001b[0;32m~/anaconda3/envs/FAIKR3/lib/python3.9/site-packages/pgmpy/base/DAG.py:392\u001b[0m, in \u001b[0;36mDAG.get_children\u001b[0;34m(self, node)\u001b[0m\n\u001b[1;32m    374\u001b[0m \u001b[39mdef\u001b[39;00m \u001b[39mget_children\u001b[39m(\u001b[39mself\u001b[39m, node):\n\u001b[1;32m    375\u001b[0m     \u001b[39m\"\"\"\u001b[39;00m\n\u001b[1;32m    376\u001b[0m \u001b[39m    Returns a list of children of node.\u001b[39;00m\n\u001b[1;32m    377\u001b[0m \u001b[39m    Throws an error if the node is not present in the graph.\u001b[39;00m\n\u001b[0;32m   (...)\u001b[0m\n\u001b[1;32m    390\u001b[0m \u001b[39m    ['D', 'E', 'F']\u001b[39;00m\n\u001b[1;32m    391\u001b[0m \u001b[39m    \"\"\"\u001b[39;00m\n\u001b[0;32m--> 392\u001b[0m     \u001b[39mreturn\u001b[39;00m \u001b[39mlist\u001b[39m(\u001b[39mself\u001b[39;49m\u001b[39m.\u001b[39;49msuccessors(node))\n",
      "File \u001b[0;32m~/anaconda3/envs/FAIKR3/lib/python3.9/site-packages/networkx/classes/digraph.py:809\u001b[0m, in \u001b[0;36mDiGraph.successors\u001b[0;34m(self, n)\u001b[0m\n\u001b[1;32m    807\u001b[0m     \u001b[39mreturn\u001b[39;00m \u001b[39miter\u001b[39m(\u001b[39mself\u001b[39m\u001b[39m.\u001b[39m_succ[n])\n\u001b[1;32m    808\u001b[0m \u001b[39mexcept\u001b[39;00m \u001b[39mKeyError\u001b[39;00m \u001b[39mas\u001b[39;00m err:\n\u001b[0;32m--> 809\u001b[0m     \u001b[39mraise\u001b[39;00m NetworkXError(\u001b[39mf\u001b[39m\u001b[39m\"\u001b[39m\u001b[39mThe node \u001b[39m\u001b[39m{\u001b[39;00mn\u001b[39m}\u001b[39;00m\u001b[39m is not in the digraph.\u001b[39m\u001b[39m\"\u001b[39m) \u001b[39mfrom\u001b[39;00m \u001b[39merr\u001b[39;00m\n",
      "\u001b[0;31mNetworkXError\u001b[0m: The node Classification is not in the digraph."
     ]
    }
   ],
   "source": [
    "print(\"Markov blanket for variable:\")\n",
    "print(\"Classification: \", model.get_markov_blanket(\"Classification\"))\n",
    "print(\"Glucose: \", model.get_markov_blanket(\"Glucose\"))"
   ]
  }
 ],
 "metadata": {
  "kernelspec": {
   "display_name": "Python 3.9.12 ('FAIKR3')",
   "language": "python",
   "name": "python3"
  },
  "language_info": {
   "codemirror_mode": {
    "name": "ipython",
    "version": 3
   },
   "file_extension": ".py",
   "mimetype": "text/x-python",
   "name": "python",
   "nbconvert_exporter": "python",
   "pygments_lexer": "ipython3",
   "version": "3.9.12"
  },
  "orig_nbformat": 4,
  "vscode": {
   "interpreter": {
    "hash": "b1271c15daf27ce1261d6a1134f79b209dab52771e7f933454657a66d1b3a73a"
   }
  }
 },
 "nbformat": 4,
 "nbformat_minor": 2
}
