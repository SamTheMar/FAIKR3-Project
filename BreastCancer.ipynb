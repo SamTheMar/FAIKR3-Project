{
 "cells": [
  {
   "cell_type": "markdown",
   "metadata": {},
   "source": [
    "# Raisin prediction using Bayesian Networks\n",
    "FAIKR module 3 project, done by Michele Calvanese, Samuele Marino  "
   ]
  },
  {
   "cell_type": "markdown",
   "metadata": {},
   "source": [
    "## Introduction\n",
    "\n",
    "The goal of this exploratory study was to develop and assess a prediction model which can potentially be used as a biomarker of breast cancer, based on anthropometric data and parameters which can be gathered in routine blood analysis.\n",
    "\n",
    "For each of the 116 participants several clinical features were observed or measured, including age, BMI, Glucose, Insulin, HOMA, Leptin, Adiponectin, Resistin and MCP-1\n",
    "\n",
    "\n",
    "Attribute Information:\n",
    "\n",
    "\n",
    "1. Age(years): The age of the participant\n",
    "2. BMI(kg/m2): is a measure of body size. It combines a person’s weight with their height.\n",
    "3. Glucose(mg/dL): is a simple sugar which is an important energy source in living organisms\n",
    "4. Insulin(µU/mL): is a hormone made in your pancreas, a gland located behind your stomach.\n",
    "5. HOMA: is a method for assessing β-cell function and insulin resistance (IR) from basal (fasting) glucose and insulin or C-peptide concentrations.\n",
    "6. Leptin(ng/mL): is a hormone your body releases that helps it maintain your normal weight on a long-term basis.\n",
    "7. Adiponectin(µg/mL): is a protein hormone that is produced by fat cells.\n",
    "8. Resistin(ng/mL): is a cysteine-rich hormone secreted from white adipocytes.\n",
    "9. MCP-1(pg/dL): is one of the key chemokines that regulate migration and infiltration of monocytes/macrophages.\n",
    "\n",
    "Dataset [link](https://archive.ics.uci.edu/ml/datasets/Breast+Cancer+Coimbra)."
   ]
  },
  {
   "cell_type": "code",
   "execution_count": 73,
   "metadata": {},
   "outputs": [],
   "source": [
    "import pandas as pd\n",
    "import numpy as np\n",
    "import pgmpy\n",
    "import networkx as nx\n",
    "import pylab as plt\n",
    "from pgmpy.models import BayesianNetwork, BayesianModel\n",
    "from pgmpy.inference import VariableElimination\n",
    "from pgmpy.estimators import HillClimbSearch, BDsScore, K2Score, BicScore, BDeuScore, MaximumLikelihoodEstimator, BayesianEstimator\n",
    "import matplotlib.pyplot as plt\n",
    "from networkx.drawing.nx_pydot import graphviz_layout\n"
   ]
  },
  {
   "cell_type": "markdown",
   "metadata": {},
   "source": [
    "## Data cleaning and preparation\n",
    "\n",
    "All attributes were used for making the Bayesian Network model. Before creating the model, all the attributes need to be discretized, as the pgmpy library only works with discrete variables."
   ]
  },
  {
   "cell_type": "code",
   "execution_count": 74,
   "metadata": {},
   "outputs": [
    {
     "data": {
      "text/html": [
       "<div>\n",
       "<style scoped>\n",
       "    .dataframe tbody tr th:only-of-type {\n",
       "        vertical-align: middle;\n",
       "    }\n",
       "\n",
       "    .dataframe tbody tr th {\n",
       "        vertical-align: top;\n",
       "    }\n",
       "\n",
       "    .dataframe thead th {\n",
       "        text-align: right;\n",
       "    }\n",
       "</style>\n",
       "<table border=\"1\" class=\"dataframe\">\n",
       "  <thead>\n",
       "    <tr style=\"text-align: right;\">\n",
       "      <th></th>\n",
       "      <th>Age</th>\n",
       "      <th>BMI</th>\n",
       "      <th>Glucose</th>\n",
       "      <th>Insulin</th>\n",
       "      <th>HOMA</th>\n",
       "      <th>Leptin</th>\n",
       "      <th>Adiponectin</th>\n",
       "      <th>Resistin</th>\n",
       "      <th>MCP.1</th>\n",
       "      <th>Classification</th>\n",
       "    </tr>\n",
       "  </thead>\n",
       "  <tbody>\n",
       "    <tr>\n",
       "      <th>0</th>\n",
       "      <td>48</td>\n",
       "      <td>23.500000</td>\n",
       "      <td>70</td>\n",
       "      <td>2.707</td>\n",
       "      <td>0.467409</td>\n",
       "      <td>8.8071</td>\n",
       "      <td>9.702400</td>\n",
       "      <td>7.99585</td>\n",
       "      <td>417.114</td>\n",
       "      <td>1</td>\n",
       "    </tr>\n",
       "    <tr>\n",
       "      <th>1</th>\n",
       "      <td>83</td>\n",
       "      <td>20.690495</td>\n",
       "      <td>92</td>\n",
       "      <td>3.115</td>\n",
       "      <td>0.706897</td>\n",
       "      <td>8.8438</td>\n",
       "      <td>5.429285</td>\n",
       "      <td>4.06405</td>\n",
       "      <td>468.786</td>\n",
       "      <td>1</td>\n",
       "    </tr>\n",
       "    <tr>\n",
       "      <th>2</th>\n",
       "      <td>82</td>\n",
       "      <td>23.124670</td>\n",
       "      <td>91</td>\n",
       "      <td>4.498</td>\n",
       "      <td>1.009651</td>\n",
       "      <td>17.9393</td>\n",
       "      <td>22.432040</td>\n",
       "      <td>9.27715</td>\n",
       "      <td>554.697</td>\n",
       "      <td>1</td>\n",
       "    </tr>\n",
       "    <tr>\n",
       "      <th>3</th>\n",
       "      <td>68</td>\n",
       "      <td>21.367521</td>\n",
       "      <td>77</td>\n",
       "      <td>3.226</td>\n",
       "      <td>0.612725</td>\n",
       "      <td>9.8827</td>\n",
       "      <td>7.169560</td>\n",
       "      <td>12.76600</td>\n",
       "      <td>928.220</td>\n",
       "      <td>1</td>\n",
       "    </tr>\n",
       "    <tr>\n",
       "      <th>4</th>\n",
       "      <td>86</td>\n",
       "      <td>21.111111</td>\n",
       "      <td>92</td>\n",
       "      <td>3.549</td>\n",
       "      <td>0.805386</td>\n",
       "      <td>6.6994</td>\n",
       "      <td>4.819240</td>\n",
       "      <td>10.57635</td>\n",
       "      <td>773.920</td>\n",
       "      <td>1</td>\n",
       "    </tr>\n",
       "  </tbody>\n",
       "</table>\n",
       "</div>"
      ],
      "text/plain": [
       "   Age        BMI  Glucose  Insulin      HOMA   Leptin  Adiponectin  Resistin  \\\n",
       "0   48  23.500000       70    2.707  0.467409   8.8071     9.702400   7.99585   \n",
       "1   83  20.690495       92    3.115  0.706897   8.8438     5.429285   4.06405   \n",
       "2   82  23.124670       91    4.498  1.009651  17.9393    22.432040   9.27715   \n",
       "3   68  21.367521       77    3.226  0.612725   9.8827     7.169560  12.76600   \n",
       "4   86  21.111111       92    3.549  0.805386   6.6994     4.819240  10.57635   \n",
       "\n",
       "     MCP.1  Classification  \n",
       "0  417.114               1  \n",
       "1  468.786               1  \n",
       "2  554.697               1  \n",
       "3  928.220               1  \n",
       "4  773.920               1  "
      ]
     },
     "execution_count": 74,
     "metadata": {},
     "output_type": "execute_result"
    }
   ],
   "source": [
    "path = \"./Dataset/dataR2.xlsx\"\n",
    "data = pd.read_excel(path)\n",
    "data.head()"
   ]
  },
  {
   "cell_type": "code",
   "execution_count": 75,
   "metadata": {},
   "outputs": [
    {
     "data": {
      "text/html": [
       "<div>\n",
       "<style scoped>\n",
       "    .dataframe tbody tr th:only-of-type {\n",
       "        vertical-align: middle;\n",
       "    }\n",
       "\n",
       "    .dataframe tbody tr th {\n",
       "        vertical-align: top;\n",
       "    }\n",
       "\n",
       "    .dataframe thead th {\n",
       "        text-align: right;\n",
       "    }\n",
       "</style>\n",
       "<table border=\"1\" class=\"dataframe\">\n",
       "  <thead>\n",
       "    <tr style=\"text-align: right;\">\n",
       "      <th></th>\n",
       "      <th>Age</th>\n",
       "      <th>BMI</th>\n",
       "      <th>Glucose</th>\n",
       "      <th>Insulin</th>\n",
       "      <th>HOMA</th>\n",
       "      <th>Leptin</th>\n",
       "      <th>Adiponectin</th>\n",
       "      <th>Resistin</th>\n",
       "      <th>MCP.1</th>\n",
       "      <th>Classification</th>\n",
       "    </tr>\n",
       "  </thead>\n",
       "  <tbody>\n",
       "    <tr>\n",
       "      <th>count</th>\n",
       "      <td>116.000000</td>\n",
       "      <td>116.000000</td>\n",
       "      <td>116.000000</td>\n",
       "      <td>116.000000</td>\n",
       "      <td>116.000000</td>\n",
       "      <td>116.000000</td>\n",
       "      <td>116.000000</td>\n",
       "      <td>116.000000</td>\n",
       "      <td>116.000000</td>\n",
       "      <td>116.000000</td>\n",
       "    </tr>\n",
       "    <tr>\n",
       "      <th>mean</th>\n",
       "      <td>57.301724</td>\n",
       "      <td>27.582111</td>\n",
       "      <td>97.793103</td>\n",
       "      <td>10.012086</td>\n",
       "      <td>2.694988</td>\n",
       "      <td>26.615080</td>\n",
       "      <td>10.180874</td>\n",
       "      <td>14.725966</td>\n",
       "      <td>534.647000</td>\n",
       "      <td>1.551724</td>\n",
       "    </tr>\n",
       "    <tr>\n",
       "      <th>std</th>\n",
       "      <td>16.112766</td>\n",
       "      <td>5.020136</td>\n",
       "      <td>22.525162</td>\n",
       "      <td>10.067768</td>\n",
       "      <td>3.642043</td>\n",
       "      <td>19.183294</td>\n",
       "      <td>6.843341</td>\n",
       "      <td>12.390646</td>\n",
       "      <td>345.912663</td>\n",
       "      <td>0.499475</td>\n",
       "    </tr>\n",
       "    <tr>\n",
       "      <th>min</th>\n",
       "      <td>24.000000</td>\n",
       "      <td>18.370000</td>\n",
       "      <td>60.000000</td>\n",
       "      <td>2.432000</td>\n",
       "      <td>0.467409</td>\n",
       "      <td>4.311000</td>\n",
       "      <td>1.656020</td>\n",
       "      <td>3.210000</td>\n",
       "      <td>45.843000</td>\n",
       "      <td>1.000000</td>\n",
       "    </tr>\n",
       "    <tr>\n",
       "      <th>25%</th>\n",
       "      <td>45.000000</td>\n",
       "      <td>22.973205</td>\n",
       "      <td>85.750000</td>\n",
       "      <td>4.359250</td>\n",
       "      <td>0.917966</td>\n",
       "      <td>12.313675</td>\n",
       "      <td>5.474283</td>\n",
       "      <td>6.881763</td>\n",
       "      <td>269.978250</td>\n",
       "      <td>1.000000</td>\n",
       "    </tr>\n",
       "    <tr>\n",
       "      <th>50%</th>\n",
       "      <td>56.000000</td>\n",
       "      <td>27.662416</td>\n",
       "      <td>92.000000</td>\n",
       "      <td>5.924500</td>\n",
       "      <td>1.380939</td>\n",
       "      <td>20.271000</td>\n",
       "      <td>8.352692</td>\n",
       "      <td>10.827740</td>\n",
       "      <td>471.322500</td>\n",
       "      <td>2.000000</td>\n",
       "    </tr>\n",
       "    <tr>\n",
       "      <th>75%</th>\n",
       "      <td>71.000000</td>\n",
       "      <td>31.241442</td>\n",
       "      <td>102.000000</td>\n",
       "      <td>11.189250</td>\n",
       "      <td>2.857787</td>\n",
       "      <td>37.378300</td>\n",
       "      <td>11.815970</td>\n",
       "      <td>17.755207</td>\n",
       "      <td>700.085000</td>\n",
       "      <td>2.000000</td>\n",
       "    </tr>\n",
       "    <tr>\n",
       "      <th>max</th>\n",
       "      <td>89.000000</td>\n",
       "      <td>38.578759</td>\n",
       "      <td>201.000000</td>\n",
       "      <td>58.460000</td>\n",
       "      <td>25.050342</td>\n",
       "      <td>90.280000</td>\n",
       "      <td>38.040000</td>\n",
       "      <td>82.100000</td>\n",
       "      <td>1698.440000</td>\n",
       "      <td>2.000000</td>\n",
       "    </tr>\n",
       "  </tbody>\n",
       "</table>\n",
       "</div>"
      ],
      "text/plain": [
       "              Age         BMI     Glucose     Insulin        HOMA      Leptin  \\\n",
       "count  116.000000  116.000000  116.000000  116.000000  116.000000  116.000000   \n",
       "mean    57.301724   27.582111   97.793103   10.012086    2.694988   26.615080   \n",
       "std     16.112766    5.020136   22.525162   10.067768    3.642043   19.183294   \n",
       "min     24.000000   18.370000   60.000000    2.432000    0.467409    4.311000   \n",
       "25%     45.000000   22.973205   85.750000    4.359250    0.917966   12.313675   \n",
       "50%     56.000000   27.662416   92.000000    5.924500    1.380939   20.271000   \n",
       "75%     71.000000   31.241442  102.000000   11.189250    2.857787   37.378300   \n",
       "max     89.000000   38.578759  201.000000   58.460000   25.050342   90.280000   \n",
       "\n",
       "       Adiponectin    Resistin        MCP.1  Classification  \n",
       "count   116.000000  116.000000   116.000000      116.000000  \n",
       "mean     10.180874   14.725966   534.647000        1.551724  \n",
       "std       6.843341   12.390646   345.912663        0.499475  \n",
       "min       1.656020    3.210000    45.843000        1.000000  \n",
       "25%       5.474283    6.881763   269.978250        1.000000  \n",
       "50%       8.352692   10.827740   471.322500        2.000000  \n",
       "75%      11.815970   17.755207   700.085000        2.000000  \n",
       "max      38.040000   82.100000  1698.440000        2.000000  "
      ]
     },
     "execution_count": 75,
     "metadata": {},
     "output_type": "execute_result"
    }
   ],
   "source": [
    "data.describe()"
   ]
  },
  {
   "cell_type": "code",
   "execution_count": 76,
   "metadata": {},
   "outputs": [
    {
     "data": {
      "text/plain": [
       "(116, 10)"
      ]
     },
     "execution_count": 76,
     "metadata": {},
     "output_type": "execute_result"
    }
   ],
   "source": [
    "data.shape"
   ]
  },
  {
   "cell_type": "markdown",
   "metadata": {},
   "source": [
    "Before modifying the variables, dataset is checked for the presence of N/A values."
   ]
  },
  {
   "cell_type": "code",
   "execution_count": 77,
   "metadata": {},
   "outputs": [
    {
     "data": {
      "text/plain": [
       "Age               0\n",
       "BMI               0\n",
       "Glucose           0\n",
       "Insulin           0\n",
       "HOMA              0\n",
       "Leptin            0\n",
       "Adiponectin       0\n",
       "Resistin          0\n",
       "MCP.1             0\n",
       "Classification    0\n",
       "dtype: int64"
      ]
     },
     "execution_count": 77,
     "metadata": {},
     "output_type": "execute_result"
    }
   ],
   "source": [
    "data.isnull().sum()"
   ]
  },
  {
   "cell_type": "markdown",
   "metadata": {},
   "source": [
    "So there is no N/A values"
   ]
  },
  {
   "cell_type": "markdown",
   "metadata": {},
   "source": [
    "### Variable discretization"
   ]
  },
  {
   "cell_type": "code",
   "execution_count": 78,
   "metadata": {},
   "outputs": [
    {
     "data": {
      "image/png": "[encoded data removed]",
      "text/plain": [
       "<Figure size 1440x720 with 9 Axes>"
      ]
     },
     "metadata": {
      "needs_background": "light"
     },
     "output_type": "display_data"
    }
   ],
   "source": [
    "data.drop('Classification', axis=1).hist(bins=30, figsize=(20, 10));"
   ]
  },
  {
   "cell_type": "markdown",
   "metadata": {},
   "source": [
    "#### Age"
   ]
  },
  {
   "cell_type": "code",
   "execution_count": 79,
   "metadata": {},
   "outputs": [],
   "source": [
    "min = data['Age'].min()\n",
    "max = data['Age'].max()\n",
    "\n",
    "data['Age'] = pd.cut(x=data['Age'], bins=[min-1, 40, 55, 80, max], labels=[\"24-39\", \"39-54\", \"55-79\", \"80+\"])"
   ]
  },
  {
   "cell_type": "markdown",
   "metadata": {},
   "source": [
    "#### BMI\n",
    "\n",
    "BMI is a measurement of a person's leanness or corpulence based on their height and weight, and is intended to quantify tissue mass. It is widely used as a general indicator of whether a person has a healthy body weight for their height. Specifically, the value obtained from the calculation of BMI is used to categorize whether a person is underweight, normal weight, overweight, or obese depending on what range the value falls between.\n",
    "\n",
    "This is the World Health Organization's ([WHO](https://www.who.int/)) recommended body weight based on BMI values for adults. It is used for both men and women, age 18 or older:\n",
    "\n",
    "- Thinness: < 18.5\n",
    "- Normal: >= 18.5 and < 25\n",
    "- Overweight: >= 25 < 30\n",
    "- Obese Class: >= 30"
   ]
  },
  {
   "cell_type": "code",
   "execution_count": 80,
   "metadata": {},
   "outputs": [],
   "source": [
    "data['BMI'] = pd.cut(x=data['BMI'], \n",
    "                     bins=[0, 18.5, 25, 30, 100], \n",
    "                     labels=[\"Thinness\", \"Normal\",\"Overweight\", \"Obese Class\"])\n"
   ]
  },
  {
   "cell_type": "markdown",
   "metadata": {},
   "source": [
    "#### Glucose\n",
    "\n",
    "According to [Mayo Clinic](https://www.mayoclinic.org/diseases-conditions/diabetes/diagnosis-treatment/drc-20371451), for the majority of healthy individuals, normal blood sugar levels are as follows: \n",
    "\n",
    "- Normal: Below  140 mg/dL\n",
    "- Prediabetes: 140 and 199 mg/dl\n",
    "- Diabetes: 200 mg/dL\n"
   ]
  },
  {
   "cell_type": "code",
   "execution_count": 81,
   "metadata": {},
   "outputs": [],
   "source": [
    "data['Glucose'] = pd.cut(x=data['Glucose'], \n",
    "                         bins=[0, 70, 120, 300], \n",
    "                         labels=[\"Normal\", \"Prediabetes\", \"Diabetes\"])"
   ]
  },
  {
   "cell_type": "markdown",
   "metadata": {},
   "source": [
    "#### Insulin\n",
    "\n",
    "According [MedScape](https://emedicine.medscape.com/article/2089224-overview#a1), for the majority of healthy individuals, normal blood insulin levels are as follows:\n",
    "\n",
    "- Normal: < 25(µU/mL)\n",
    "- High: >= 25(µU/mL)"
   ]
  },
  {
   "cell_type": "code",
   "execution_count": 82,
   "metadata": {},
   "outputs": [],
   "source": [
    "data['Insulin'] = pd.cut(x=data['Insulin'], bins=[0, 25, 100], labels=[\"normal\", \"high\"])"
   ]
  },
  {
   "cell_type": "markdown",
   "metadata": {},
   "source": [
    "#### HOMA\n",
    "\n",
    "Different [studies](https://www.ncbi.nlm.nih.gov/pmc/articles/PMC3890224/) provide slightly different ranges for HOMA. But they all agree that the higher your HOMA gets, the more insulin resistant you are.\n",
    "\n",
    "Generally, you have optimal insulin sensitivity if your HOMA is less than 10. Levels above 19 signal early insulin resistance, while levels above 29 signal significant insulin resistance."
   ]
  },
  {
   "cell_type": "code",
   "execution_count": 83,
   "metadata": {},
   "outputs": [],
   "source": [
    "data['HOMA'] = pd.cut(x=data['HOMA'], \n",
    "                      bins=[0, 10, 29, 50], \n",
    "                      labels=[\"insulin sensitivity\", \"insulin resistance\", \"significant insulin resistane\"])"
   ]
  },
  {
   "cell_type": "markdown",
   "metadata": {},
   "source": [
    "#### Leptin\n",
    "\n",
    "From cross-sectional [study](https://www.sciencedirect.com/science/article/abs/pii/S0300893214006113) conducted from 2008 to 2010 on 11,540 individuals representative of the Spanish population aged ≥ 18 years it is clear that leptin values were higher in women than in men (geometric mean, 21.9 and 6.6 ng/ml; p < 0.001). In women, the median [interquartile range] was 24.5 [14.1-37.0] ng/ml."
   ]
  },
  {
   "cell_type": "code",
   "execution_count": 84,
   "metadata": {},
   "outputs": [],
   "source": [
    "data['Leptin'] = pd.cut(x=data['Leptin'], \n",
    "                        bins=[0, 14.1, 37.0, 150], \n",
    "                        labels=[\"low\", \"medium\", \"high\"])"
   ]
  },
  {
   "cell_type": "markdown",
   "metadata": {},
   "source": [
    "#### Adiponectin\n",
    "\n",
    "According [(POP-ABC) study](https://drc.bmj.com/content/4/1/e000194), for the majority of healthy individuals, normal blood adiponectin levels are as follows:\n",
    "\n",
    "- Low: <3(µg/mL)\n",
    "- Normal: >= 3(µg/mL) and < 30(µU/mL)\n",
    "- High: >= 30(µU/mL)\n",
    "\n"
   ]
  },
  {
   "cell_type": "code",
   "execution_count": 85,
   "metadata": {},
   "outputs": [],
   "source": [
    "data['Adiponectin'] = pd.cut(x=data['Adiponectin'], bins=[0, 15, 30, 50], labels=[\"low\", \"medium\", \"high\"])"
   ]
  },
  {
   "cell_type": "markdown",
   "metadata": {},
   "source": [
    "#### Resistin\n",
    "\n",
    "According [The Journal of Clinical Endocrinology & Metabolism](https://doi.org/10.1210/jc.2005-2115), for the majority of healthy individuals, normal blood resistin levels are as follows:\n",
    "\n",
    "- Normal: < 9(µU/mL)\n",
    "- High: >= 30(µU/mL)\n"
   ]
  },
  {
   "cell_type": "code",
   "execution_count": 86,
   "metadata": {},
   "outputs": [],
   "source": [
    "data['Resistin'] = pd.cut(x=data['Resistin'], bins=[0, 29, 100], labels=[\"low\", \"high\"])"
   ]
  },
  {
   "cell_type": "markdown",
   "metadata": {},
   "source": [
    "#### MCP.1\n",
    "According Toni Valković's [study](https://doi.org/10.1155/2016/7870590), for the majority of healthy individuals, normal blood MCP-1 levels are as follows:\n",
    "\n",
    "- Low: < 500(pg/dL)\n",
    "- Medium: >= 500(pg/dL) and < 1200(pg/dL)\n",
    "- High: >= 1200(pg/dL)\n",
    "\n"
   ]
  },
  {
   "cell_type": "code",
   "execution_count": 87,
   "metadata": {},
   "outputs": [],
   "source": [
    "data['MCP.1'] = pd.cut(x=data['MCP.1'], bins=[0, 500, 1200, 2000], labels=[\"low\", \"medium\", \"high\"])"
   ]
  },
  {
   "cell_type": "code",
   "execution_count": 88,
   "metadata": {},
   "outputs": [
    {
     "data": {
      "text/html": [
       "<div>\n",
       "<style scoped>\n",
       "    .dataframe tbody tr th:only-of-type {\n",
       "        vertical-align: middle;\n",
       "    }\n",
       "\n",
       "    .dataframe tbody tr th {\n",
       "        vertical-align: top;\n",
       "    }\n",
       "\n",
       "    .dataframe thead th {\n",
       "        text-align: right;\n",
       "    }\n",
       "</style>\n",
       "<table border=\"1\" class=\"dataframe\">\n",
       "  <thead>\n",
       "    <tr style=\"text-align: right;\">\n",
       "      <th></th>\n",
       "      <th>Age</th>\n",
       "      <th>BMI</th>\n",
       "      <th>Glucose</th>\n",
       "      <th>Insulin</th>\n",
       "      <th>HOMA</th>\n",
       "      <th>Leptin</th>\n",
       "      <th>Adiponectin</th>\n",
       "      <th>Resistin</th>\n",
       "      <th>MCP.1</th>\n",
       "      <th>Classification</th>\n",
       "    </tr>\n",
       "  </thead>\n",
       "  <tbody>\n",
       "    <tr>\n",
       "      <th>0</th>\n",
       "      <td>39-54</td>\n",
       "      <td>Normal</td>\n",
       "      <td>Normal</td>\n",
       "      <td>normal</td>\n",
       "      <td>insulin sensitivity</td>\n",
       "      <td>low</td>\n",
       "      <td>low</td>\n",
       "      <td>low</td>\n",
       "      <td>low</td>\n",
       "      <td>1</td>\n",
       "    </tr>\n",
       "    <tr>\n",
       "      <th>1</th>\n",
       "      <td>80+</td>\n",
       "      <td>Normal</td>\n",
       "      <td>Prediabetes</td>\n",
       "      <td>normal</td>\n",
       "      <td>insulin sensitivity</td>\n",
       "      <td>low</td>\n",
       "      <td>low</td>\n",
       "      <td>low</td>\n",
       "      <td>low</td>\n",
       "      <td>1</td>\n",
       "    </tr>\n",
       "    <tr>\n",
       "      <th>2</th>\n",
       "      <td>80+</td>\n",
       "      <td>Normal</td>\n",
       "      <td>Prediabetes</td>\n",
       "      <td>normal</td>\n",
       "      <td>insulin sensitivity</td>\n",
       "      <td>medium</td>\n",
       "      <td>medium</td>\n",
       "      <td>low</td>\n",
       "      <td>medium</td>\n",
       "      <td>1</td>\n",
       "    </tr>\n",
       "    <tr>\n",
       "      <th>3</th>\n",
       "      <td>55-79</td>\n",
       "      <td>Normal</td>\n",
       "      <td>Prediabetes</td>\n",
       "      <td>normal</td>\n",
       "      <td>insulin sensitivity</td>\n",
       "      <td>low</td>\n",
       "      <td>low</td>\n",
       "      <td>low</td>\n",
       "      <td>medium</td>\n",
       "      <td>1</td>\n",
       "    </tr>\n",
       "    <tr>\n",
       "      <th>4</th>\n",
       "      <td>80+</td>\n",
       "      <td>Normal</td>\n",
       "      <td>Prediabetes</td>\n",
       "      <td>normal</td>\n",
       "      <td>insulin sensitivity</td>\n",
       "      <td>low</td>\n",
       "      <td>low</td>\n",
       "      <td>low</td>\n",
       "      <td>medium</td>\n",
       "      <td>1</td>\n",
       "    </tr>\n",
       "  </tbody>\n",
       "</table>\n",
       "</div>"
      ],
      "text/plain": [
       "     Age     BMI      Glucose Insulin                 HOMA  Leptin  \\\n",
       "0  39-54  Normal       Normal  normal  insulin sensitivity     low   \n",
       "1    80+  Normal  Prediabetes  normal  insulin sensitivity     low   \n",
       "2    80+  Normal  Prediabetes  normal  insulin sensitivity  medium   \n",
       "3  55-79  Normal  Prediabetes  normal  insulin sensitivity     low   \n",
       "4    80+  Normal  Prediabetes  normal  insulin sensitivity     low   \n",
       "\n",
       "  Adiponectin Resistin   MCP.1  Classification  \n",
       "0         low      low     low               1  \n",
       "1         low      low     low               1  \n",
       "2      medium      low  medium               1  \n",
       "3         low      low  medium               1  \n",
       "4         low      low  medium               1  "
      ]
     },
     "execution_count": 88,
     "metadata": {},
     "output_type": "execute_result"
    }
   ],
   "source": [
    "data.head()"
   ]
  },
  {
   "cell_type": "markdown",
   "metadata": {},
   "source": [
    "##  Bayesian Network"
   ]
  },
  {
   "cell_type": "markdown",
   "metadata": {},
   "source": [
    "### Learning the structure of the network and analyzing it \n",
    "\n",
    "One option for defining the structure of the network would be to manually add the nodes and connections between them. Knowing the connections between nodes requires having a sufficient knowledge about the field of application in order to be able to define conditional independence assertions. \n",
    "\n",
    "Luckily, pgmpy library offers many ways for learning a structure for discrete, fully observed networks. Given a set of data samples, the algorithm estimates a directed acyclic graph that captures dependencies between the variables. We will use Score-based structure estimation that learns the model as an optimization task, and which lets the programmer choose a search strategy and a scoring function which will be used.\n",
    "\n",
    "Some of the available search strategies are:\n",
    "\n",
    "- Exhaustive search\n",
    "- Hill Climb search\n",
    "\n",
    "The search space is super-exponential in the number of variables, which is the reason why Exhaustive search wasn't chosen for this particular project. However, for a very small number of nodes, it is guaranteed to find the best-scoring graph. When networks are bigger it is better to use Hill Climb search, which implements a greedy local search starting usually from a disconnected graph. In every iteration it makes one change on edges of the graph that maximally increases the score.\n",
    "\n",
    "However, this approach often leads to inconsistent results: the node Classification may have exiting edges (which we do not want, because this is the attribute we want to predict), or multiple disconnected graphs may be found. We therefore remove all the edges that have Classification as parent and the ones that have Age as child. In addition, according to [scientific medical sources](https://bmccancer.biomedcentral.com/track/pdf/10.1186/s12885-017-3877-1.pdf), we force the learning algorithm to include the following edges in the network: ('Age', 'Classification'), ('Glucose', 'Classification'), ('Leptin', 'Classification'), ('MCP.1', 'Classification), ('Resistin', 'Classification').\n"
   ]
  },
  {
   "cell_type": "code",
   "execution_count": 89,
   "metadata": {},
   "outputs": [
    {
     "name": "stderr",
     "output_type": "stream",
     "text": [
      "  0%|          | 7/1000000 [00:02<82:24:40,  3.37it/s] \n"
     ]
    }
   ],
   "source": [
    "black_list = [('Classification', attribute) for attribute in data.columns[:-1]] + [(attribute, 'Age') for attribute in data.columns[:-1]]\n",
    "\n",
    "fixed_edges = [('Age', 'Classification'), ('Glucose', 'Classification'), ('Leptin', 'Classification'),\n",
    "               ('MCP.1', 'Classification'), ('Resistin', 'Classification'), ]\n",
    "\n",
    "#learning the stucutre of the network\n",
    "est = HillClimbSearch(data, use_cache=False)\n",
    "best_model = est.estimate(scoring_method=BDsScore(data),\n",
    "                          black_list=black_list,\n",
    "                          fixed_edges=fixed_edges\n",
    "                          )\n"
   ]
  },
  {
   "cell_type": "code",
   "execution_count": 90,
   "metadata": {},
   "outputs": [
    {
     "data": {
      "text/plain": [
       "NodeView(('Age', 'Classification', 'BMI', 'Adiponectin', 'Glucose', 'Leptin', 'Insulin', 'HOMA', 'Resistin', 'MCP.1'))"
      ]
     },
     "execution_count": 90,
     "metadata": {},
     "output_type": "execute_result"
    }
   ],
   "source": [
    "#the estimated model returns a DAG at a (local) score maximum\n",
    "edges = list(best_model.edges())\n",
    "model = BayesianNetwork(edges)\n",
    "\n",
    "#nodes of the model\n",
    "model.nodes"
   ]
  },
  {
   "cell_type": "code",
   "execution_count": 91,
   "metadata": {},
   "outputs": [
    {
     "data": {
      "text/plain": [
       "OutEdgeView([('Age', 'Classification'), ('BMI', 'Adiponectin'), ('Glucose', 'Classification'), ('Glucose', 'Leptin'), ('Leptin', 'Classification'), ('Leptin', 'BMI'), ('Insulin', 'HOMA'), ('HOMA', 'Glucose'), ('HOMA', 'Resistin'), ('HOMA', 'MCP.1'), ('Resistin', 'Classification'), ('MCP.1', 'Classification')])"
      ]
     },
     "execution_count": 91,
     "metadata": {},
     "output_type": "execute_result"
    }
   ],
   "source": [
    "#edges of the model\n",
    "model.edges"
   ]
  },
  {
   "cell_type": "code",
   "execution_count": 92,
   "metadata": {},
   "outputs": [
    {
     "data": {
      "image/png": "[encoded data removed]",
      "text/plain": [
       "<Figure size 1152x576 with 1 Axes>"
      ]
     },
     "metadata": {},
     "output_type": "display_data"
    }
   ],
   "source": [
    "pos = graphviz_layout(model, prog=\"dot\")\n",
    "plt.figure(figsize=(16, 8))\n",
    "nx.draw(model, with_labels=True, pos=pos, node_size=3000, node_color=\"green\")\n",
    "# plt.savefig('model.png')\n",
    "plt.show()"
   ]
  },
  {
   "cell_type": "markdown",
   "metadata": {},
   "source": [
    "### Learning the parameters of the network\n",
    "\n",
    "As mentioned before, pgmpy currently supports parameter learning only for networks with discrete nodes. There are 2 available methods for determining the values of the conditional probability distributions:\n",
    "- Maximum Likelihood estimation.\n",
    "\n",
    "       This method uses relative frequencies for estimating conditional probabilities. However, in case of small datasets it is prone to overfitting.\n",
    "- Bayesian estimation.\n",
    "\n",
    "       On the other hand, Bayesian estimator assumes prior CPDs on variables and then updates them using state counts from observed data.\n",
    "Because our dataset has only 116 samples we use __Bayesian estimation__"
   ]
  },
  {
   "cell_type": "code",
   "execution_count": 93,
   "metadata": {},
   "outputs": [
    {
     "name": "stdout",
     "output_type": "stream",
     "text": [
      "CPT of Age:\n",
      "+------------+-----------+\n",
      "| Age(24-39) | 0.150826  |\n",
      "+------------+-----------+\n",
      "| Age(39-54) | 0.349174  |\n",
      "+------------+-----------+\n",
      "| Age(55-79) | 0.407025  |\n",
      "+------------+-----------+\n",
      "| Age(80+)   | 0.0929752 |\n",
      "+------------+-----------+ \n",
      "\n",
      " ================================================================================ \n",
      "\n",
      "CPT of Classification:\n",
      "+-------------------+-----+----------------------+\n",
      "| Age               | ... | Age(80+)             |\n",
      "+-------------------+-----+----------------------+\n",
      "| Glucose           | ... | Glucose(Prediabetes) |\n",
      "+-------------------+-----+----------------------+\n",
      "| Leptin            | ... | Leptin(medium)       |\n",
      "+-------------------+-----+----------------------+\n",
      "| MCP.1             | ... | MCP.1(medium)        |\n",
      "+-------------------+-----+----------------------+\n",
      "| Resistin          | ... | Resistin(low)        |\n",
      "+-------------------+-----+----------------------+\n",
      "| Classification(1) | ... | 0.5                  |\n",
      "+-------------------+-----+----------------------+\n",
      "| Classification(2) | ... | 0.5                  |\n",
      "+-------------------+-----+----------------------+ \n",
      "\n",
      " ================================================================================ \n",
      "\n",
      "CPT of BMI:\n",
      "+------------------+-----+---------------------+\n",
      "| Leptin           | ... | Leptin(medium)      |\n",
      "+------------------+-----+---------------------+\n",
      "| BMI(Normal)      | ... | 0.27903225806451615 |\n",
      "+------------------+-----+---------------------+\n",
      "| BMI(Obese Class) | ... | 0.31774193548387103 |\n",
      "+------------------+-----+---------------------+\n",
      "| BMI(Overweight)  | ... | 0.3951612903225807  |\n",
      "+------------------+-----+---------------------+\n",
      "| BMI(Thinness)    | ... | 0.00806451612903226 |\n",
      "+------------------+-----+---------------------+ \n",
      "\n",
      " ================================================================================ \n",
      "\n",
      "CPT of Adiponectin:\n",
      "+---------------------+-----+--------------------+\n",
      "| BMI                 | ... | BMI(Thinness)      |\n",
      "+---------------------+-----+--------------------+\n",
      "| Adiponectin(high)   | ... | 0.1851851851851852 |\n",
      "+---------------------+-----+--------------------+\n",
      "| Adiponectin(low)    | ... | 0.6296296296296297 |\n",
      "+---------------------+-----+--------------------+\n",
      "| Adiponectin(medium) | ... | 0.1851851851851852 |\n",
      "+---------------------+-----+--------------------+ \n",
      "\n",
      " ================================================================================ \n",
      "\n",
      "CPT of Glucose:\n",
      "+----------------------+--------------------------+---------------------------+\n",
      "| HOMA                 | HOMA(insulin resistance) | HOMA(insulin sensitivity) |\n",
      "+----------------------+--------------------------+---------------------------+\n",
      "| Glucose(Diabetes)    | 0.5897435897435898       | 0.07714701601164484       |\n",
      "+----------------------+--------------------------+---------------------------+\n",
      "| Glucose(Normal)      | 0.12820512820512822      | 0.033478893740902474      |\n",
      "+----------------------+--------------------------+---------------------------+\n",
      "| Glucose(Prediabetes) | 0.28205128205128205      | 0.8893740902474526        |\n",
      "+----------------------+--------------------------+---------------------------+ \n",
      "\n",
      " ================================================================================ \n",
      "\n",
      "CPT of Leptin:\n",
      "+----------------+-----+----------------------+\n",
      "| Glucose        | ... | Glucose(Prediabetes) |\n",
      "+----------------+-----+----------------------+\n",
      "| Leptin(high)   | ... | 0.21757770632368703  |\n",
      "+----------------+-----+----------------------+\n",
      "| Leptin(low)    | ... | 0.3333333333333333   |\n",
      "+----------------+-----+----------------------+\n",
      "| Leptin(medium) | ... | 0.4490889603429796   |\n",
      "+----------------+-----+----------------------+ \n",
      "\n",
      " ================================================================================ \n",
      "\n",
      "CPT of Insulin:\n",
      "+-----------------+-----------+\n",
      "| Insulin(high)   | 0.0950413 |\n",
      "+-----------------+-----------+\n",
      "| Insulin(normal) | 0.904959  |\n",
      "+-----------------+-----------+ \n",
      "\n",
      " ================================================================================ \n",
      "\n",
      "CPT of HOMA:\n",
      "+---------------------------+---------------------+---------------------+\n",
      "| Insulin                   | Insulin(high)       | Insulin(normal)     |\n",
      "+---------------------------+---------------------+---------------------+\n",
      "| HOMA(insulin resistance)  | 0.45652173913043476 | 0.01141552511415525 |\n",
      "+---------------------------+---------------------+---------------------+\n",
      "| HOMA(insulin sensitivity) | 0.5434782608695652  | 0.9885844748858448  |\n",
      "+---------------------------+---------------------+---------------------+ \n",
      "\n",
      " ================================================================================ \n",
      "\n",
      "CPT of Resistin:\n",
      "+----------------+--------------------------+---------------------------+\n",
      "| HOMA           | HOMA(insulin resistance) | HOMA(insulin sensitivity) |\n",
      "+----------------+--------------------------+---------------------------+\n",
      "| Resistin(high) | 0.34615384615384615      | 0.08078602620087336       |\n",
      "+----------------+--------------------------+---------------------------+\n",
      "| Resistin(low)  | 0.6538461538461539       | 0.9192139737991266        |\n",
      "+----------------+--------------------------+---------------------------+ \n",
      "\n",
      " ================================================================================ \n",
      "\n",
      "CPT of MCP.1:\n",
      "+---------------+--------------------------+---------------------------+\n",
      "| HOMA          | HOMA(insulin resistance) | HOMA(insulin sensitivity) |\n",
      "+---------------+--------------------------+---------------------------+\n",
      "| MCP.1(high)   | 0.28205128205128205      | 0.050946142649199416      |\n",
      "+---------------+--------------------------+---------------------------+\n",
      "| MCP.1(low)    | 0.28205128205128205      | 0.5400291120815138        |\n",
      "+---------------+--------------------------+---------------------------+\n",
      "| MCP.1(medium) | 0.4358974358974359       | 0.4090247452692868        |\n",
      "+---------------+--------------------------+---------------------------+ \n",
      "\n",
      " ================================================================================ \n",
      "\n"
     ]
    }
   ],
   "source": [
    "model.fit(data=data, estimator=BayesianEstimator, prior_type=\"BDeu\")\n",
    "\n",
    "for cpd in model.get_cpds():\n",
    "    print(f'CPT of {cpd.variable}:')\n",
    "    print(cpd, 2*'\\n', 80*\"=\", '\\n')\n"
   ]
  },
  {
   "cell_type": "markdown",
   "metadata": {},
   "source": [
    "Checking if it has errors"
   ]
  },
  {
   "cell_type": "code",
   "execution_count": 94,
   "metadata": {},
   "outputs": [
    {
     "data": {
      "text/plain": [
       "True"
      ]
     },
     "execution_count": 94,
     "metadata": {},
     "output_type": "execute_result"
    }
   ],
   "source": [
    "model.check_model()"
   ]
  },
  {
   "cell_type": "markdown",
   "metadata": {},
   "source": [
    "Cardinality of all model nodes"
   ]
  },
  {
   "cell_type": "code",
   "execution_count": 95,
   "metadata": {},
   "outputs": [
    {
     "data": {
      "text/plain": [
       "defaultdict(int,\n",
       "            {'Age': 4,\n",
       "             'Classification': 2,\n",
       "             'BMI': 4,\n",
       "             'Adiponectin': 3,\n",
       "             'Glucose': 3,\n",
       "             'Leptin': 3,\n",
       "             'Insulin': 2,\n",
       "             'HOMA': 2,\n",
       "             'Resistin': 2,\n",
       "             'MCP.1': 3})"
      ]
     },
     "execution_count": 95,
     "metadata": {},
     "output_type": "execute_result"
    }
   ],
   "source": [
    "model.get_cardinality()"
   ]
  },
  {
   "cell_type": "markdown",
   "metadata": {},
   "source": [
    "Checking the markov blanket for Classification  and Glucose"
   ]
  },
  {
   "cell_type": "code",
   "execution_count": 96,
   "metadata": {},
   "outputs": [
    {
     "name": "stdout",
     "output_type": "stream",
     "text": [
      "Markov blanket for variable:\n",
      "Classification:  ['Leptin', 'Resistin', 'Age', 'Glucose', 'MCP.1']\n",
      "Glucose:  ['Resistin', 'Age', 'Classification', 'HOMA', 'Leptin', 'MCP.1']\n"
     ]
    }
   ],
   "source": [
    "print(\"Markov blanket for variable:\")\n",
    "print(\"Classification: \", model.get_markov_blanket(\"Classification\"))\n",
    "print(\"Glucose: \", model.get_markov_blanket(\"Glucose\"))"
   ]
  }
 ],
 "metadata": {
  "kernelspec": {
   "display_name": "Python 3.9.12 ('FAIKR3')",
   "language": "python",
   "name": "python3"
  },
  "language_info": {
   "codemirror_mode": {
    "name": "ipython",
    "version": 3
   },
   "file_extension": ".py",
   "mimetype": "text/x-python",
   "name": "python",
   "nbconvert_exporter": "python",
   "pygments_lexer": "ipython3",
   "version": "3.9.12"
  },
  "orig_nbformat": 4,
  "vscode": {
   "interpreter": {
    "hash": "b1271c15daf27ce1261d6a1134f79b209dab52771e7f933454657a66d1b3a73a"
   }
  }
 },
 "nbformat": 4,
 "nbformat_minor": 2
}
