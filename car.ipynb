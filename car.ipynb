{
 "cells": [
  {
   "cell_type": "markdown",
   "metadata": {},
   "source": [
    "# Raisin prediction using Bayesian Networks\n",
    "FAIKR module 3 project, done by Michele Calvanese, Samuele Marino  "
   ]
  },
  {
   "cell_type": "markdown",
   "metadata": {},
   "source": [
    "## Introduction\n",
    "\n",
    "The goal of this exploratory study was to develop and assess a prediction model which can potentially be used as a biomarker of breast cancer, based on anthropometric data and parameters which can be gathered in routine blood analysis.\n",
    "\n",
    "For each of the 116 participants several clinical features were observed or measured, including age, BMI, Glucose, Insulin, HOMA, Leptin, Adiponectin, Resistin and MCP-1\n",
    "\n",
    "\n",
    "Attribute Information:\n",
    "\n",
    "\n",
    "1. Age(years): The age of the participant\n",
    "2. BMI(kg/m2): is a measure of body size. It combines a person’s weight with their height.\n",
    "3. Glucose(mg/dL): is a simple sugar which is an important energy source in living organisms\n",
    "4. Insulin(µU/mL): is a hormone made in your pancreas, a gland located behind your stomach.\n",
    "5. HOMA: is a method for assessing β-cell function and insulin resistance (IR) from basal (fasting) glucose and insulin or C-peptide concentrations.\n",
    "6. Leptin(ng/mL): is a hormone your body releases that helps it maintain your normal weight on a long-term basis.\n",
    "7. Adiponectin(µg/mL): is a protein hormone that is produced by fat cells.\n",
    "8. Resistin(ng/mL): is a cysteine-rich hormone secreted from white adipocytes.\n",
    "9. MCP-1(pg/dL): is one of the key chemokines that regulate migration and infiltration of monocytes/macrophages.\n",
    "\n",
    "Dataset [link](https://archive.ics.uci.edu/ml/datasets/Breast+Cancer+Coimbra)."
   ]
  },
  {
   "cell_type": "code",
   "execution_count": 5,
   "metadata": {},
   "outputs": [],
   "source": [
    "import pandas as pd\n",
    "import numpy as np\n",
    "import pgmpy\n",
    "import networkx as nx\n",
    "import pylab as plt\n",
    "from pgmpy.models import BayesianNetwork, BayesianModel\n",
    "from pgmpy.inference import VariableElimination\n",
    "from pgmpy.estimators import HillClimbSearch, BDsScore, K2Score, BicScore, BDeuScore, MaximumLikelihoodEstimator, BayesianEstimator\n",
    "import matplotlib.pyplot as plt\n",
    "from networkx.drawing.nx_pydot import graphviz_layout\n"
   ]
  },
  {
   "cell_type": "markdown",
   "metadata": {},
   "source": [
    "## Data cleaning and preparation\n",
    "\n",
    "All attributes were used for making the Bayesian Network model. Before creating the model, all the attributes need to be discretized, as the pgmpy library only works with discrete variables."
   ]
  },
  {
   "cell_type": "code",
   "execution_count": 6,
   "metadata": {},
   "outputs": [
    {
     "data": {
      "text/html": [
       "<div>\n",
       "<style scoped>\n",
       "    .dataframe tbody tr th:only-of-type {\n",
       "        vertical-align: middle;\n",
       "    }\n",
       "\n",
       "    .dataframe tbody tr th {\n",
       "        vertical-align: top;\n",
       "    }\n",
       "\n",
       "    .dataframe thead th {\n",
       "        text-align: right;\n",
       "    }\n",
       "</style>\n",
       "<table border=\"1\" class=\"dataframe\">\n",
       "  <thead>\n",
       "    <tr style=\"text-align: right;\">\n",
       "      <th></th>\n",
       "      <th>buying</th>\n",
       "      <th>maint</th>\n",
       "      <th>doors</th>\n",
       "      <th>persons</th>\n",
       "      <th>lug_boot</th>\n",
       "      <th>safety</th>\n",
       "      <th>class</th>\n",
       "    </tr>\n",
       "  </thead>\n",
       "  <tbody>\n",
       "    <tr>\n",
       "      <th>0</th>\n",
       "      <td>vhigh</td>\n",
       "      <td>vhigh</td>\n",
       "      <td>2</td>\n",
       "      <td>2</td>\n",
       "      <td>small</td>\n",
       "      <td>low</td>\n",
       "      <td>unacc</td>\n",
       "    </tr>\n",
       "    <tr>\n",
       "      <th>1</th>\n",
       "      <td>vhigh</td>\n",
       "      <td>vhigh</td>\n",
       "      <td>2</td>\n",
       "      <td>2</td>\n",
       "      <td>small</td>\n",
       "      <td>med</td>\n",
       "      <td>unacc</td>\n",
       "    </tr>\n",
       "    <tr>\n",
       "      <th>2</th>\n",
       "      <td>vhigh</td>\n",
       "      <td>vhigh</td>\n",
       "      <td>2</td>\n",
       "      <td>2</td>\n",
       "      <td>small</td>\n",
       "      <td>high</td>\n",
       "      <td>unacc</td>\n",
       "    </tr>\n",
       "    <tr>\n",
       "      <th>3</th>\n",
       "      <td>vhigh</td>\n",
       "      <td>vhigh</td>\n",
       "      <td>2</td>\n",
       "      <td>2</td>\n",
       "      <td>med</td>\n",
       "      <td>low</td>\n",
       "      <td>unacc</td>\n",
       "    </tr>\n",
       "    <tr>\n",
       "      <th>4</th>\n",
       "      <td>vhigh</td>\n",
       "      <td>vhigh</td>\n",
       "      <td>2</td>\n",
       "      <td>2</td>\n",
       "      <td>med</td>\n",
       "      <td>med</td>\n",
       "      <td>unacc</td>\n",
       "    </tr>\n",
       "  </tbody>\n",
       "</table>\n",
       "</div>"
      ],
      "text/plain": [
       "  buying  maint doors persons lug_boot safety  class\n",
       "0  vhigh  vhigh     2       2    small    low  unacc\n",
       "1  vhigh  vhigh     2       2    small    med  unacc\n",
       "2  vhigh  vhigh     2       2    small   high  unacc\n",
       "3  vhigh  vhigh     2       2      med    low  unacc\n",
       "4  vhigh  vhigh     2       2      med    med  unacc"
      ]
     },
     "execution_count": 6,
     "metadata": {},
     "output_type": "execute_result"
    }
   ],
   "source": [
    "path = \"./Dataset/car.data\"\n",
    "attributes = [ 'buying', 'maint',\n",
    "               'doors', 'persons', 'lug_boot', 'safety', 'class', ]\n",
    "data = pd.read_csv(path, sep=',', header=None, names=attributes)\n",
    "data.head()\n"
   ]
  },
  {
   "cell_type": "code",
   "execution_count": 7,
   "metadata": {},
   "outputs": [
    {
     "data": {
      "text/plain": [
       "(1728, 7)"
      ]
     },
     "execution_count": 7,
     "metadata": {},
     "output_type": "execute_result"
    }
   ],
   "source": [
    "data.shape"
   ]
  },
  {
   "cell_type": "markdown",
   "metadata": {},
   "source": [
    "Before modifying the variables, dataset is checked for the presence of N/A values."
   ]
  },
  {
   "cell_type": "code",
   "execution_count": 8,
   "metadata": {},
   "outputs": [
    {
     "data": {
      "text/plain": [
       "buying      0\n",
       "maint       0\n",
       "doors       0\n",
       "persons     0\n",
       "lug_boot    0\n",
       "safety      0\n",
       "class       0\n",
       "dtype: int64"
      ]
     },
     "execution_count": 8,
     "metadata": {},
     "output_type": "execute_result"
    }
   ],
   "source": [
    "data.isnull().sum()"
   ]
  },
  {
   "cell_type": "markdown",
   "metadata": {},
   "source": [
    "So there is no N/A values"
   ]
  },
  {
   "cell_type": "markdown",
   "metadata": {},
   "source": [
    "##  Bayesian Network"
   ]
  },
  {
   "cell_type": "markdown",
   "metadata": {},
   "source": [
    "### Learning the structure of the network and analyzing it \n",
    "\n",
    "One option for defining the structure of the network would be to manually add the nodes and connections between them. Knowing the connections between nodes requires having a sufficient knowledge about the field of application in order to be able to define conditional independence assertions. \n",
    "\n",
    "Luckily, pgmpy library offers many ways for learning a structure for discrete, fully observed networks. Given a set of data samples, the algorithm estimates a directed acyclic graph that captures dependencies between the variables. We will use Score-based structure estimation that learns the model as an optimization task, and which lets the programmer choose a search strategy and a scoring function which will be used.\n",
    "\n",
    "Some of the available search strategies are:\n",
    "\n",
    "- Exhaustive search\n",
    "- Hill Climb search\n",
    "\n",
    "The search space is super-exponential in the number of variables, which is the reason why Exhaustive search wasn't chosen for this particular project. However, for a very small number of nodes, it is guaranteed to find the best-scoring graph. When networks are bigger it is better to use Hill Climb search, which implements a greedy local search starting usually from a disconnected graph. In every iteration it makes one change on edges of the graph that maximally increases the score.\n",
    "\n",
    "However, this approach often leads to inconsistent results: the node Classification may have exiting edges (which we do not want, because this is the attribute we want to predict), or multiple disconnected graphs may be found. We therefore remove all the edges that have Classification as parent and the ones that have Age as child. In addition, according to [scientific medical sources](https://bmccancer.biomedcentral.com/track/pdf/10.1186/s12885-017-3877-1.pdf), we force the learning algorithm to include the following edges in the network: ('Age', 'Classification'), ('Glucose', 'Classification'), ('Leptin', 'Classification'), ('MCP.1', 'Classification), ('Resistin', 'Classification').\n"
   ]
  },
  {
   "cell_type": "code",
   "execution_count": 28,
   "metadata": {},
   "outputs": [
    {
     "name": "stderr",
     "output_type": "stream",
     "text": [
      "  0%|          | 8/1000000 [00:01<53:23:12,  5.20it/s] \n"
     ]
    }
   ],
   "source": [
    "black_list = [('class', attribute) for attribute in data.columns[:-1]]\n",
    "\n",
    "fixed_edges = [('Age', 'Classification'), ('Glucose', 'Classification'), ('Leptin', 'Classification'),\n",
    "               ('MCP.1', 'Classification'), ('Resistin', 'Classification'), ]\n",
    "\n",
    "#learning the stucutre of the network\n",
    "est = HillClimbSearch(data, use_cache=False)\n",
    "best_model = est.estimate(scoring_method=BDeuScore(data),\n",
    "                          # black_list=black_list,\n",
    "                        #   fixed_edges=fixed_edges\n",
    "                          )\n"
   ]
  },
  {
   "cell_type": "code",
   "execution_count": 29,
   "metadata": {},
   "outputs": [
    {
     "data": {
      "text/plain": [
       "NodeView(('buying', 'maint', 'lug_boot', 'class', 'safety', 'persons'))"
      ]
     },
     "execution_count": 29,
     "metadata": {},
     "output_type": "execute_result"
    }
   ],
   "source": [
    "#the estimated model returns a DAG at a (local) score maximum\n",
    "edges = list(best_model.edges())\n",
    "model = BayesianNetwork(edges)\n",
    "\n",
    "#nodes of the model\n",
    "model.nodes"
   ]
  },
  {
   "cell_type": "code",
   "execution_count": 30,
   "metadata": {},
   "outputs": [
    {
     "data": {
      "text/plain": [
       "OutEdgeView([('buying', 'maint'), ('lug_boot', 'class'), ('class', 'persons'), ('class', 'buying'), ('class', 'maint'), ('safety', 'persons'), ('safety', 'class')])"
      ]
     },
     "execution_count": 30,
     "metadata": {},
     "output_type": "execute_result"
    }
   ],
   "source": [
    "#edges of the model\n",
    "model.edges"
   ]
  },
  {
   "cell_type": "code",
   "execution_count": 31,
   "metadata": {},
   "outputs": [
    {
     "data": {
      "text/plain": [
       "networkx.classes.reportviews.OutEdgeView"
      ]
     },
     "execution_count": 31,
     "metadata": {},
     "output_type": "execute_result"
    }
   ],
   "source": [
    "type(model.edges)\n"
   ]
  },
  {
   "cell_type": "code",
   "execution_count": 32,
   "metadata": {},
   "outputs": [
    {
     "data": {
      "image/png": "[encoded data removed]",
      "text/plain": [
       "<Figure size 1152x576 with 1 Axes>"
      ]
     },
     "metadata": {},
     "output_type": "display_data"
    }
   ],
   "source": [
    "pos = graphviz_layout(model, prog=\"dot\")\n",
    "plt.figure(figsize=(16, 8))\n",
    "nx.draw(model, with_labels=True, pos=pos, node_size=3000, node_color=\"green\")\n",
    "# plt.savefig('model.png')\n",
    "plt.show()"
   ]
  },
  {
   "cell_type": "markdown",
   "metadata": {},
   "source": [
    "### Learning the parameters of the network\n",
    "\n",
    "As mentioned before, pgmpy currently supports parameter learning only for networks with discrete nodes. There are 2 available methods for determining the values of the conditional probability distributions:\n",
    "- Maximum Likelihood estimation.\n",
    "\n",
    "       This method uses relative frequencies for estimating conditional probabilities. However, in case of small datasets it is prone to overfitting.\n",
    "- Bayesian estimation.\n",
    "\n",
    "       On the other hand, Bayesian estimator assumes prior CPDs on variables and then updates them using state counts from observed data.\n",
    "Because our dataset has only 116 samples we use __Bayesian estimation__"
   ]
  },
  {
   "cell_type": "code",
   "execution_count": 33,
   "metadata": {},
   "outputs": [
    {
     "name": "stdout",
     "output_type": "stream",
     "text": [
      "CPT of buying:\n",
      "+---------------+-----+-----------------------+\n",
      "| class         | ... | class(vgood)          |\n",
      "+---------------+-----+-----------------------+\n",
      "| buying(high)  | ... | 0.0047169811320754715 |\n",
      "+---------------+-----+-----------------------+\n",
      "| buying(low)   | ... | 0.5933962264150944    |\n",
      "+---------------+-----+-----------------------+\n",
      "| buying(med)   | ... | 0.39716981132075474   |\n",
      "+---------------+-----+-----------------------+\n",
      "| buying(vhigh) | ... | 0.0047169811320754715 |\n",
      "+---------------+-----+-----------------------+ \n",
      "\n",
      " ================================================================================ \n",
      "\n",
      "CPT of maint:\n",
      "+--------------+-----+---------------+\n",
      "| buying       | ... | buying(vhigh) |\n",
      "+--------------+-----+---------------+\n",
      "| class        | ... | class(vgood)  |\n",
      "+--------------+-----+---------------+\n",
      "| maint(high)  | ... | 0.25          |\n",
      "+--------------+-----+---------------+\n",
      "| maint(low)   | ... | 0.25          |\n",
      "+--------------+-----+---------------+\n",
      "| maint(med)   | ... | 0.25          |\n",
      "+--------------+-----+---------------+\n",
      "| maint(vhigh) | ... | 0.25          |\n",
      "+--------------+-----+---------------+ \n",
      "\n",
      " ================================================================================ \n",
      "\n",
      "CPT of lug_boot:\n",
      "+-----------------+----------+\n",
      "| lug_boot(big)   | 0.333333 |\n",
      "+-----------------+----------+\n",
      "| lug_boot(med)   | 0.333333 |\n",
      "+-----------------+----------+\n",
      "| lug_boot(small) | 0.333333 |\n",
      "+-----------------+----------+ \n",
      "\n",
      " ================================================================================ \n",
      "\n",
      "CPT of class:\n",
      "+--------------+-----+-----------------------+\n",
      "| lug_boot     | ... | lug_boot(small)       |\n",
      "+--------------+-----+-----------------------+\n",
      "| safety       | ... | safety(med)           |\n",
      "+--------------+-----+-----------------------+\n",
      "| class(acc)   | ... | 0.1824870167339873    |\n",
      "+--------------+-----+-----------------------+\n",
      "| class(good)  | ... | 0.0007212925562608194 |\n",
      "+--------------+-----+-----------------------+\n",
      "| class(unacc) | ... | 0.8160703981534911    |\n",
      "+--------------+-----+-----------------------+\n",
      "| class(vgood) | ... | 0.0007212925562608194 |\n",
      "+--------------+-----+-----------------------+ \n",
      "\n",
      " ================================================================================ \n",
      "\n",
      "CPT of safety:\n",
      "+--------------+----------+\n",
      "| safety(high) | 0.333333 |\n",
      "+--------------+----------+\n",
      "| safety(low)  | 0.333333 |\n",
      "+--------------+----------+\n",
      "| safety(med)  | 0.333333 |\n",
      "+--------------+----------+ \n",
      "\n",
      " ================================================================================ \n",
      "\n",
      "CPT of persons:\n",
      "+---------------+-----+--------------------+\n",
      "| class         | ... | class(vgood)       |\n",
      "+---------------+-----+--------------------+\n",
      "| safety        | ... | safety(med)        |\n",
      "+---------------+-----+--------------------+\n",
      "| persons(2)    | ... | 0.3333333333333333 |\n",
      "+---------------+-----+--------------------+\n",
      "| persons(4)    | ... | 0.3333333333333333 |\n",
      "+---------------+-----+--------------------+\n",
      "| persons(more) | ... | 0.3333333333333333 |\n",
      "+---------------+-----+--------------------+ \n",
      "\n",
      " ================================================================================ \n",
      "\n"
     ]
    }
   ],
   "source": [
    "model.fit(data=data, estimator=BayesianEstimator, prior_type=\"BDeu\")\n",
    "\n",
    "for cpd in model.get_cpds():\n",
    "    print(f'CPT of {cpd.variable}:')\n",
    "    print(cpd, 2*'\\n', 80*\"=\", '\\n')\n"
   ]
  },
  {
   "cell_type": "markdown",
   "metadata": {},
   "source": [
    "Checking if it has errors"
   ]
  },
  {
   "cell_type": "code",
   "execution_count": 34,
   "metadata": {},
   "outputs": [
    {
     "data": {
      "text/plain": [
       "True"
      ]
     },
     "execution_count": 34,
     "metadata": {},
     "output_type": "execute_result"
    }
   ],
   "source": [
    "model.check_model()"
   ]
  },
  {
   "cell_type": "markdown",
   "metadata": {},
   "source": [
    "Cardinality of all model nodes"
   ]
  },
  {
   "cell_type": "code",
   "execution_count": 35,
   "metadata": {},
   "outputs": [
    {
     "data": {
      "text/plain": [
       "defaultdict(int,\n",
       "            {'buying': 4,\n",
       "             'maint': 4,\n",
       "             'lug_boot': 3,\n",
       "             'class': 4,\n",
       "             'safety': 3,\n",
       "             'persons': 3})"
      ]
     },
     "execution_count": 35,
     "metadata": {},
     "output_type": "execute_result"
    }
   ],
   "source": [
    "model.get_cardinality()"
   ]
  },
  {
   "cell_type": "markdown",
   "metadata": {},
   "source": [
    "Checking the markov blanket for Classification  and Glucose"
   ]
  },
  {
   "cell_type": "code",
   "execution_count": 36,
   "metadata": {},
   "outputs": [
    {
     "name": "stdout",
     "output_type": "stream",
     "text": [
      "Markov blanket for variable:\n"
     ]
    },
    {
     "ename": "NetworkXError",
     "evalue": "The node Classification is not in the digraph.",
     "output_type": "error",
     "traceback": [
      "\u001b[0;31m---------------------------------------------------------------------------\u001b[0m",
      "\u001b[0;31mKeyError\u001b[0m                                  Traceback (most recent call last)",
      "File \u001b[0;32m~/anaconda3/envs/FAIKR3/lib/python3.9/site-packages/networkx/classes/digraph.py:807\u001b[0m, in \u001b[0;36mDiGraph.successors\u001b[0;34m(self, n)\u001b[0m\n\u001b[1;32m    806\u001b[0m \u001b[39mtry\u001b[39;00m:\n\u001b[0;32m--> 807\u001b[0m     \u001b[39mreturn\u001b[39;00m \u001b[39miter\u001b[39m(\u001b[39mself\u001b[39;49m\u001b[39m.\u001b[39;49m_succ[n])\n\u001b[1;32m    808\u001b[0m \u001b[39mexcept\u001b[39;00m \u001b[39mKeyError\u001b[39;00m \u001b[39mas\u001b[39;00m err:\n",
      "\u001b[0;31mKeyError\u001b[0m: 'Classification'",
      "\nThe above exception was the direct cause of the following exception:\n",
      "\u001b[0;31mNetworkXError\u001b[0m                             Traceback (most recent call last)",
      "\u001b[1;32m/media/sam/COMMON/UNIVERSITA/FAI/Module_3/FAIKR3-Project/car.ipynb Cell 24'\u001b[0m in \u001b[0;36m<cell line: 2>\u001b[0;34m()\u001b[0m\n\u001b[1;32m      <a href='vscode-notebook-cell:/media/sam/COMMON/UNIVERSITA/FAI/Module_3/FAIKR3-Project/car.ipynb#ch0000023?line=0'>1</a>\u001b[0m \u001b[39mprint\u001b[39m(\u001b[39m\"\u001b[39m\u001b[39mMarkov blanket for variable:\u001b[39m\u001b[39m\"\u001b[39m)\n\u001b[0;32m----> <a href='vscode-notebook-cell:/media/sam/COMMON/UNIVERSITA/FAI/Module_3/FAIKR3-Project/car.ipynb#ch0000023?line=1'>2</a>\u001b[0m \u001b[39mprint\u001b[39m(\u001b[39m\"\u001b[39m\u001b[39mClassification: \u001b[39m\u001b[39m\"\u001b[39m, model\u001b[39m.\u001b[39;49mget_markov_blanket(\u001b[39m\"\u001b[39;49m\u001b[39mClassification\u001b[39;49m\u001b[39m\"\u001b[39;49m))\n\u001b[1;32m      <a href='vscode-notebook-cell:/media/sam/COMMON/UNIVERSITA/FAI/Module_3/FAIKR3-Project/car.ipynb#ch0000023?line=2'>3</a>\u001b[0m \u001b[39mprint\u001b[39m(\u001b[39m\"\u001b[39m\u001b[39mGlucose: \u001b[39m\u001b[39m\"\u001b[39m, model\u001b[39m.\u001b[39mget_markov_blanket(\u001b[39m\"\u001b[39m\u001b[39mGlucose\u001b[39m\u001b[39m\"\u001b[39m))\n",
      "File \u001b[0;32m~/anaconda3/envs/FAIKR3/lib/python3.9/site-packages/pgmpy/models/BayesianNetwork.py:937\u001b[0m, in \u001b[0;36mBayesianNetwork.get_markov_blanket\u001b[0;34m(self, node)\u001b[0m\n\u001b[1;32m    912\u001b[0m \u001b[39mdef\u001b[39;00m \u001b[39mget_markov_blanket\u001b[39m(\u001b[39mself\u001b[39m, node):\n\u001b[1;32m    913\u001b[0m     \u001b[39m\"\"\"\u001b[39;00m\n\u001b[1;32m    914\u001b[0m \u001b[39m    Returns a markov blanket for a random variable. In the case\u001b[39;00m\n\u001b[1;32m    915\u001b[0m \u001b[39m    of Bayesian Networks, the markov blanket is the set of\u001b[39;00m\n\u001b[0;32m   (...)\u001b[0m\n\u001b[1;32m    935\u001b[0m \u001b[39m    ['s', 'u', 'w', 'v', 'z', 'x']\u001b[39;00m\n\u001b[1;32m    936\u001b[0m \u001b[39m    \"\"\"\u001b[39;00m\n\u001b[0;32m--> 937\u001b[0m     children \u001b[39m=\u001b[39m \u001b[39mself\u001b[39;49m\u001b[39m.\u001b[39;49mget_children(node)\n\u001b[1;32m    938\u001b[0m     parents \u001b[39m=\u001b[39m \u001b[39mself\u001b[39m\u001b[39m.\u001b[39mget_parents(node)\n\u001b[1;32m    939\u001b[0m     blanket_nodes \u001b[39m=\u001b[39m children \u001b[39m+\u001b[39m parents\n",
      "File \u001b[0;32m~/anaconda3/envs/FAIKR3/lib/python3.9/site-packages/pgmpy/base/DAG.py:392\u001b[0m, in \u001b[0;36mDAG.get_children\u001b[0;34m(self, node)\u001b[0m\n\u001b[1;32m    374\u001b[0m \u001b[39mdef\u001b[39;00m \u001b[39mget_children\u001b[39m(\u001b[39mself\u001b[39m, node):\n\u001b[1;32m    375\u001b[0m     \u001b[39m\"\"\"\u001b[39;00m\n\u001b[1;32m    376\u001b[0m \u001b[39m    Returns a list of children of node.\u001b[39;00m\n\u001b[1;32m    377\u001b[0m \u001b[39m    Throws an error if the node is not present in the graph.\u001b[39;00m\n\u001b[0;32m   (...)\u001b[0m\n\u001b[1;32m    390\u001b[0m \u001b[39m    ['D', 'E', 'F']\u001b[39;00m\n\u001b[1;32m    391\u001b[0m \u001b[39m    \"\"\"\u001b[39;00m\n\u001b[0;32m--> 392\u001b[0m     \u001b[39mreturn\u001b[39;00m \u001b[39mlist\u001b[39m(\u001b[39mself\u001b[39;49m\u001b[39m.\u001b[39;49msuccessors(node))\n",
      "File \u001b[0;32m~/anaconda3/envs/FAIKR3/lib/python3.9/site-packages/networkx/classes/digraph.py:809\u001b[0m, in \u001b[0;36mDiGraph.successors\u001b[0;34m(self, n)\u001b[0m\n\u001b[1;32m    807\u001b[0m     \u001b[39mreturn\u001b[39;00m \u001b[39miter\u001b[39m(\u001b[39mself\u001b[39m\u001b[39m.\u001b[39m_succ[n])\n\u001b[1;32m    808\u001b[0m \u001b[39mexcept\u001b[39;00m \u001b[39mKeyError\u001b[39;00m \u001b[39mas\u001b[39;00m err:\n\u001b[0;32m--> 809\u001b[0m     \u001b[39mraise\u001b[39;00m NetworkXError(\u001b[39mf\u001b[39m\u001b[39m\"\u001b[39m\u001b[39mThe node \u001b[39m\u001b[39m{\u001b[39;00mn\u001b[39m}\u001b[39;00m\u001b[39m is not in the digraph.\u001b[39m\u001b[39m\"\u001b[39m) \u001b[39mfrom\u001b[39;00m \u001b[39merr\u001b[39;00m\n",
      "\u001b[0;31mNetworkXError\u001b[0m: The node Classification is not in the digraph."
     ]
    }
   ],
   "source": [
    "print(\"Markov blanket for variable:\")\n",
    "print(\"Classification: \", model.get_markov_blanket(\"Classification\"))\n",
    "print(\"Glucose: \", model.get_markov_blanket(\"Glucose\"))"
   ]
  }
 ],
 "metadata": {
  "kernelspec": {
   "display_name": "Python 3.9.12 ('FAIKR3')",
   "language": "python",
   "name": "python3"
  },
  "language_info": {
   "codemirror_mode": {
    "name": "ipython",
    "version": 3
   },
   "file_extension": ".py",
   "mimetype": "text/x-python",
   "name": "python",
   "nbconvert_exporter": "python",
   "pygments_lexer": "ipython3",
   "version": "3.9.12"
  },
  "orig_nbformat": 4,
  "vscode": {
   "interpreter": {
    "hash": "b1271c15daf27ce1261d6a1134f79b209dab52771e7f933454657a66d1b3a73a"
   }
  }
 },
 "nbformat": 4,
 "nbformat_minor": 2
}
