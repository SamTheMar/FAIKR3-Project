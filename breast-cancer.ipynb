{
 "cells": [
  {
   "cell_type": "markdown",
   "metadata": {},
   "source": [
    "# Raisin prediction using Bayesian Networks\n",
    "FAIKR module 3 project, done by Michele Calvanese, Samuele Marino  "
   ]
  },
  {
   "cell_type": "markdown",
   "metadata": {},
   "source": [
    "## Introduction\n",
    "\n",
    "The goal of this exploratory study was to develop and assess a prediction model which can potentially be used as a biomarker of breast cancer, based on anthropometric data and parameters which can be gathered in routine blood analysis.\n",
    "\n",
    "For each of the 116 participants several clinical features were observed or measured, including age, BMI, Glucose, Insulin, HOMA, Leptin, Adiponectin, Resistin and MCP-1\n",
    "\n",
    "\n",
    "Attribute Information:\n",
    "\n",
    "\n",
    "1. Age(years): The age of the participant\n",
    "2. BMI(kg/m2): is a measure of body size. It combines a person’s weight with their height.\n",
    "3. Glucose(mg/dL): is a simple sugar which is an important energy source in living organisms\n",
    "4. Insulin(µU/mL): is a hormone made in your pancreas, a gland located behind your stomach.\n",
    "5. HOMA: is a method for assessing β-cell function and insulin resistance (IR) from basal (fasting) glucose and insulin or C-peptide concentrations.\n",
    "6. Leptin(ng/mL): is a hormone your body releases that helps it maintain your normal weight on a long-term basis.\n",
    "7. Adiponectin(µg/mL): is a protein hormone that is produced by fat cells.\n",
    "8. Resistin(ng/mL): is a cysteine-rich hormone secreted from white adipocytes.\n",
    "9. MCP-1(pg/dL): is one of the key chemokines that regulate migration and infiltration of monocytes/macrophages.\n",
    "\n",
    "Dataset [link](https://archive.ics.uci.edu/ml/datasets/Breast+Cancer+Coimbra)."
   ]
  },
  {
   "cell_type": "code",
   "execution_count": 3,
   "metadata": {},
   "outputs": [
    {
     "name": "stderr",
     "output_type": "stream",
     "text": [
      "/home/sam/anaconda3/envs/FAIKR3/lib/python3.9/site-packages/tqdm/auto.py:22: TqdmWarning: IProgress not found. Please update jupyter and ipywidgets. See https://ipywidgets.readthedocs.io/en/stable/user_install.html\n",
      "  from .autonotebook import tqdm as notebook_tqdm\n"
     ]
    }
   ],
   "source": [
    "import pandas as pd\n",
    "import numpy as np\n",
    "import pgmpy\n",
    "import networkx as nx\n",
    "import pylab as plt\n",
    "from pgmpy.models import BayesianNetwork, BayesianModel\n",
    "from pgmpy.inference import VariableElimination\n",
    "from pgmpy.estimators import HillClimbSearch, BDsScore, K2Score, BicScore, BDeuScore, MaximumLikelihoodEstimator, BayesianEstimator\n",
    "import matplotlib.pyplot as plt\n",
    "from networkx.drawing.nx_pydot import graphviz_layout\n"
   ]
  },
  {
   "cell_type": "markdown",
   "metadata": {},
   "source": [
    "## Data cleaning and preparation\n",
    "\n",
    "All attributes were used for making the Bayesian Network model. Before creating the model, all the attributes need to be discretized, as the pgmpy library only works with discrete variables."
   ]
  },
  {
   "cell_type": "code",
   "execution_count": 5,
   "metadata": {},
   "outputs": [
    {
     "data": {
      "text/html": [
       "<div>\n",
       "<style scoped>\n",
       "    .dataframe tbody tr th:only-of-type {\n",
       "        vertical-align: middle;\n",
       "    }\n",
       "\n",
       "    .dataframe tbody tr th {\n",
       "        vertical-align: top;\n",
       "    }\n",
       "\n",
       "    .dataframe thead th {\n",
       "        text-align: right;\n",
       "    }\n",
       "</style>\n",
       "<table border=\"1\" class=\"dataframe\">\n",
       "  <thead>\n",
       "    <tr style=\"text-align: right;\">\n",
       "      <th></th>\n",
       "      <th>Class</th>\n",
       "      <th>age</th>\n",
       "      <th>menopause</th>\n",
       "      <th>tumor-size</th>\n",
       "      <th>inv-nodes</th>\n",
       "      <th>node-caps</th>\n",
       "      <th>deg-malig</th>\n",
       "      <th>breast</th>\n",
       "      <th>breast-quad</th>\n",
       "      <th>irradiat</th>\n",
       "    </tr>\n",
       "  </thead>\n",
       "  <tbody>\n",
       "    <tr>\n",
       "      <th>0</th>\n",
       "      <td>no-recurrence-events</td>\n",
       "      <td>30-39</td>\n",
       "      <td>premeno</td>\n",
       "      <td>30-34</td>\n",
       "      <td>0-2</td>\n",
       "      <td>no</td>\n",
       "      <td>3</td>\n",
       "      <td>left</td>\n",
       "      <td>left_low</td>\n",
       "      <td>no</td>\n",
       "    </tr>\n",
       "    <tr>\n",
       "      <th>1</th>\n",
       "      <td>no-recurrence-events</td>\n",
       "      <td>40-49</td>\n",
       "      <td>premeno</td>\n",
       "      <td>20-24</td>\n",
       "      <td>0-2</td>\n",
       "      <td>no</td>\n",
       "      <td>2</td>\n",
       "      <td>right</td>\n",
       "      <td>right_up</td>\n",
       "      <td>no</td>\n",
       "    </tr>\n",
       "    <tr>\n",
       "      <th>2</th>\n",
       "      <td>no-recurrence-events</td>\n",
       "      <td>40-49</td>\n",
       "      <td>premeno</td>\n",
       "      <td>20-24</td>\n",
       "      <td>0-2</td>\n",
       "      <td>no</td>\n",
       "      <td>2</td>\n",
       "      <td>left</td>\n",
       "      <td>left_low</td>\n",
       "      <td>no</td>\n",
       "    </tr>\n",
       "    <tr>\n",
       "      <th>3</th>\n",
       "      <td>no-recurrence-events</td>\n",
       "      <td>60-69</td>\n",
       "      <td>ge40</td>\n",
       "      <td>15-19</td>\n",
       "      <td>0-2</td>\n",
       "      <td>no</td>\n",
       "      <td>2</td>\n",
       "      <td>right</td>\n",
       "      <td>left_up</td>\n",
       "      <td>no</td>\n",
       "    </tr>\n",
       "    <tr>\n",
       "      <th>4</th>\n",
       "      <td>no-recurrence-events</td>\n",
       "      <td>40-49</td>\n",
       "      <td>premeno</td>\n",
       "      <td>0-4</td>\n",
       "      <td>0-2</td>\n",
       "      <td>no</td>\n",
       "      <td>2</td>\n",
       "      <td>right</td>\n",
       "      <td>right_low</td>\n",
       "      <td>no</td>\n",
       "    </tr>\n",
       "  </tbody>\n",
       "</table>\n",
       "</div>"
      ],
      "text/plain": [
       "                  Class    age menopause tumor-size inv-nodes node-caps  \\\n",
       "0  no-recurrence-events  30-39   premeno      30-34       0-2        no   \n",
       "1  no-recurrence-events  40-49   premeno      20-24       0-2        no   \n",
       "2  no-recurrence-events  40-49   premeno      20-24       0-2        no   \n",
       "3  no-recurrence-events  60-69      ge40      15-19       0-2        no   \n",
       "4  no-recurrence-events  40-49   premeno        0-4       0-2        no   \n",
       "\n",
       "   deg-malig breast breast-quad irradiat  \n",
       "0          3   left    left_low       no  \n",
       "1          2  right    right_up       no  \n",
       "2          2   left    left_low       no  \n",
       "3          2  right     left_up       no  \n",
       "4          2  right   right_low       no  "
      ]
     },
     "execution_count": 5,
     "metadata": {},
     "output_type": "execute_result"
    }
   ],
   "source": [
    "path = \"./Dataset/breast-cancer.data\"\n",
    "attributes = ['Class', 'age', 'menopause', 'tumor-size', 'inv-nodes', 'node-caps', 'deg-malig', 'breast', 'breast-quad', 'irradiat']\n",
    "data = pd.read_csv(path, sep=',', header=None, names=attributes)\n",
    "data.head()"
   ]
  },
  {
   "cell_type": "code",
   "execution_count": 7,
   "metadata": {},
   "outputs": [
    {
     "data": {
      "text/plain": [
       "(286, 10)"
      ]
     },
     "execution_count": 7,
     "metadata": {},
     "output_type": "execute_result"
    }
   ],
   "source": [
    "data.shape"
   ]
  },
  {
   "cell_type": "markdown",
   "metadata": {},
   "source": [
    "Before modifying the variables, dataset is checked for the presence of N/A values."
   ]
  },
  {
   "cell_type": "code",
   "execution_count": 8,
   "metadata": {},
   "outputs": [
    {
     "data": {
      "text/plain": [
       "Class          0\n",
       "age            0\n",
       "menopause      0\n",
       "tumor-size     0\n",
       "inv-nodes      0\n",
       "node-caps      0\n",
       "deg-malig      0\n",
       "breast         0\n",
       "breast-quad    0\n",
       "irradiat       0\n",
       "dtype: int64"
      ]
     },
     "execution_count": 8,
     "metadata": {},
     "output_type": "execute_result"
    }
   ],
   "source": [
    "data.isnull().sum()"
   ]
  },
  {
   "cell_type": "markdown",
   "metadata": {},
   "source": [
    "So there is no N/A values"
   ]
  },
  {
   "cell_type": "markdown",
   "metadata": {},
   "source": [
    "##  Bayesian Network"
   ]
  },
  {
   "cell_type": "markdown",
   "metadata": {},
   "source": [
    "### Learning the structure of the network and analyzing it \n",
    "\n",
    "One option for defining the structure of the network would be to manually add the nodes and connections between them. Knowing the connections between nodes requires having a sufficient knowledge about the field of application in order to be able to define conditional independence assertions. \n",
    "\n",
    "Luckily, pgmpy library offers many ways for learning a structure for discrete, fully observed networks. Given a set of data samples, the algorithm estimates a directed acyclic graph that captures dependencies between the variables. We will use Score-based structure estimation that learns the model as an optimization task, and which lets the programmer choose a search strategy and a scoring function which will be used.\n",
    "\n",
    "Some of the available search strategies are:\n",
    "\n",
    "- Exhaustive search\n",
    "- Hill Climb search\n",
    "\n",
    "The search space is super-exponential in the number of variables, which is the reason why Exhaustive search wasn't chosen for this particular project. However, for a very small number of nodes, it is guaranteed to find the best-scoring graph. When networks are bigger it is better to use Hill Climb search, which implements a greedy local search starting usually from a disconnected graph. In every iteration it makes one change on edges of the graph that maximally increases the score.\n",
    "\n",
    "However, this approach often leads to inconsistent results: the node Classification may have exiting edges (which we do not want, because this is the attribute we want to predict), or multiple disconnected graphs may be found. We therefore remove all the edges that have Classification as parent and the ones that have Age as child. In addition, according to [scientific medical sources](https://bmccancer.biomedcentral.com/track/pdf/10.1186/s12885-017-3877-1.pdf), we force the learning algorithm to include the following edges in the network: ('Age', 'Classification'), ('Glucose', 'Classification'), ('Leptin', 'Classification'), ('MCP.1', 'Classification), ('Resistin', 'Classification').\n"
   ]
  },
  {
   "cell_type": "code",
   "execution_count": 27,
   "metadata": {},
   "outputs": [
    {
     "name": "stderr",
     "output_type": "stream",
     "text": [
      "  0%|          | 8/1000000 [00:02<79:55:35,  3.48it/s] \n"
     ]
    }
   ],
   "source": [
    "black_list = [('Class', attribute) for attribute in data.columns[:-1]]\n",
    "\n",
    "fixed_edges = [('Age', 'Classification'), ('Glucose', 'Classification'), ('Leptin', 'Classification'),\n",
    "               ('MCP.1', 'Classification'), ('Resistin', 'Classification'), ]\n",
    "\n",
    "#learning the stucutre of the network\n",
    "est = HillClimbSearch(data, use_cache=False)\n",
    "best_model = est.estimate(scoring_method=BDsScore(data),\n",
    "                          # black_list=black_list,\n",
    "                        #   fixed_edges=fixed_edges\n",
    "                          )\n"
   ]
  },
  {
   "cell_type": "code",
   "execution_count": 28,
   "metadata": {},
   "outputs": [
    {
     "data": {
      "text/plain": [
       "NodeView(('Class', 'deg-malig', 'node-caps', 'menopause', 'age', 'inv-nodes', 'irradiat', 'breast', 'breast-quad'))"
      ]
     },
     "execution_count": 28,
     "metadata": {},
     "output_type": "execute_result"
    }
   ],
   "source": [
    "#the estimated model returns a DAG at a (local) score maximum\n",
    "edges = list(best_model.edges())\n",
    "model = BayesianNetwork(edges)\n",
    "\n",
    "#nodes of the model\n",
    "model.nodes"
   ]
  },
  {
   "cell_type": "code",
   "execution_count": 29,
   "metadata": {},
   "outputs": [
    {
     "data": {
      "text/plain": [
       "OutEdgeView([('Class', 'deg-malig'), ('Class', 'node-caps'), ('deg-malig', 'node-caps'), ('node-caps', 'inv-nodes'), ('node-caps', 'menopause'), ('menopause', 'age'), ('inv-nodes', 'irradiat'), ('breast', 'breast-quad')])"
      ]
     },
     "execution_count": 29,
     "metadata": {},
     "output_type": "execute_result"
    }
   ],
   "source": [
    "#edges of the model\n",
    "model.edges"
   ]
  },
  {
   "cell_type": "code",
   "execution_count": 30,
   "metadata": {},
   "outputs": [
    {
     "data": {
      "image/png": "[encoded data removed]",
      "text/plain": [
       "<Figure size 1152x576 with 1 Axes>"
      ]
     },
     "metadata": {},
     "output_type": "display_data"
    }
   ],
   "source": [
    "pos = graphviz_layout(model, prog=\"dot\")\n",
    "plt.figure(figsize=(16, 8))\n",
    "nx.draw(model, with_labels=True, pos=pos, node_size=3000, node_color=\"green\")\n",
    "# plt.savefig('model.png')\n",
    "plt.show()"
   ]
  },
  {
   "cell_type": "markdown",
   "metadata": {},
   "source": [
    "### Learning the parameters of the network\n",
    "\n",
    "As mentioned before, pgmpy currently supports parameter learning only for networks with discrete nodes. There are 2 available methods for determining the values of the conditional probability distributions:\n",
    "- Maximum Likelihood estimation.\n",
    "\n",
    "       This method uses relative frequencies for estimating conditional probabilities. However, in case of small datasets it is prone to overfitting.\n",
    "- Bayesian estimation.\n",
    "\n",
    "       On the other hand, Bayesian estimator assumes prior CPDs on variables and then updates them using state counts from observed data.\n",
    "Because our dataset has only 116 samples we use __Bayesian estimation__"
   ]
  },
  {
   "cell_type": "code",
   "execution_count": 23,
   "metadata": {},
   "outputs": [
    {
     "name": "stdout",
     "output_type": "stream",
     "text": [
      "CPT of menopause:\n",
      "+--------------------+-----+----------------------+\n",
      "| node-caps          | ... | node-caps(yes)       |\n",
      "+--------------------+-----+----------------------+\n",
      "| menopause(ge40)    | ... | 0.4258188824662813   |\n",
      "+--------------------+-----+----------------------+\n",
      "| menopause(lt40)    | ... | 0.009633911368015413 |\n",
      "+--------------------+-----+----------------------+\n",
      "| menopause(premeno) | ... | 0.5645472061657033   |\n",
      "+--------------------+-----+----------------------+ \n",
      "\n",
      " ================================================================================ \n",
      "\n",
      "CPT of age:\n",
      "+------------+-----+-----------------------+\n",
      "| menopause  | ... | menopause(premeno)    |\n",
      "+------------+-----+-----------------------+\n",
      "| age(20-29) | ... | 0.008424908424908424  |\n",
      "+------------+-----+-----------------------+\n",
      "| age(30-39) | ... | 0.2326007326007326    |\n",
      "+------------+-----+-----------------------+\n",
      "| age(40-49) | ... | 0.5358974358974359    |\n",
      "+------------+-----+-----------------------+\n",
      "| age(50-59) | ... | 0.21941391941391944   |\n",
      "+------------+-----+-----------------------+\n",
      "| age(60-69) | ... | 0.0018315018315018317 |\n",
      "+------------+-----+-----------------------+\n",
      "| age(70-79) | ... | 0.0018315018315018317 |\n",
      "+------------+-----+-----------------------+ \n",
      "\n",
      " ================================================================================ \n",
      "\n",
      "CPT of inv-nodes:\n",
      "+------------------+-----+----------------------+\n",
      "| node-caps        | ... | node-caps(yes)       |\n",
      "+------------------+-----+----------------------+\n",
      "| inv-nodes(0-2)   | ... | 0.1601981833195706   |\n",
      "+------------------+-----+----------------------+\n",
      "| inv-nodes(12-14) | ... | 0.03881090008257638  |\n",
      "+------------------+-----+----------------------+\n",
      "| inv-nodes(15-17) | ... | 0.09083402146985961  |\n",
      "+------------------+-----+----------------------+\n",
      "| inv-nodes(24-26) | ... | 0.021469859620148638 |\n",
      "+------------------+-----+----------------------+\n",
      "| inv-nodes(3-5)   | ... | 0.333608587943848    |\n",
      "+------------------+-----+----------------------+\n",
      "| inv-nodes(6-8)   | ... | 0.2469033856317093   |\n",
      "+------------------+-----+----------------------+\n",
      "| inv-nodes(9-11)  | ... | 0.10817506193228736  |\n",
      "+------------------+-----+----------------------+ \n",
      "\n",
      " ================================================================================ \n",
      "\n",
      "CPT of irradiat:\n",
      "+---------------+-----+---------------------+\n",
      "| inv-nodes     | ... | inv-nodes(9-11)     |\n",
      "+---------------+-----+---------------------+\n",
      "| irradiat(no)  | ... | 0.31333333333333335 |\n",
      "+---------------+-----+---------------------+\n",
      "| irradiat(yes) | ... | 0.6866666666666666  |\n",
      "+---------------+-----+---------------------+ \n",
      "\n",
      " ================================================================================ \n",
      "\n",
      "CPT of node-caps:\n",
      "+----------------+-----+----------------------+\n",
      "| deg-malig      | ... | deg-malig(3)         |\n",
      "+----------------+-----+----------------------+\n",
      "| node-caps(?)   | ... | 0.029487179487179483 |\n",
      "+----------------+-----+----------------------+\n",
      "| node-caps(no)  | ... | 0.617948717948718    |\n",
      "+----------------+-----+----------------------+\n",
      "| node-caps(yes) | ... | 0.3525641025641026   |\n",
      "+----------------+-----+----------------------+ \n",
      "\n",
      " ================================================================================ \n",
      "\n",
      "CPT of deg-malig:\n",
      "+--------------+----------+\n",
      "| deg-malig(1) | 0.249714 |\n",
      "+--------------+----------+\n",
      "| deg-malig(2) | 0.452463 |\n",
      "+--------------+----------+\n",
      "| deg-malig(3) | 0.297824 |\n",
      "+--------------+----------+ \n",
      "\n",
      " ================================================================================ \n",
      "\n",
      "CPT of Class:\n",
      "+-----------------------------+-----+---------------------+\n",
      "| deg-malig                   | ... | deg-malig(3)        |\n",
      "+-----------------------------+-----+---------------------+\n",
      "| Class(no-recurrence-events) | ... | 0.47115384615384615 |\n",
      "+-----------------------------+-----+---------------------+\n",
      "| Class(recurrence-events)    | ... | 0.5288461538461539  |\n",
      "+-----------------------------+-----+---------------------+ \n",
      "\n",
      " ================================================================================ \n",
      "\n",
      "CPT of breast:\n",
      "+---------------+----------+\n",
      "| breast(left)  | 0.530928 |\n",
      "+---------------+----------+\n",
      "| breast(right) | 0.469072 |\n",
      "+---------------+----------+ \n",
      "\n",
      " ================================================================================ \n",
      "\n",
      "CPT of breast-quad:\n",
      "+------------------------+---------------------+-----------------------+\n",
      "| breast                 | breast(left)        | breast(right)         |\n",
      "+------------------------+---------------------+-----------------------+\n",
      "| breast-quad(?)         | 0.00916936353829558 | 0.0030525030525030525 |\n",
      "+------------------------+---------------------+-----------------------+\n",
      "| breast-quad(central)   | 0.07389428263214672 | 0.0763125763125763    |\n",
      "+------------------------+---------------------+-----------------------+\n",
      "| breast-quad(left_low)  | 0.5075512405609495  | 0.23748473748473747   |\n",
      "+------------------------+---------------------+-----------------------+\n",
      "| breast-quad(left_up)   | 0.23570658036677458 | 0.4499389499389499    |\n",
      "+------------------------+---------------------+-----------------------+\n",
      "| breast-quad(right_low) | 0.11272923408845742 | 0.054334554334554336  |\n",
      "+------------------------+---------------------+-----------------------+\n",
      "| breast-quad(right_up)  | 0.06094929881337649 | 0.17887667887667888   |\n",
      "+------------------------+---------------------+-----------------------+ \n",
      "\n",
      " ================================================================================ \n",
      "\n"
     ]
    }
   ],
   "source": [
    "model.fit(data=data, estimator=BayesianEstimator, prior_type=\"BDeu\")\n",
    "\n",
    "for cpd in model.get_cpds():\n",
    "    print(f'CPT of {cpd.variable}:')\n",
    "    print(cpd, 2*'\\n', 80*\"=\", '\\n')\n"
   ]
  },
  {
   "cell_type": "markdown",
   "metadata": {},
   "source": [
    "Checking if it has errors"
   ]
  },
  {
   "cell_type": "code",
   "execution_count": 24,
   "metadata": {},
   "outputs": [
    {
     "data": {
      "text/plain": [
       "True"
      ]
     },
     "execution_count": 24,
     "metadata": {},
     "output_type": "execute_result"
    }
   ],
   "source": [
    "model.check_model()"
   ]
  },
  {
   "cell_type": "markdown",
   "metadata": {},
   "source": [
    "Cardinality of all model nodes"
   ]
  },
  {
   "cell_type": "code",
   "execution_count": 25,
   "metadata": {},
   "outputs": [
    {
     "data": {
      "text/plain": [
       "defaultdict(int,\n",
       "            {'menopause': 3,\n",
       "             'age': 6,\n",
       "             'inv-nodes': 7,\n",
       "             'irradiat': 2,\n",
       "             'node-caps': 3,\n",
       "             'deg-malig': 3,\n",
       "             'Class': 2,\n",
       "             'breast': 2,\n",
       "             'breast-quad': 6})"
      ]
     },
     "execution_count": 25,
     "metadata": {},
     "output_type": "execute_result"
    }
   ],
   "source": [
    "model.get_cardinality()"
   ]
  },
  {
   "cell_type": "markdown",
   "metadata": {},
   "source": [
    "Checking the markov blanket for Classification  and Glucose"
   ]
  },
  {
   "cell_type": "code",
   "execution_count": 26,
   "metadata": {},
   "outputs": [
    {
     "name": "stdout",
     "output_type": "stream",
     "text": [
      "Markov blanket for variable:\n"
     ]
    },
    {
     "ename": "NetworkXError",
     "evalue": "The node Classification is not in the digraph.",
     "output_type": "error",
     "traceback": [
      "\u001b[0;31m---------------------------------------------------------------------------\u001b[0m",
      "\u001b[0;31mKeyError\u001b[0m                                  Traceback (most recent call last)",
      "File \u001b[0;32m~/anaconda3/envs/FAIKR3/lib/python3.9/site-packages/networkx/classes/digraph.py:807\u001b[0m, in \u001b[0;36mDiGraph.successors\u001b[0;34m(self, n)\u001b[0m\n\u001b[1;32m    806\u001b[0m \u001b[39mtry\u001b[39;00m:\n\u001b[0;32m--> 807\u001b[0m     \u001b[39mreturn\u001b[39;00m \u001b[39miter\u001b[39m(\u001b[39mself\u001b[39;49m\u001b[39m.\u001b[39;49m_succ[n])\n\u001b[1;32m    808\u001b[0m \u001b[39mexcept\u001b[39;00m \u001b[39mKeyError\u001b[39;00m \u001b[39mas\u001b[39;00m err:\n",
      "\u001b[0;31mKeyError\u001b[0m: 'Classification'",
      "\nThe above exception was the direct cause of the following exception:\n",
      "\u001b[0;31mNetworkXError\u001b[0m                             Traceback (most recent call last)",
      "\u001b[1;32m/media/sam/COMMON/UNIVERSITA/FAI/Module_3/FAIKR3-Project/breast-cancer.ipynb Cell 24'\u001b[0m in \u001b[0;36m<cell line: 2>\u001b[0;34m()\u001b[0m\n\u001b[1;32m      <a href='vscode-notebook-cell:/media/sam/COMMON/UNIVERSITA/FAI/Module_3/FAIKR3-Project/breast-cancer.ipynb#ch0000024?line=0'>1</a>\u001b[0m \u001b[39mprint\u001b[39m(\u001b[39m\"\u001b[39m\u001b[39mMarkov blanket for variable:\u001b[39m\u001b[39m\"\u001b[39m)\n\u001b[0;32m----> <a href='vscode-notebook-cell:/media/sam/COMMON/UNIVERSITA/FAI/Module_3/FAIKR3-Project/breast-cancer.ipynb#ch0000024?line=1'>2</a>\u001b[0m \u001b[39mprint\u001b[39m(\u001b[39m\"\u001b[39m\u001b[39mClassification: \u001b[39m\u001b[39m\"\u001b[39m, model\u001b[39m.\u001b[39;49mget_markov_blanket(\u001b[39m\"\u001b[39;49m\u001b[39mClassification\u001b[39;49m\u001b[39m\"\u001b[39;49m))\n\u001b[1;32m      <a href='vscode-notebook-cell:/media/sam/COMMON/UNIVERSITA/FAI/Module_3/FAIKR3-Project/breast-cancer.ipynb#ch0000024?line=2'>3</a>\u001b[0m \u001b[39mprint\u001b[39m(\u001b[39m\"\u001b[39m\u001b[39mGlucose: \u001b[39m\u001b[39m\"\u001b[39m, model\u001b[39m.\u001b[39mget_markov_blanket(\u001b[39m\"\u001b[39m\u001b[39mGlucose\u001b[39m\u001b[39m\"\u001b[39m))\n",
      "File \u001b[0;32m~/anaconda3/envs/FAIKR3/lib/python3.9/site-packages/pgmpy/models/BayesianNetwork.py:937\u001b[0m, in \u001b[0;36mBayesianNetwork.get_markov_blanket\u001b[0;34m(self, node)\u001b[0m\n\u001b[1;32m    912\u001b[0m \u001b[39mdef\u001b[39;00m \u001b[39mget_markov_blanket\u001b[39m(\u001b[39mself\u001b[39m, node):\n\u001b[1;32m    913\u001b[0m     \u001b[39m\"\"\"\u001b[39;00m\n\u001b[1;32m    914\u001b[0m \u001b[39m    Returns a markov blanket for a random variable. In the case\u001b[39;00m\n\u001b[1;32m    915\u001b[0m \u001b[39m    of Bayesian Networks, the markov blanket is the set of\u001b[39;00m\n\u001b[0;32m   (...)\u001b[0m\n\u001b[1;32m    935\u001b[0m \u001b[39m    ['s', 'u', 'w', 'v', 'z', 'x']\u001b[39;00m\n\u001b[1;32m    936\u001b[0m \u001b[39m    \"\"\"\u001b[39;00m\n\u001b[0;32m--> 937\u001b[0m     children \u001b[39m=\u001b[39m \u001b[39mself\u001b[39;49m\u001b[39m.\u001b[39;49mget_children(node)\n\u001b[1;32m    938\u001b[0m     parents \u001b[39m=\u001b[39m \u001b[39mself\u001b[39m\u001b[39m.\u001b[39mget_parents(node)\n\u001b[1;32m    939\u001b[0m     blanket_nodes \u001b[39m=\u001b[39m children \u001b[39m+\u001b[39m parents\n",
      "File \u001b[0;32m~/anaconda3/envs/FAIKR3/lib/python3.9/site-packages/pgmpy/base/DAG.py:392\u001b[0m, in \u001b[0;36mDAG.get_children\u001b[0;34m(self, node)\u001b[0m\n\u001b[1;32m    374\u001b[0m \u001b[39mdef\u001b[39;00m \u001b[39mget_children\u001b[39m(\u001b[39mself\u001b[39m, node):\n\u001b[1;32m    375\u001b[0m     \u001b[39m\"\"\"\u001b[39;00m\n\u001b[1;32m    376\u001b[0m \u001b[39m    Returns a list of children of node.\u001b[39;00m\n\u001b[1;32m    377\u001b[0m \u001b[39m    Throws an error if the node is not present in the graph.\u001b[39;00m\n\u001b[0;32m   (...)\u001b[0m\n\u001b[1;32m    390\u001b[0m \u001b[39m    ['D', 'E', 'F']\u001b[39;00m\n\u001b[1;32m    391\u001b[0m \u001b[39m    \"\"\"\u001b[39;00m\n\u001b[0;32m--> 392\u001b[0m     \u001b[39mreturn\u001b[39;00m \u001b[39mlist\u001b[39m(\u001b[39mself\u001b[39;49m\u001b[39m.\u001b[39;49msuccessors(node))\n",
      "File \u001b[0;32m~/anaconda3/envs/FAIKR3/lib/python3.9/site-packages/networkx/classes/digraph.py:809\u001b[0m, in \u001b[0;36mDiGraph.successors\u001b[0;34m(self, n)\u001b[0m\n\u001b[1;32m    807\u001b[0m     \u001b[39mreturn\u001b[39;00m \u001b[39miter\u001b[39m(\u001b[39mself\u001b[39m\u001b[39m.\u001b[39m_succ[n])\n\u001b[1;32m    808\u001b[0m \u001b[39mexcept\u001b[39;00m \u001b[39mKeyError\u001b[39;00m \u001b[39mas\u001b[39;00m err:\n\u001b[0;32m--> 809\u001b[0m     \u001b[39mraise\u001b[39;00m NetworkXError(\u001b[39mf\u001b[39m\u001b[39m\"\u001b[39m\u001b[39mThe node \u001b[39m\u001b[39m{\u001b[39;00mn\u001b[39m}\u001b[39;00m\u001b[39m is not in the digraph.\u001b[39m\u001b[39m\"\u001b[39m) \u001b[39mfrom\u001b[39;00m \u001b[39merr\u001b[39;00m\n",
      "\u001b[0;31mNetworkXError\u001b[0m: The node Classification is not in the digraph."
     ]
    }
   ],
   "source": [
    "print(\"Markov blanket for variable:\")\n",
    "print(\"Classification: \", model.get_markov_blanket(\"Classification\"))\n",
    "print(\"Glucose: \", model.get_markov_blanket(\"Glucose\"))"
   ]
  }
 ],
 "metadata": {
  "kernelspec": {
   "display_name": "Python 3.9.12 ('FAIKR3')",
   "language": "python",
   "name": "python3"
  },
  "language_info": {
   "codemirror_mode": {
    "name": "ipython",
    "version": 3
   },
   "file_extension": ".py",
   "mimetype": "text/x-python",
   "name": "python",
   "nbconvert_exporter": "python",
   "pygments_lexer": "ipython3",
   "version": "3.9.12"
  },
  "orig_nbformat": 4,
  "vscode": {
   "interpreter": {
    "hash": "b1271c15daf27ce1261d6a1134f79b209dab52771e7f933454657a66d1b3a73a"
   }
  }
 },
 "nbformat": 4,
 "nbformat_minor": 2
}
